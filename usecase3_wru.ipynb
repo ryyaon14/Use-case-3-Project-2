{
 "cells": [
  {
   "cell_type": "code",
   "execution_count": 109,
   "id": "8297d83d-3c1b-4db3-ae89-8b61e5ddefe0",
   "metadata": {},
   "outputs": [],
   "source": [
    "import numpy as np\n",
    "import pandas as pd\n",
    "import matplotlib.pyplot as plt\n",
    "import seaborn as sns\n",
    "from scipy.stats import zscore\n",
    "import plotly.graph_objects as go\n",
    "import plotly.express as px\n",
    "import plotly.io as pio\n",
    "%matplotlib inline"
   ]
  },
  {
   "cell_type": "markdown",
   "id": "e1ecb684",
   "metadata": {},
   "source": [
    "## Loading the data"
   ]
  },
  {
   "cell_type": "code",
   "execution_count": 6,
   "id": "66494619-e50b-4636-8e9f-fed5fa22c7fd",
   "metadata": {},
   "outputs": [],
   "source": [
    "wru_ranking = pd.read_csv(\"Word Rank University.csv\")"
   ]
  },
  {
   "cell_type": "markdown",
   "id": "edda8945",
   "metadata": {},
   "source": [
    "### Viewing the dataframde"
   ]
  },
  {
   "cell_type": "code",
   "execution_count": 7,
   "id": "85416399-d524-4c5f-82ec-6b5c5d72a928",
   "metadata": {},
   "outputs": [
    {
     "data": {
      "text/html": [
       "<div>\n",
       "<style scoped>\n",
       "    .dataframe tbody tr th:only-of-type {\n",
       "        vertical-align: middle;\n",
       "    }\n",
       "\n",
       "    .dataframe tbody tr th {\n",
       "        vertical-align: top;\n",
       "    }\n",
       "\n",
       "    .dataframe thead th {\n",
       "        text-align: right;\n",
       "    }\n",
       "</style>\n",
       "<table border=\"1\" class=\"dataframe\">\n",
       "  <thead>\n",
       "    <tr style=\"text-align: right;\">\n",
       "      <th></th>\n",
       "      <th>World Rank</th>\n",
       "      <th>University Names</th>\n",
       "      <th>Location</th>\n",
       "      <th>National Rank</th>\n",
       "      <th>Educational Rank</th>\n",
       "      <th>Employability Rank</th>\n",
       "      <th>Faculty Rank</th>\n",
       "      <th>Research Rank</th>\n",
       "      <th>Score</th>\n",
       "    </tr>\n",
       "  </thead>\n",
       "  <tbody>\n",
       "    <tr>\n",
       "      <th>0</th>\n",
       "      <td>1Top 0.1%</td>\n",
       "      <td>Harvard University\\r\\n  CWUR Rating System:   ...</td>\n",
       "      <td>USA</td>\n",
       "      <td>1</td>\n",
       "      <td>1</td>\n",
       "      <td>1</td>\n",
       "      <td>1</td>\n",
       "      <td>1</td>\n",
       "      <td>100.0</td>\n",
       "    </tr>\n",
       "    <tr>\n",
       "      <th>1</th>\n",
       "      <td>2Top 0.1%</td>\n",
       "      <td>Massachusetts Institute of Technology\\r\\n  Edu...</td>\n",
       "      <td>USA</td>\n",
       "      <td>2</td>\n",
       "      <td>4</td>\n",
       "      <td>12</td>\n",
       "      <td>3</td>\n",
       "      <td>9</td>\n",
       "      <td>96.7</td>\n",
       "    </tr>\n",
       "    <tr>\n",
       "      <th>2</th>\n",
       "      <td>3Top 0.1%</td>\n",
       "      <td>Stanford University\\r\\n  Education: A+; Employ...</td>\n",
       "      <td>USA</td>\n",
       "      <td>3</td>\n",
       "      <td>11</td>\n",
       "      <td>4</td>\n",
       "      <td>2</td>\n",
       "      <td>2</td>\n",
       "      <td>95.2</td>\n",
       "    </tr>\n",
       "    <tr>\n",
       "      <th>3</th>\n",
       "      <td>4Top 0.1%</td>\n",
       "      <td>University of Cambridge\\r\\n  Education: A+; Em...</td>\n",
       "      <td>United Kingdom</td>\n",
       "      <td>1</td>\n",
       "      <td>3</td>\n",
       "      <td>25</td>\n",
       "      <td>5</td>\n",
       "      <td>11</td>\n",
       "      <td>94.1</td>\n",
       "    </tr>\n",
       "    <tr>\n",
       "      <th>4</th>\n",
       "      <td>5Top 0.1%</td>\n",
       "      <td>University of Oxford\\r\\n  Education: A+; Emplo...</td>\n",
       "      <td>United Kingdom</td>\n",
       "      <td>2</td>\n",
       "      <td>7</td>\n",
       "      <td>27</td>\n",
       "      <td>9</td>\n",
       "      <td>4</td>\n",
       "      <td>93.3</td>\n",
       "    </tr>\n",
       "    <tr>\n",
       "      <th>5</th>\n",
       "      <td>6Top 0.1%</td>\n",
       "      <td>Princeton University\\r\\n  Education: A+; Emplo...</td>\n",
       "      <td>USA</td>\n",
       "      <td>4</td>\n",
       "      <td>5</td>\n",
       "      <td>16</td>\n",
       "      <td>6</td>\n",
       "      <td>82</td>\n",
       "      <td>92.6</td>\n",
       "    </tr>\n",
       "    <tr>\n",
       "      <th>6</th>\n",
       "      <td>7Top 0.1%</td>\n",
       "      <td>University of Chicago\\r\\n  Education: A+; Empl...</td>\n",
       "      <td>USA</td>\n",
       "      <td>5</td>\n",
       "      <td>8</td>\n",
       "      <td>15</td>\n",
       "      <td>22</td>\n",
       "      <td>28</td>\n",
       "      <td>92.1</td>\n",
       "    </tr>\n",
       "    <tr>\n",
       "      <th>7</th>\n",
       "      <td>8Top 0.1%</td>\n",
       "      <td>Columbia University\\r\\n  Education: A+; Employ...</td>\n",
       "      <td>USA</td>\n",
       "      <td>6</td>\n",
       "      <td>12</td>\n",
       "      <td>14</td>\n",
       "      <td>10</td>\n",
       "      <td>13</td>\n",
       "      <td>91.6</td>\n",
       "    </tr>\n",
       "    <tr>\n",
       "      <th>8</th>\n",
       "      <td>9Top 0.1%</td>\n",
       "      <td>University of Pennsylvania\\r\\n  Education: A; ...</td>\n",
       "      <td>USA</td>\n",
       "      <td>7</td>\n",
       "      <td>14</td>\n",
       "      <td>8</td>\n",
       "      <td>45</td>\n",
       "      <td>12</td>\n",
       "      <td>91.2</td>\n",
       "    </tr>\n",
       "    <tr>\n",
       "      <th>9</th>\n",
       "      <td>10Top 0.1%</td>\n",
       "      <td>Yale University\\r\\n  Education: A+; Employabil...</td>\n",
       "      <td>USA</td>\n",
       "      <td>8</td>\n",
       "      <td>6</td>\n",
       "      <td>35</td>\n",
       "      <td>13</td>\n",
       "      <td>21</td>\n",
       "      <td>90.8</td>\n",
       "    </tr>\n",
       "  </tbody>\n",
       "</table>\n",
       "</div>"
      ],
      "text/plain": [
       "   World Rank                                   University Names  \\\n",
       "0   1Top 0.1%  Harvard University\\r\\n  CWUR Rating System:   ...   \n",
       "1   2Top 0.1%  Massachusetts Institute of Technology\\r\\n  Edu...   \n",
       "2   3Top 0.1%  Stanford University\\r\\n  Education: A+; Employ...   \n",
       "3   4Top 0.1%  University of Cambridge\\r\\n  Education: A+; Em...   \n",
       "4   5Top 0.1%  University of Oxford\\r\\n  Education: A+; Emplo...   \n",
       "5   6Top 0.1%  Princeton University\\r\\n  Education: A+; Emplo...   \n",
       "6   7Top 0.1%  University of Chicago\\r\\n  Education: A+; Empl...   \n",
       "7   8Top 0.1%  Columbia University\\r\\n  Education: A+; Employ...   \n",
       "8   9Top 0.1%  University of Pennsylvania\\r\\n  Education: A; ...   \n",
       "9  10Top 0.1%  Yale University\\r\\n  Education: A+; Employabil...   \n",
       "\n",
       "        Location   National Rank Educational Rank Employability Rank  \\\n",
       "0             USA              1                1                  1   \n",
       "1             USA              2                4                 12   \n",
       "2             USA              3               11                  4   \n",
       "3  United Kingdom              1                3                 25   \n",
       "4  United Kingdom              2                7                 27   \n",
       "5             USA              4                5                 16   \n",
       "6             USA              5                8                 15   \n",
       "7             USA              6               12                 14   \n",
       "8             USA              7               14                  8   \n",
       "9             USA              8                6                 35   \n",
       "\n",
       "  Faculty Rank Research Rank  Score  \n",
       "0            1             1  100.0  \n",
       "1            3             9   96.7  \n",
       "2            2             2   95.2  \n",
       "3            5            11   94.1  \n",
       "4            9             4   93.3  \n",
       "5            6            82   92.6  \n",
       "6           22            28   92.1  \n",
       "7           10            13   91.6  \n",
       "8           45            12   91.2  \n",
       "9           13            21   90.8  "
      ]
     },
     "execution_count": 7,
     "metadata": {},
     "output_type": "execute_result"
    }
   ],
   "source": [
    "wru_ranking.head(10)"
   ]
  },
  {
   "cell_type": "markdown",
   "id": "766e2336",
   "metadata": {},
   "source": [
    "## 1. Data Profiling:"
   ]
  },
  {
   "cell_type": "code",
   "execution_count": 8,
   "id": "2c4b9ddf",
   "metadata": {},
   "outputs": [
    {
     "name": "stdout",
     "output_type": "stream",
     "text": [
      "<class 'pandas.core.frame.DataFrame'>\n",
      "RangeIndex: 2000 entries, 0 to 1999\n",
      "Data columns (total 9 columns):\n",
      " #   Column              Non-Null Count  Dtype  \n",
      "---  ------              --------------  -----  \n",
      " 0   World Rank          2000 non-null   object \n",
      " 1   University Names    2000 non-null   object \n",
      " 2   Location            2000 non-null   object \n",
      " 3   National Rank       2000 non-null   int64  \n",
      " 4   Educational Rank    2000 non-null   object \n",
      " 5   Employability Rank  2000 non-null   object \n",
      " 6   Faculty Rank        2000 non-null   object \n",
      " 7   Research Rank       2000 non-null   object \n",
      " 8   Score               2000 non-null   float64\n",
      "dtypes: float64(1), int64(1), object(7)\n",
      "memory usage: 140.8+ KB\n"
     ]
    }
   ],
   "source": [
    "wru_ranking.info()"
   ]
  },
  {
   "cell_type": "code",
   "execution_count": 9,
   "id": "d46510d1",
   "metadata": {},
   "outputs": [
    {
     "data": {
      "text/plain": [
       "(2000, 9)"
      ]
     },
     "execution_count": 9,
     "metadata": {},
     "output_type": "execute_result"
    }
   ],
   "source": [
    "wru_ranking.shape"
   ]
  },
  {
   "cell_type": "code",
   "execution_count": 10,
   "id": "b6585682-f172-4451-8c8e-fb407de5c206",
   "metadata": {},
   "outputs": [
    {
     "data": {
      "text/plain": [
       "World Rank             object\n",
       "University Names       object\n",
       "Location               object\n",
       "National Rank           int64\n",
       "Educational Rank       object\n",
       "Employability Rank     object\n",
       "Faculty Rank           object\n",
       "Research Rank          object\n",
       "Score                 float64\n",
       "dtype: object"
      ]
     },
     "execution_count": 10,
     "metadata": {},
     "output_type": "execute_result"
    }
   ],
   "source": [
    "wru_ranking.dtypes"
   ]
  },
  {
   "cell_type": "code",
   "execution_count": 11,
   "id": "875e65ba",
   "metadata": {},
   "outputs": [
    {
     "name": "stdout",
     "output_type": "stream",
     "text": [
      "<class 'pandas.core.frame.DataFrame'>\n",
      "RangeIndex: 2000 entries, 0 to 1999\n",
      "Data columns (total 9 columns):\n",
      " #   Column              Non-Null Count  Dtype  \n",
      "---  ------              --------------  -----  \n",
      " 0   World Rank          2000 non-null   object \n",
      " 1   University Names    2000 non-null   object \n",
      " 2   Location            2000 non-null   object \n",
      " 3   National Rank       2000 non-null   int64  \n",
      " 4   Educational Rank    2000 non-null   object \n",
      " 5   Employability Rank  2000 non-null   object \n",
      " 6   Faculty Rank        2000 non-null   object \n",
      " 7   Research Rank       2000 non-null   object \n",
      " 8   Score               2000 non-null   float64\n",
      "dtypes: float64(1), int64(1), object(7)\n",
      "memory usage: 140.8+ KB\n"
     ]
    }
   ],
   "source": [
    "wru_ranking.info()"
   ]
  },
  {
   "cell_type": "markdown",
   "id": "591385d6",
   "metadata": {},
   "source": [
    "## Data Quality Checks"
   ]
  },
  {
   "cell_type": "markdown",
   "id": "5a58d210",
   "metadata": {},
   "source": [
    "### 1. Reliability of the data"
   ]
  },
  {
   "cell_type": "markdown",
   "id": "cf984396",
   "metadata": {},
   "source": [
    "Data is reliable from the source as it is consistent with their website."
   ]
  },
  {
   "cell_type": "markdown",
   "id": "786adfa5",
   "metadata": {},
   "source": [
    "### 2. Timeliness of the data"
   ]
  },
  {
   "cell_type": "markdown",
   "id": "e374a8db",
   "metadata": {},
   "source": [
    "Data is updated as of 2024"
   ]
  },
  {
   "cell_type": "markdown",
   "id": "e651ee6b",
   "metadata": {},
   "source": [
    "### 3. Consistency of the data"
   ]
  },
  {
   "cell_type": "markdown",
   "id": "66ceacb1",
   "metadata": {},
   "source": [
    "Data is consistent with data found on wru website"
   ]
  },
  {
   "cell_type": "markdown",
   "id": "16233172",
   "metadata": {},
   "source": [
    "### 4. Relevance of the data"
   ]
  },
  {
   "cell_type": "code",
   "execution_count": 12,
   "id": "9c497430",
   "metadata": {},
   "outputs": [
    {
     "data": {
      "text/plain": [
       "Index(['World Rank', 'University Names', 'Location ', 'National Rank',\n",
       "       'Educational Rank', 'Employability Rank', 'Faculty Rank',\n",
       "       'Research Rank', 'Score'],\n",
       "      dtype='object')"
      ]
     },
     "execution_count": 12,
     "metadata": {},
     "output_type": "execute_result"
    }
   ],
   "source": [
    "wru_ranking.columns"
   ]
  },
  {
   "cell_type": "markdown",
   "id": "bc9214bc",
   "metadata": {},
   "source": [
    "The data is relevant to the case study we intend to study  and its columns are relevant to the questions we intend to answer."
   ]
  },
  {
   "cell_type": "markdown",
   "id": "34677e8c",
   "metadata": {},
   "source": [
    "### 5. Uniqueness of the data"
   ]
  },
  {
   "cell_type": "code",
   "execution_count": 13,
   "id": "b380b6d5",
   "metadata": {},
   "outputs": [
    {
     "data": {
      "text/plain": [
       "0"
      ]
     },
     "execution_count": 13,
     "metadata": {},
     "output_type": "execute_result"
    }
   ],
   "source": [
    "wru_ranking.duplicated().sum()"
   ]
  },
  {
   "cell_type": "markdown",
   "id": "8e90597a",
   "metadata": {},
   "source": [
    "No duplicated rows found in the dataset"
   ]
  },
  {
   "cell_type": "markdown",
   "id": "d29f1d5c",
   "metadata": {},
   "source": [
    "### 6. Completeness of the data"
   ]
  },
  {
   "cell_type": "code",
   "execution_count": 14,
   "id": "aafa1772-de14-4f08-ba1a-dd293812aee0",
   "metadata": {},
   "outputs": [
    {
     "data": {
      "text/plain": [
       "World Rank            0\n",
       "University Names      0\n",
       "Location              0\n",
       "National Rank         0\n",
       "Educational Rank      0\n",
       "Employability Rank    0\n",
       "Faculty Rank          0\n",
       "Research Rank         0\n",
       "Score                 0\n",
       "dtype: int64"
      ]
     },
     "execution_count": 14,
     "metadata": {},
     "output_type": "execute_result"
    }
   ],
   "source": [
    "wru_ranking.isnull().sum()"
   ]
  },
  {
   "cell_type": "markdown",
   "id": "aa84bf41",
   "metadata": {},
   "source": [
    "We can see that there are no null values. However nulls are represented by - in the dataset. We will replace these with NaNs."
   ]
  },
  {
   "cell_type": "code",
   "execution_count": 15,
   "id": "5984daf3-fcbe-43b3-ac50-4d68e4eceb4c",
   "metadata": {},
   "outputs": [
    {
     "data": {
      "text/plain": [
       "0"
      ]
     },
     "execution_count": 15,
     "metadata": {},
     "output_type": "execute_result"
    }
   ],
   "source": [
    "(wru_ranking['National Rank']=='-').sum()"
   ]
  },
  {
   "cell_type": "code",
   "execution_count": 16,
   "id": "fe256a62-3a37-443c-b9c9-ab28078491ca",
   "metadata": {},
   "outputs": [
    {
     "data": {
      "text/plain": [
       "1562"
      ]
     },
     "execution_count": 16,
     "metadata": {},
     "output_type": "execute_result"
    }
   ],
   "source": [
    "(wru_ranking['Educational Rank']=='-').sum()"
   ]
  },
  {
   "cell_type": "code",
   "execution_count": 17,
   "id": "a7d81c3a-0c14-459c-83c0-b8c4a141e36d",
   "metadata": {},
   "outputs": [
    {
     "data": {
      "text/plain": [
       "967"
      ]
     },
     "execution_count": 17,
     "metadata": {},
     "output_type": "execute_result"
    }
   ],
   "source": [
    "(wru_ranking['Employability Rank']=='-').sum()"
   ]
  },
  {
   "cell_type": "code",
   "execution_count": 18,
   "id": "96722ca7-5000-41f6-b121-037905cebcc0",
   "metadata": {},
   "outputs": [
    {
     "data": {
      "text/plain": [
       "1727"
      ]
     },
     "execution_count": 18,
     "metadata": {},
     "output_type": "execute_result"
    }
   ],
   "source": [
    "(wru_ranking['Faculty Rank']=='-').sum()"
   ]
  },
  {
   "cell_type": "code",
   "execution_count": 19,
   "id": "c6e524f0-2a19-42d1-af35-cd58eecdb8b1",
   "metadata": {},
   "outputs": [
    {
     "data": {
      "text/plain": [
       "66"
      ]
     },
     "execution_count": 19,
     "metadata": {},
     "output_type": "execute_result"
    }
   ],
   "source": [
    "(wru_ranking['Research Rank']=='-').sum()"
   ]
  },
  {
   "cell_type": "code",
   "execution_count": 20,
   "id": "a8abfad6-2c4e-4a32-9144-cd7614eb29cc",
   "metadata": {},
   "outputs": [
    {
     "data": {
      "text/plain": [
       "0"
      ]
     },
     "execution_count": 20,
     "metadata": {},
     "output_type": "execute_result"
    }
   ],
   "source": [
    "(wru_ranking['Score']=='-').sum()"
   ]
  },
  {
   "cell_type": "code",
   "execution_count": 21,
   "id": "2c0df09c",
   "metadata": {},
   "outputs": [],
   "source": [
    "wru_ranking['National Rank'] = wru_ranking['National Rank'].replace('-', np.nan)\n",
    "wru_ranking['National Rank'] = wru_ranking['National Rank'].astype(float)\n",
    "\n",
    "wru_ranking['Educational Rank'] = wru_ranking['Educational Rank'].replace('-', np.nan)\n",
    "wru_ranking['Educational Rank'] = wru_ranking['Educational Rank'].astype(float)\n",
    "\n",
    "wru_ranking['Employability Rank'] = wru_ranking['Employability Rank'].replace('-', np.nan)\n",
    "wru_ranking['Employability Rank'] = wru_ranking['Employability Rank'].astype(float)\n",
    "\n",
    "wru_ranking['Faculty Rank'] = wru_ranking['Faculty Rank'].replace('-', np.nan)\n",
    "wru_ranking['Faculty Rank'] = wru_ranking['Faculty Rank'].astype(float)\n",
    "\n",
    "wru_ranking['Research Rank'] = wru_ranking['Research Rank'].replace('-', np.nan)\n",
    "wru_ranking['Research Rank'] = wru_ranking['Research Rank'].astype(float)"
   ]
  },
  {
   "cell_type": "code",
   "execution_count": 22,
   "id": "96e3027a",
   "metadata": {},
   "outputs": [
    {
     "data": {
      "text/plain": [
       "World Rank               0\n",
       "University Names         0\n",
       "Location                 0\n",
       "National Rank            0\n",
       "Educational Rank      1562\n",
       "Employability Rank     967\n",
       "Faculty Rank          1727\n",
       "Research Rank           66\n",
       "Score                    0\n",
       "dtype: int64"
      ]
     },
     "execution_count": 22,
     "metadata": {},
     "output_type": "execute_result"
    }
   ],
   "source": [
    "wru_ranking.isnull().sum()"
   ]
  },
  {
   "cell_type": "markdown",
   "id": "46bd5d74",
   "metadata": {},
   "source": [
    "Now We can handle the missing values better in the data cleaning section."
   ]
  },
  {
   "cell_type": "code",
   "execution_count": 23,
   "id": "5fae0f45",
   "metadata": {},
   "outputs": [
    {
     "data": {
      "text/html": [
       "<div>\n",
       "<style scoped>\n",
       "    .dataframe tbody tr th:only-of-type {\n",
       "        vertical-align: middle;\n",
       "    }\n",
       "\n",
       "    .dataframe tbody tr th {\n",
       "        vertical-align: top;\n",
       "    }\n",
       "\n",
       "    .dataframe thead th {\n",
       "        text-align: right;\n",
       "    }\n",
       "</style>\n",
       "<table border=\"1\" class=\"dataframe\">\n",
       "  <thead>\n",
       "    <tr style=\"text-align: right;\">\n",
       "      <th></th>\n",
       "      <th>World Rank</th>\n",
       "      <th>University Names</th>\n",
       "      <th>Location</th>\n",
       "      <th>National Rank</th>\n",
       "      <th>Educational Rank</th>\n",
       "      <th>Employability Rank</th>\n",
       "      <th>Faculty Rank</th>\n",
       "      <th>Research Rank</th>\n",
       "      <th>Score</th>\n",
       "    </tr>\n",
       "  </thead>\n",
       "  <tbody>\n",
       "    <tr>\n",
       "      <th>0</th>\n",
       "      <td>1Top 0.1%</td>\n",
       "      <td>Harvard University\\r\\n  CWUR Rating System:   ...</td>\n",
       "      <td>USA</td>\n",
       "      <td>1.0</td>\n",
       "      <td>1.0</td>\n",
       "      <td>1.0</td>\n",
       "      <td>1.0</td>\n",
       "      <td>1.0</td>\n",
       "      <td>100.0</td>\n",
       "    </tr>\n",
       "    <tr>\n",
       "      <th>1</th>\n",
       "      <td>2Top 0.1%</td>\n",
       "      <td>Massachusetts Institute of Technology\\r\\n  Edu...</td>\n",
       "      <td>USA</td>\n",
       "      <td>2.0</td>\n",
       "      <td>4.0</td>\n",
       "      <td>12.0</td>\n",
       "      <td>3.0</td>\n",
       "      <td>9.0</td>\n",
       "      <td>96.7</td>\n",
       "    </tr>\n",
       "    <tr>\n",
       "      <th>2</th>\n",
       "      <td>3Top 0.1%</td>\n",
       "      <td>Stanford University\\r\\n  Education: A+; Employ...</td>\n",
       "      <td>USA</td>\n",
       "      <td>3.0</td>\n",
       "      <td>11.0</td>\n",
       "      <td>4.0</td>\n",
       "      <td>2.0</td>\n",
       "      <td>2.0</td>\n",
       "      <td>95.2</td>\n",
       "    </tr>\n",
       "    <tr>\n",
       "      <th>3</th>\n",
       "      <td>4Top 0.1%</td>\n",
       "      <td>University of Cambridge\\r\\n  Education: A+; Em...</td>\n",
       "      <td>United Kingdom</td>\n",
       "      <td>1.0</td>\n",
       "      <td>3.0</td>\n",
       "      <td>25.0</td>\n",
       "      <td>5.0</td>\n",
       "      <td>11.0</td>\n",
       "      <td>94.1</td>\n",
       "    </tr>\n",
       "    <tr>\n",
       "      <th>4</th>\n",
       "      <td>5Top 0.1%</td>\n",
       "      <td>University of Oxford\\r\\n  Education: A+; Emplo...</td>\n",
       "      <td>United Kingdom</td>\n",
       "      <td>2.0</td>\n",
       "      <td>7.0</td>\n",
       "      <td>27.0</td>\n",
       "      <td>9.0</td>\n",
       "      <td>4.0</td>\n",
       "      <td>93.3</td>\n",
       "    </tr>\n",
       "  </tbody>\n",
       "</table>\n",
       "</div>"
      ],
      "text/plain": [
       "  World Rank                                   University Names  \\\n",
       "0  1Top 0.1%  Harvard University\\r\\n  CWUR Rating System:   ...   \n",
       "1  2Top 0.1%  Massachusetts Institute of Technology\\r\\n  Edu...   \n",
       "2  3Top 0.1%  Stanford University\\r\\n  Education: A+; Employ...   \n",
       "3  4Top 0.1%  University of Cambridge\\r\\n  Education: A+; Em...   \n",
       "4  5Top 0.1%  University of Oxford\\r\\n  Education: A+; Emplo...   \n",
       "\n",
       "        Location   National Rank  Educational Rank  Employability Rank  \\\n",
       "0             USA            1.0               1.0                 1.0   \n",
       "1             USA            2.0               4.0                12.0   \n",
       "2             USA            3.0              11.0                 4.0   \n",
       "3  United Kingdom            1.0               3.0                25.0   \n",
       "4  United Kingdom            2.0               7.0                27.0   \n",
       "\n",
       "   Faculty Rank  Research Rank  Score  \n",
       "0           1.0            1.0  100.0  \n",
       "1           3.0            9.0   96.7  \n",
       "2           2.0            2.0   95.2  \n",
       "3           5.0           11.0   94.1  \n",
       "4           9.0            4.0   93.3  "
      ]
     },
     "execution_count": 23,
     "metadata": {},
     "output_type": "execute_result"
    }
   ],
   "source": [
    "wru_ranking.head()"
   ]
  },
  {
   "cell_type": "markdown",
   "id": "67d6e96b",
   "metadata": {},
   "source": [
    "### 7. Accuracy of the data"
   ]
  },
  {
   "cell_type": "code",
   "execution_count": 24,
   "id": "9e78c88c",
   "metadata": {},
   "outputs": [
    {
     "data": {
      "text/plain": [
       "World Rank             object\n",
       "University Names       object\n",
       "Location               object\n",
       "National Rank         float64\n",
       "Educational Rank      float64\n",
       "Employability Rank    float64\n",
       "Faculty Rank          float64\n",
       "Research Rank         float64\n",
       "Score                 float64\n",
       "dtype: object"
      ]
     },
     "execution_count": 24,
     "metadata": {},
     "output_type": "execute_result"
    }
   ],
   "source": [
    "wru_ranking.dtypes"
   ]
  },
  {
   "cell_type": "markdown",
   "id": "46cde837",
   "metadata": {},
   "source": [
    "The types we have is accurate. Except the world rank we will change it to integer.\n",
    "We will change the data types of the ranks to integers in the updated nonull dataframe."
   ]
  },
  {
   "cell_type": "markdown",
   "id": "9165ca84",
   "metadata": {},
   "source": [
    "We will now check outliers in the data using boxplots."
   ]
  },
  {
   "cell_type": "code",
   "execution_count": 59,
   "id": "f7f08cf6",
   "metadata": {},
   "outputs": [
    {
     "data": {
      "application/vnd.plotly.v1+json": {
       "config": {
        "plotlyServerURL": "https://plot.ly"
       },
       "data": [
        {
         "alignmentgroup": "True",
         "hovertemplate": "Score=%{y}<extra></extra>",
         "legendgroup": "",
         "marker": {
          "color": "#636efa"
         },
         "name": "",
         "notched": false,
         "offsetgroup": "",
         "orientation": "v",
         "showlegend": false,
         "type": "box",
         "x0": " ",
         "xaxis": "x",
         "y": [
          100,
          96.7,
          95.2,
          94.1,
          93.3,
          92.6,
          92.1,
          91.6,
          91.2,
          90.8,
          90.4,
          90.1,
          89.8,
          89.5,
          89.3,
          89.1,
          88.8,
          88.6,
          88.4,
          88.2,
          88,
          87.9,
          87.7,
          87.5,
          87.4,
          87.2,
          87.1,
          87,
          86.8,
          86.7,
          86.6,
          86.4,
          86.3,
          86.2,
          86.1,
          86,
          85.9,
          85.8,
          85.7,
          85.6,
          85.5,
          85.4,
          85.3,
          85.2,
          85.1,
          85,
          84.9,
          84.9,
          84.8,
          84.7,
          84.6,
          84.5,
          84.5,
          84.4,
          84.3,
          84.2,
          84.2,
          84.1,
          84,
          84,
          83.9,
          83.8,
          83.8,
          83.7,
          83.6,
          83.6,
          83.5,
          83.5,
          83.4,
          83.3,
          83.3,
          83.2,
          83.2,
          83.1,
          83,
          83,
          82.9,
          82.9,
          82.8,
          82.8,
          82.7,
          82.7,
          82.6,
          82.6,
          82.5,
          82.5,
          82.4,
          82.4,
          82.3,
          82.3,
          82.2,
          82.2,
          82.1,
          82.1,
          82.1,
          82,
          82,
          81.9,
          81.9,
          81.8,
          81.8,
          81.8,
          81.7,
          81.7,
          81.6,
          81.6,
          81.6,
          81.5,
          81.5,
          81.4,
          81.4,
          81.4,
          81.3,
          81.3,
          81.2,
          81.2,
          81.2,
          81.1,
          81.1,
          81.1,
          81,
          81,
          80.9,
          80.9,
          80.9,
          80.8,
          80.8,
          80.8,
          80.7,
          80.7,
          80.7,
          80.6,
          80.6,
          80.6,
          80.5,
          80.5,
          80.5,
          80.4,
          80.4,
          80.4,
          80.3,
          80.3,
          80.3,
          80.3,
          80.2,
          80.2,
          80.2,
          80.1,
          80.1,
          80.1,
          80,
          80,
          80,
          80,
          79.9,
          79.9,
          79.9,
          79.8,
          79.8,
          79.8,
          79.8,
          79.7,
          79.7,
          79.7,
          79.6,
          79.6,
          79.6,
          79.6,
          79.5,
          79.5,
          79.5,
          79.5,
          79.4,
          79.4,
          79.4,
          79.4,
          79.3,
          79.3,
          79.3,
          79.3,
          79.2,
          79.2,
          79.2,
          79.2,
          79.1,
          79.1,
          79.1,
          79.1,
          79,
          79,
          79,
          79,
          78.9,
          78.9,
          78.9,
          78.9,
          78.8,
          78.8,
          78.8,
          78.8,
          78.7,
          78.7,
          78.7,
          78.7,
          78.7,
          78.6,
          78.6,
          78.6,
          78.6,
          78.5,
          78.5,
          78.5,
          78.5,
          78.5,
          78.4,
          78.4,
          78.4,
          78.4,
          78.3,
          78.3,
          78.3,
          78.3,
          78.3,
          78.2,
          78.2,
          78.2,
          78.2,
          78.2,
          78.1,
          78.1,
          78.1,
          78.1,
          78.1,
          78,
          78,
          78,
          78,
          78,
          77.9,
          77.9,
          77.9,
          77.9,
          77.9,
          77.8,
          77.8,
          77.8,
          77.8,
          77.8,
          77.7,
          77.7,
          77.7,
          77.7,
          77.7,
          77.7,
          77.6,
          77.6,
          77.6,
          77.6,
          77.6,
          77.5,
          77.5,
          77.5,
          77.5,
          77.5,
          77.4,
          77.4,
          77.4,
          77.4,
          77.4,
          77.4,
          77.3,
          77.3,
          77.3,
          77.3,
          77.3,
          77.3,
          77.2,
          77.2,
          77.2,
          77.2,
          77.2,
          77.1,
          77.1,
          77.1,
          77.1,
          77.1,
          77.1,
          77,
          77,
          77,
          77,
          77,
          77,
          76.9,
          76.9,
          76.9,
          76.9,
          76.9,
          76.9,
          76.8,
          76.8,
          76.8,
          76.8,
          76.8,
          76.8,
          76.8,
          76.7,
          76.7,
          76.7,
          76.7,
          76.7,
          76.7,
          76.6,
          76.6,
          76.6,
          76.6,
          76.6,
          76.6,
          76.5,
          76.5,
          76.5,
          76.5,
          76.5,
          76.5,
          76.5,
          76.4,
          76.4,
          76.4,
          76.4,
          76.4,
          76.4,
          76.4,
          76.3,
          76.3,
          76.3,
          76.3,
          76.3,
          76.3,
          76.2,
          76.2,
          76.2,
          76.2,
          76.2,
          76.2,
          76.2,
          76.1,
          76.1,
          76.1,
          76.1,
          76.1,
          76.1,
          76.1,
          76,
          76,
          76,
          76,
          76,
          76,
          76,
          76,
          75.9,
          75.9,
          75.9,
          75.9,
          75.9,
          75.9,
          75.9,
          75.8,
          75.8,
          75.8,
          75.8,
          75.8,
          75.8,
          75.8,
          75.7,
          75.7,
          75.7,
          75.7,
          75.7,
          75.7,
          75.7,
          75.7,
          75.6,
          75.6,
          75.6,
          75.6,
          75.6,
          75.6,
          75.6,
          75.5,
          75.5,
          75.5,
          75.5,
          75.5,
          75.5,
          75.5,
          75.5,
          75.4,
          75.4,
          75.4,
          75.4,
          75.4,
          75.4,
          75.4,
          75.4,
          75.3,
          75.3,
          75.3,
          75.3,
          75.3,
          75.3,
          75.3,
          75.3,
          75.2,
          75.2,
          75.2,
          75.2,
          75.2,
          75.2,
          75.2,
          75.2,
          75.1,
          75.1,
          75.1,
          75.1,
          75.1,
          75.1,
          75.1,
          75.1,
          75.1,
          75,
          75,
          75,
          75,
          75,
          75,
          75,
          75,
          74.9,
          74.9,
          74.9,
          74.9,
          74.9,
          74.9,
          74.9,
          74.9,
          74.9,
          74.8,
          74.8,
          74.8,
          74.8,
          74.8,
          74.8,
          74.8,
          74.8,
          74.7,
          74.7,
          74.7,
          74.7,
          74.7,
          74.7,
          74.7,
          74.7,
          74.7,
          74.6,
          74.6,
          74.6,
          74.6,
          74.6,
          74.6,
          74.6,
          74.6,
          74.6,
          74.5,
          74.5,
          74.5,
          74.5,
          74.5,
          74.5,
          74.5,
          74.5,
          74.5,
          74.5,
          74.4,
          74.4,
          74.4,
          74.4,
          74.4,
          74.4,
          74.4,
          74.4,
          74.4,
          74.3,
          74.3,
          74.3,
          74.3,
          74.3,
          74.3,
          74.3,
          74.3,
          74.3,
          74.2,
          74.2,
          74.2,
          74.2,
          74.2,
          74.2,
          74.2,
          74.2,
          74.2,
          74.2,
          74.1,
          74.1,
          74.1,
          74.1,
          74.1,
          74.1,
          74.1,
          74.1,
          74.1,
          74.1,
          74,
          74,
          74,
          74,
          74,
          74,
          74,
          74,
          74,
          74,
          73.9,
          73.9,
          73.9,
          73.9,
          73.9,
          73.9,
          73.9,
          73.9,
          73.9,
          73.9,
          73.8,
          73.8,
          73.8,
          73.8,
          73.8,
          73.8,
          73.8,
          73.8,
          73.8,
          73.8,
          73.7,
          73.7,
          73.7,
          73.7,
          73.7,
          73.7,
          73.7,
          73.7,
          73.7,
          73.7,
          73.7,
          73.6,
          73.6,
          73.6,
          73.6,
          73.6,
          73.6,
          73.6,
          73.6,
          73.6,
          73.6,
          73.5,
          73.5,
          73.5,
          73.5,
          73.5,
          73.5,
          73.5,
          73.5,
          73.5,
          73.5,
          73.5,
          73.4,
          73.4,
          73.4,
          73.4,
          73.4,
          73.4,
          73.4,
          73.4,
          73.4,
          73.4,
          73.4,
          73.3,
          73.3,
          73.3,
          73.3,
          73.3,
          73.3,
          73.3,
          73.3,
          73.3,
          73.3,
          73.3,
          73.2,
          73.2,
          73.2,
          73.2,
          73.2,
          73.2,
          73.2,
          73.2,
          73.2,
          73.2,
          73.2,
          73.1,
          73.1,
          73.1,
          73.1,
          73.1,
          73.1,
          73.1,
          73.1,
          73.1,
          73.1,
          73.1,
          73.1,
          73,
          73,
          73,
          73,
          73,
          73,
          73,
          73,
          73,
          73,
          73,
          72.9,
          72.9,
          72.9,
          72.9,
          72.9,
          72.9,
          72.9,
          72.9,
          72.9,
          72.9,
          72.9,
          72.9,
          72.8,
          72.8,
          72.8,
          72.8,
          72.8,
          72.8,
          72.8,
          72.8,
          72.8,
          72.8,
          72.8,
          72.8,
          72.7,
          72.7,
          72.7,
          72.7,
          72.7,
          72.7,
          72.7,
          72.7,
          72.7,
          72.7,
          72.7,
          72.7,
          72.6,
          72.6,
          72.6,
          72.6,
          72.6,
          72.6,
          72.6,
          72.6,
          72.6,
          72.6,
          72.6,
          72.6,
          72.6,
          72.5,
          72.5,
          72.5,
          72.5,
          72.5,
          72.5,
          72.5,
          72.5,
          72.5,
          72.5,
          72.5,
          72.5,
          72.4,
          72.4,
          72.4,
          72.4,
          72.4,
          72.4,
          72.4,
          72.4,
          72.4,
          72.4,
          72.4,
          72.4,
          72.4,
          72.3,
          72.3,
          72.3,
          72.3,
          72.3,
          72.3,
          72.3,
          72.3,
          72.3,
          72.3,
          72.3,
          72.3,
          72.3,
          72.2,
          72.2,
          72.2,
          72.2,
          72.2,
          72.2,
          72.2,
          72.2,
          72.2,
          72.2,
          72.2,
          72.2,
          72.2,
          72.1,
          72.1,
          72.1,
          72.1,
          72.1,
          72.1,
          72.1,
          72.1,
          72.1,
          72.1,
          72.1,
          72.1,
          72.1,
          72,
          72,
          72,
          72,
          72,
          72,
          72,
          72,
          72,
          72,
          72,
          72,
          72,
          71.9,
          71.9,
          71.9,
          71.9,
          71.9,
          71.9,
          71.9,
          71.9,
          71.9,
          71.9,
          71.9,
          71.9,
          71.9,
          71.9,
          71.8,
          71.8,
          71.8,
          71.8,
          71.8,
          71.8,
          71.8,
          71.8,
          71.8,
          71.8,
          71.8,
          71.8,
          71.8,
          71.8,
          71.7,
          71.7,
          71.7,
          71.7,
          71.7,
          71.7,
          71.7,
          71.7,
          71.7,
          71.7,
          71.7,
          71.7,
          71.7,
          71.7,
          71.6,
          71.6,
          71.6,
          71.6,
          71.6,
          71.6,
          71.6,
          71.6,
          71.6,
          71.6,
          71.6,
          71.6,
          71.6,
          71.6,
          71.5,
          71.5,
          71.5,
          71.5,
          71.5,
          71.5,
          71.5,
          71.5,
          71.5,
          71.5,
          71.5,
          71.5,
          71.5,
          71.5,
          71.5,
          71.4,
          71.4,
          71.4,
          71.4,
          71.4,
          71.4,
          71.4,
          71.4,
          71.4,
          71.4,
          71.4,
          71.4,
          71.4,
          71.4,
          71.4,
          71.3,
          71.3,
          71.3,
          71.3,
          71.3,
          71.3,
          71.3,
          71.3,
          71.3,
          71.3,
          71.3,
          71.3,
          71.3,
          71.3,
          71.2,
          71.2,
          71.2,
          71.2,
          71.2,
          71.2,
          71.2,
          71.2,
          71.2,
          71.2,
          71.2,
          71.2,
          71.2,
          71.2,
          71.2,
          71.2,
          71.1,
          71.1,
          71.1,
          71.1,
          71.1,
          71.1,
          71.1,
          71.1,
          71.1,
          71.1,
          71.1,
          71.1,
          71.1,
          71.1,
          71.1,
          71,
          71,
          71,
          71,
          71,
          71,
          71,
          71,
          71,
          71,
          71,
          71,
          71,
          71,
          71,
          70.9,
          70.9,
          70.9,
          70.9,
          70.9,
          70.9,
          70.9,
          70.9,
          70.9,
          70.9,
          70.9,
          70.9,
          70.9,
          70.9,
          70.9,
          70.9,
          70.8,
          70.8,
          70.8,
          70.8,
          70.8,
          70.8,
          70.8,
          70.8,
          70.8,
          70.8,
          70.8,
          70.8,
          70.8,
          70.8,
          70.8,
          70.8,
          70.7,
          70.7,
          70.7,
          70.7,
          70.7,
          70.7,
          70.7,
          70.7,
          70.7,
          70.7,
          70.7,
          70.7,
          70.7,
          70.7,
          70.7,
          70.7,
          70.6,
          70.6,
          70.6,
          70.6,
          70.6,
          70.6,
          70.6,
          70.6,
          70.6,
          70.6,
          70.6,
          70.6,
          70.6,
          70.6,
          70.6,
          70.6,
          70.6,
          70.5,
          70.5,
          70.5,
          70.5,
          70.5,
          70.5,
          70.5,
          70.5,
          70.5,
          70.5,
          70.5,
          70.5,
          70.5,
          70.5,
          70.5,
          70.5,
          70.4,
          70.4,
          70.4,
          70.4,
          70.4,
          70.4,
          70.4,
          70.4,
          70.4,
          70.4,
          70.4,
          70.4,
          70.4,
          70.4,
          70.4,
          70.4,
          70.4,
          70.3,
          70.3,
          70.3,
          70.3,
          70.3,
          70.3,
          70.3,
          70.3,
          70.3,
          70.3,
          70.3,
          70.3,
          70.3,
          70.3,
          70.3,
          70.3,
          70.3,
          70.2,
          70.2,
          70.2,
          70.2,
          70.2,
          70.2,
          70.2,
          70.2,
          70.2,
          70.2,
          70.2,
          70.2,
          70.2,
          70.2,
          70.2,
          70.2,
          70.2,
          70.2,
          70.1,
          70.1,
          70.1,
          70.1,
          70.1,
          70.1,
          70.1,
          70.1,
          70.1,
          70.1,
          70.1,
          70.1,
          70.1,
          70.1,
          70.1,
          70.1,
          70.1,
          70,
          70,
          70,
          70,
          70,
          70,
          70,
          70,
          70,
          70,
          70,
          70,
          70,
          70,
          70,
          70,
          70,
          70,
          69.9,
          69.9,
          69.9,
          69.9,
          69.9,
          69.9,
          69.9,
          69.9,
          69.9,
          69.9,
          69.9,
          69.9,
          69.9,
          69.9,
          69.9,
          69.9,
          69.9,
          69.9,
          69.8,
          69.8,
          69.8,
          69.8,
          69.8,
          69.8,
          69.8,
          69.8,
          69.8,
          69.8,
          69.8,
          69.8,
          69.8,
          69.8,
          69.8,
          69.8,
          69.8,
          69.8,
          69.7,
          69.7,
          69.7,
          69.7,
          69.7,
          69.7,
          69.7,
          69.7,
          69.7,
          69.7,
          69.7,
          69.7,
          69.7,
          69.7,
          69.7,
          69.7,
          69.7,
          69.7,
          69.7,
          69.6,
          69.6,
          69.6,
          69.6,
          69.6,
          69.6,
          69.6,
          69.6,
          69.6,
          69.6,
          69.6,
          69.6,
          69.6,
          69.6,
          69.6,
          69.6,
          69.6,
          69.6,
          69.5,
          69.5,
          69.5,
          69.5,
          69.5,
          69.5,
          69.5,
          69.5,
          69.5,
          69.5,
          69.5,
          69.5,
          69.5,
          69.5,
          69.5,
          69.5,
          69.5,
          69.5,
          69.5,
          69.4,
          69.4,
          69.4,
          69.4,
          69.4,
          69.4,
          69.4,
          69.4,
          69.4,
          69.4,
          69.4,
          69.4,
          69.4,
          69.4,
          69.4,
          69.4,
          69.4,
          69.4,
          69.4,
          69.4,
          69.3,
          69.3,
          69.3,
          69.3,
          69.3,
          69.3,
          69.3,
          69.3,
          69.3,
          69.3,
          69.3,
          69.3,
          69.3,
          69.3,
          69.3,
          69.3,
          69.3,
          69.3,
          69.3,
          69.2,
          69.2,
          69.2,
          69.2,
          69.2,
          69.2,
          69.2,
          69.2,
          69.2,
          69.2,
          69.2,
          69.2,
          69.2,
          69.2,
          69.2,
          69.2,
          69.2,
          69.2,
          69.2,
          69.2,
          69.1,
          69.1,
          69.1,
          69.1,
          69.1,
          69.1,
          69.1,
          69.1,
          69.1,
          69.1,
          69.1,
          69.1,
          69.1,
          69.1,
          69.1,
          69.1,
          69.1,
          69.1,
          69.1,
          69.1,
          69,
          69,
          69,
          69,
          69,
          69,
          69,
          69,
          69,
          69,
          69,
          69,
          69,
          69,
          69,
          69,
          69,
          69,
          69,
          69,
          68.9,
          68.9,
          68.9,
          68.9,
          68.9,
          68.9,
          68.9,
          68.9,
          68.9,
          68.9,
          68.9,
          68.9,
          68.9,
          68.9,
          68.9,
          68.9,
          68.9,
          68.9,
          68.9,
          68.9,
          68.8,
          68.8,
          68.8,
          68.8,
          68.8,
          68.8,
          68.8,
          68.8,
          68.8,
          68.8,
          68.8,
          68.8,
          68.8,
          68.8,
          68.8,
          68.8,
          68.8,
          68.8,
          68.8,
          68.8,
          68.8,
          68.7,
          68.7,
          68.7,
          68.7,
          68.7,
          68.7,
          68.7,
          68.7,
          68.7,
          68.7,
          68.7,
          68.7,
          68.7,
          68.7,
          68.7,
          68.7,
          68.7,
          68.7,
          68.7,
          68.7,
          68.7,
          68.6,
          68.6,
          68.6,
          68.6,
          68.6,
          68.6,
          68.6,
          68.6,
          68.6,
          68.6,
          68.6,
          68.6,
          68.6,
          68.6,
          68.6,
          68.6,
          68.6,
          68.6,
          68.6,
          68.6,
          68.6,
          68.5,
          68.5,
          68.5,
          68.5,
          68.5,
          68.5,
          68.5,
          68.5,
          68.5,
          68.5,
          68.5,
          68.5,
          68.5,
          68.5,
          68.5,
          68.5,
          68.5,
          68.5,
          68.5,
          68.5,
          68.5,
          68.5,
          68.4,
          68.4,
          68.4,
          68.4,
          68.4,
          68.4,
          68.4,
          68.4,
          68.4,
          68.4,
          68.4,
          68.4,
          68.4,
          68.4,
          68.4,
          68.4,
          68.4,
          68.4,
          68.4,
          68.4,
          68.4,
          68.4,
          68.3,
          68.3,
          68.3,
          68.3,
          68.3,
          68.3,
          68.3,
          68.3,
          68.3,
          68.3,
          68.3,
          68.3,
          68.3,
          68.3,
          68.3,
          68.3,
          68.3,
          68.3,
          68.3,
          68.3,
          68.3,
          68.3,
          68.2,
          68.2,
          68.2,
          68.2,
          68.2,
          68.2,
          68.2,
          68.2,
          68.2,
          68.2,
          68.2,
          68.2,
          68.2,
          68.2,
          68.2,
          68.2,
          68.2,
          68.2,
          68.2,
          68.2,
          68.2,
          68.2,
          68.1,
          68.1,
          68.1,
          68.1,
          68.1,
          68.1,
          68.1,
          68.1,
          68.1,
          68.1,
          68.1,
          68.1,
          68.1,
          68.1,
          68.1,
          68.1,
          68.1,
          68.1,
          68.1,
          68.1,
          68.1,
          68.1,
          68.1,
          68,
          68,
          68,
          68,
          68,
          68,
          68,
          68,
          68,
          68,
          68,
          68,
          68,
          68,
          68,
          68,
          68,
          68,
          68,
          68,
          68,
          68,
          67.9,
          67.9,
          67.9,
          67.9,
          67.9,
          67.9,
          67.9,
          67.9,
          67.9,
          67.9,
          67.9,
          67.9,
          67.9,
          67.9,
          67.9,
          67.9,
          67.9,
          67.9,
          67.9,
          67.9,
          67.9,
          67.9,
          67.9,
          67.9,
          67.8,
          67.8,
          67.8,
          67.8,
          67.8,
          67.8,
          67.8,
          67.8,
          67.8,
          67.8,
          67.8,
          67.8,
          67.8,
          67.8,
          67.8,
          67.8,
          67.8,
          67.8,
          67.8,
          67.8,
          67.8,
          67.8,
          67.8,
          67.7,
          67.7,
          67.7,
          67.7,
          67.7,
          67.7,
          67.7,
          67.7,
          67.7,
          67.7,
          67.7,
          67.7,
          67.7,
          67.7,
          67.7,
          67.7,
          67.7,
          67.7,
          67.7,
          67.7,
          67.7,
          67.7,
          67.7,
          67.7,
          67.6,
          67.6,
          67.6,
          67.6,
          67.6,
          67.6,
          67.6,
          67.6,
          67.6,
          67.6,
          67.6,
          67.6,
          67.6,
          67.6,
          67.6,
          67.6,
          67.6,
          67.6,
          67.6,
          67.6,
          67.6,
          67.6,
          67.6,
          67.6,
          67.5,
          67.5,
          67.5,
          67.5,
          67.5,
          67.5,
          67.5,
          67.5,
          67.5,
          67.5,
          67.5,
          67.5,
          67.5,
          67.5,
          67.5,
          67.5,
          67.5,
          67.5,
          67.5,
          67.5,
          67.5,
          67.5,
          67.5,
          67.5,
          67.4,
          67.4,
          67.4,
          67.4,
          67.4,
          67.4,
          67.4,
          67.4,
          67.4,
          67.4,
          67.4,
          67.4,
          67.4,
          67.4,
          67.4,
          67.4,
          67.4,
          67.4,
          67.4,
          67.4,
          67.4,
          67.4,
          67.4,
          67.4,
          67.3,
          67.3,
          67.3,
          67.3,
          67.3,
          67.3,
          67.3,
          67.3,
          67.3,
          67.3,
          67.3,
          67.3,
          67.3,
          67.3,
          67.3,
          67.3,
          67.3,
          67.3,
          67.3,
          67.3,
          67.3,
          67.3,
          67.3,
          67.3,
          67.3,
          67.2,
          67.2,
          67.2,
          67.2,
          67.2,
          67.2,
          67.2,
          67.2,
          67.2,
          67.2,
          67.2,
          67.2,
          67.2,
          67.2,
          67.2,
          67.2,
          67.2,
          67.2,
          67.2,
          67.2,
          67.2,
          67.2,
          67.2,
          67.2,
          67.2,
          67.1,
          67.1,
          67.1,
          67.1,
          67.1,
          67.1,
          67.1,
          67.1,
          67.1,
          67.1,
          67.1,
          67.1,
          67.1,
          67.1,
          67.1,
          67.1,
          67.1,
          67.1,
          67.1,
          67.1,
          67.1,
          67.1,
          67.1,
          67.1,
          67.1,
          67,
          67,
          67,
          67,
          67,
          67,
          67,
          67,
          67,
          67,
          67,
          67,
          67,
          67,
          67,
          67,
          67,
          67,
          67,
          67,
          67,
          67,
          67,
          67,
          67,
          67,
          66.9,
          66.9,
          66.9,
          66.9,
          66.9,
          66.9,
          66.9,
          66.9,
          66.9,
          66.9,
          66.9,
          66.9,
          66.9,
          66.9,
          66.9,
          66.9,
          66.9,
          66.9,
          66.9,
          66.9,
          66.9,
          66.9,
          66.9,
          66.9,
          66.9,
          66.9,
          66.8,
          66.8,
          66.8,
          66.8,
          66.8,
          66.8,
          66.8,
          66.8,
          66.8,
          66.8,
          66.8,
          66.8,
          66.8,
          66.8,
          66.8,
          66.8,
          66.8,
          66.8,
          66.8,
          66.8,
          66.8,
          66.8,
          66.8,
          66.8,
          66.8,
          66.8,
          66.7,
          66.7,
          66.7,
          66.7,
          66.7,
          66.7,
          66.7,
          66.7,
          66.7,
          66.7,
          66.7,
          66.7,
          66.7,
          66.7,
          66.7,
          66.7,
          66.7,
          66.7,
          66.7,
          66.7,
          66.7,
          66.7,
          66.7,
          66.7,
          66.7,
          66.7,
          66.7,
          66.6,
          66.6,
          66.6,
          66.6,
          66.6,
          66.6,
          66.6,
          66.6,
          66.6,
          66.6,
          66.6,
          66.6,
          66.6,
          66.6,
          66.6,
          66.6,
          66.6,
          66.6,
          66.6,
          66.6,
          66.6,
          66.6,
          66.6,
          66.6,
          66.6,
          66.6,
          66.6,
          66.5,
          66.5,
          66.5,
          66.5,
          66.5,
          66.5,
          66.5,
          66.5,
          66.5,
          66.5,
          66.5,
          66.5,
          66.5,
          66.5,
          66.5,
          66.5,
          66.5,
          66.5,
          66.5,
          66.5,
          66.5,
          66.5,
          66.5,
          66.5,
          66.5,
          66.5,
          66.5,
          66.4,
          66.4,
          66.4,
          66.4,
          66.4,
          66.4,
          66.4,
          66.4,
          66.4,
          66.4,
          66.4,
          66.4,
          66.4,
          66.4,
          66.4,
          66.4,
          66.4,
          66.4,
          66.4,
          66.4,
          66.4,
          66.4,
          66.4,
          66.4,
          66.4,
          66.4,
          66.4,
          66.3,
          66.3,
          66.3,
          66.3,
          66.3,
          66.3,
          66.3,
          66.3,
          66.3,
          66.3,
          66.3,
          66.3,
          66.3,
          66.3,
          66.3,
          66.3,
          66.3,
          66.3,
          66.3,
          66.3,
          66.3,
          66.3,
          66.3,
          66.3,
          66.3,
          66.3,
          66.3,
          66.3,
          66.2,
          66.2,
          66.2,
          66.2,
          66.2,
          66.2,
          66.2,
          66.2,
          66.2,
          66.2,
          66.2,
          66.2,
          66.2,
          66.2,
          66.2,
          66.2,
          66.2,
          66.2,
          66.2,
          66.2,
          66.2,
          66.2,
          66.2,
          66.2,
          66.2,
          66.2,
          66.2,
          66.2,
          66.1,
          66.1,
          66.1,
          66.1,
          66.1,
          66.1,
          66.1,
          66.1,
          66.1,
          66.1,
          66.1,
          66.1,
          66.1,
          66.1,
          66.1,
          66.1,
          66.1,
          66.1,
          66.1,
          66.1,
          66.1,
          66.1,
          66.1,
          66.1,
          66.1,
          66.1,
          66.1,
          66.1,
          66,
          66,
          66,
          66,
          66,
          66,
          66,
          66,
          66,
          66,
          66,
          66,
          66,
          66,
          66,
          66,
          66,
          66,
          66,
          66,
          66,
          66,
          66,
          66,
          66,
          66
         ],
         "y0": " ",
         "yaxis": "y"
        }
       ],
       "layout": {
        "boxmode": "group",
        "legend": {
         "tracegroupgap": 0
        },
        "margin": {
         "t": 60
        },
        "template": {
         "data": {
          "bar": [
           {
            "error_x": {
             "color": "#2a3f5f"
            },
            "error_y": {
             "color": "#2a3f5f"
            },
            "marker": {
             "line": {
              "color": "#E5ECF6",
              "width": 0.5
             },
             "pattern": {
              "fillmode": "overlay",
              "size": 10,
              "solidity": 0.2
             }
            },
            "type": "bar"
           }
          ],
          "barpolar": [
           {
            "marker": {
             "line": {
              "color": "#E5ECF6",
              "width": 0.5
             },
             "pattern": {
              "fillmode": "overlay",
              "size": 10,
              "solidity": 0.2
             }
            },
            "type": "barpolar"
           }
          ],
          "carpet": [
           {
            "aaxis": {
             "endlinecolor": "#2a3f5f",
             "gridcolor": "white",
             "linecolor": "white",
             "minorgridcolor": "white",
             "startlinecolor": "#2a3f5f"
            },
            "baxis": {
             "endlinecolor": "#2a3f5f",
             "gridcolor": "white",
             "linecolor": "white",
             "minorgridcolor": "white",
             "startlinecolor": "#2a3f5f"
            },
            "type": "carpet"
           }
          ],
          "choropleth": [
           {
            "colorbar": {
             "outlinewidth": 0,
             "ticks": ""
            },
            "type": "choropleth"
           }
          ],
          "contour": [
           {
            "colorbar": {
             "outlinewidth": 0,
             "ticks": ""
            },
            "colorscale": [
             [
              0,
              "#0d0887"
             ],
             [
              0.1111111111111111,
              "#46039f"
             ],
             [
              0.2222222222222222,
              "#7201a8"
             ],
             [
              0.3333333333333333,
              "#9c179e"
             ],
             [
              0.4444444444444444,
              "#bd3786"
             ],
             [
              0.5555555555555556,
              "#d8576b"
             ],
             [
              0.6666666666666666,
              "#ed7953"
             ],
             [
              0.7777777777777778,
              "#fb9f3a"
             ],
             [
              0.8888888888888888,
              "#fdca26"
             ],
             [
              1,
              "#f0f921"
             ]
            ],
            "type": "contour"
           }
          ],
          "contourcarpet": [
           {
            "colorbar": {
             "outlinewidth": 0,
             "ticks": ""
            },
            "type": "contourcarpet"
           }
          ],
          "heatmap": [
           {
            "colorbar": {
             "outlinewidth": 0,
             "ticks": ""
            },
            "colorscale": [
             [
              0,
              "#0d0887"
             ],
             [
              0.1111111111111111,
              "#46039f"
             ],
             [
              0.2222222222222222,
              "#7201a8"
             ],
             [
              0.3333333333333333,
              "#9c179e"
             ],
             [
              0.4444444444444444,
              "#bd3786"
             ],
             [
              0.5555555555555556,
              "#d8576b"
             ],
             [
              0.6666666666666666,
              "#ed7953"
             ],
             [
              0.7777777777777778,
              "#fb9f3a"
             ],
             [
              0.8888888888888888,
              "#fdca26"
             ],
             [
              1,
              "#f0f921"
             ]
            ],
            "type": "heatmap"
           }
          ],
          "heatmapgl": [
           {
            "colorbar": {
             "outlinewidth": 0,
             "ticks": ""
            },
            "colorscale": [
             [
              0,
              "#0d0887"
             ],
             [
              0.1111111111111111,
              "#46039f"
             ],
             [
              0.2222222222222222,
              "#7201a8"
             ],
             [
              0.3333333333333333,
              "#9c179e"
             ],
             [
              0.4444444444444444,
              "#bd3786"
             ],
             [
              0.5555555555555556,
              "#d8576b"
             ],
             [
              0.6666666666666666,
              "#ed7953"
             ],
             [
              0.7777777777777778,
              "#fb9f3a"
             ],
             [
              0.8888888888888888,
              "#fdca26"
             ],
             [
              1,
              "#f0f921"
             ]
            ],
            "type": "heatmapgl"
           }
          ],
          "histogram": [
           {
            "marker": {
             "pattern": {
              "fillmode": "overlay",
              "size": 10,
              "solidity": 0.2
             }
            },
            "type": "histogram"
           }
          ],
          "histogram2d": [
           {
            "colorbar": {
             "outlinewidth": 0,
             "ticks": ""
            },
            "colorscale": [
             [
              0,
              "#0d0887"
             ],
             [
              0.1111111111111111,
              "#46039f"
             ],
             [
              0.2222222222222222,
              "#7201a8"
             ],
             [
              0.3333333333333333,
              "#9c179e"
             ],
             [
              0.4444444444444444,
              "#bd3786"
             ],
             [
              0.5555555555555556,
              "#d8576b"
             ],
             [
              0.6666666666666666,
              "#ed7953"
             ],
             [
              0.7777777777777778,
              "#fb9f3a"
             ],
             [
              0.8888888888888888,
              "#fdca26"
             ],
             [
              1,
              "#f0f921"
             ]
            ],
            "type": "histogram2d"
           }
          ],
          "histogram2dcontour": [
           {
            "colorbar": {
             "outlinewidth": 0,
             "ticks": ""
            },
            "colorscale": [
             [
              0,
              "#0d0887"
             ],
             [
              0.1111111111111111,
              "#46039f"
             ],
             [
              0.2222222222222222,
              "#7201a8"
             ],
             [
              0.3333333333333333,
              "#9c179e"
             ],
             [
              0.4444444444444444,
              "#bd3786"
             ],
             [
              0.5555555555555556,
              "#d8576b"
             ],
             [
              0.6666666666666666,
              "#ed7953"
             ],
             [
              0.7777777777777778,
              "#fb9f3a"
             ],
             [
              0.8888888888888888,
              "#fdca26"
             ],
             [
              1,
              "#f0f921"
             ]
            ],
            "type": "histogram2dcontour"
           }
          ],
          "mesh3d": [
           {
            "colorbar": {
             "outlinewidth": 0,
             "ticks": ""
            },
            "type": "mesh3d"
           }
          ],
          "parcoords": [
           {
            "line": {
             "colorbar": {
              "outlinewidth": 0,
              "ticks": ""
             }
            },
            "type": "parcoords"
           }
          ],
          "pie": [
           {
            "automargin": true,
            "type": "pie"
           }
          ],
          "scatter": [
           {
            "fillpattern": {
             "fillmode": "overlay",
             "size": 10,
             "solidity": 0.2
            },
            "type": "scatter"
           }
          ],
          "scatter3d": [
           {
            "line": {
             "colorbar": {
              "outlinewidth": 0,
              "ticks": ""
             }
            },
            "marker": {
             "colorbar": {
              "outlinewidth": 0,
              "ticks": ""
             }
            },
            "type": "scatter3d"
           }
          ],
          "scattercarpet": [
           {
            "marker": {
             "colorbar": {
              "outlinewidth": 0,
              "ticks": ""
             }
            },
            "type": "scattercarpet"
           }
          ],
          "scattergeo": [
           {
            "marker": {
             "colorbar": {
              "outlinewidth": 0,
              "ticks": ""
             }
            },
            "type": "scattergeo"
           }
          ],
          "scattergl": [
           {
            "marker": {
             "colorbar": {
              "outlinewidth": 0,
              "ticks": ""
             }
            },
            "type": "scattergl"
           }
          ],
          "scattermapbox": [
           {
            "marker": {
             "colorbar": {
              "outlinewidth": 0,
              "ticks": ""
             }
            },
            "type": "scattermapbox"
           }
          ],
          "scatterpolar": [
           {
            "marker": {
             "colorbar": {
              "outlinewidth": 0,
              "ticks": ""
             }
            },
            "type": "scatterpolar"
           }
          ],
          "scatterpolargl": [
           {
            "marker": {
             "colorbar": {
              "outlinewidth": 0,
              "ticks": ""
             }
            },
            "type": "scatterpolargl"
           }
          ],
          "scatterternary": [
           {
            "marker": {
             "colorbar": {
              "outlinewidth": 0,
              "ticks": ""
             }
            },
            "type": "scatterternary"
           }
          ],
          "surface": [
           {
            "colorbar": {
             "outlinewidth": 0,
             "ticks": ""
            },
            "colorscale": [
             [
              0,
              "#0d0887"
             ],
             [
              0.1111111111111111,
              "#46039f"
             ],
             [
              0.2222222222222222,
              "#7201a8"
             ],
             [
              0.3333333333333333,
              "#9c179e"
             ],
             [
              0.4444444444444444,
              "#bd3786"
             ],
             [
              0.5555555555555556,
              "#d8576b"
             ],
             [
              0.6666666666666666,
              "#ed7953"
             ],
             [
              0.7777777777777778,
              "#fb9f3a"
             ],
             [
              0.8888888888888888,
              "#fdca26"
             ],
             [
              1,
              "#f0f921"
             ]
            ],
            "type": "surface"
           }
          ],
          "table": [
           {
            "cells": {
             "fill": {
              "color": "#EBF0F8"
             },
             "line": {
              "color": "white"
             }
            },
            "header": {
             "fill": {
              "color": "#C8D4E3"
             },
             "line": {
              "color": "white"
             }
            },
            "type": "table"
           }
          ]
         },
         "layout": {
          "annotationdefaults": {
           "arrowcolor": "#2a3f5f",
           "arrowhead": 0,
           "arrowwidth": 1
          },
          "autotypenumbers": "strict",
          "coloraxis": {
           "colorbar": {
            "outlinewidth": 0,
            "ticks": ""
           }
          },
          "colorscale": {
           "diverging": [
            [
             0,
             "#8e0152"
            ],
            [
             0.1,
             "#c51b7d"
            ],
            [
             0.2,
             "#de77ae"
            ],
            [
             0.3,
             "#f1b6da"
            ],
            [
             0.4,
             "#fde0ef"
            ],
            [
             0.5,
             "#f7f7f7"
            ],
            [
             0.6,
             "#e6f5d0"
            ],
            [
             0.7,
             "#b8e186"
            ],
            [
             0.8,
             "#7fbc41"
            ],
            [
             0.9,
             "#4d9221"
            ],
            [
             1,
             "#276419"
            ]
           ],
           "sequential": [
            [
             0,
             "#0d0887"
            ],
            [
             0.1111111111111111,
             "#46039f"
            ],
            [
             0.2222222222222222,
             "#7201a8"
            ],
            [
             0.3333333333333333,
             "#9c179e"
            ],
            [
             0.4444444444444444,
             "#bd3786"
            ],
            [
             0.5555555555555556,
             "#d8576b"
            ],
            [
             0.6666666666666666,
             "#ed7953"
            ],
            [
             0.7777777777777778,
             "#fb9f3a"
            ],
            [
             0.8888888888888888,
             "#fdca26"
            ],
            [
             1,
             "#f0f921"
            ]
           ],
           "sequentialminus": [
            [
             0,
             "#0d0887"
            ],
            [
             0.1111111111111111,
             "#46039f"
            ],
            [
             0.2222222222222222,
             "#7201a8"
            ],
            [
             0.3333333333333333,
             "#9c179e"
            ],
            [
             0.4444444444444444,
             "#bd3786"
            ],
            [
             0.5555555555555556,
             "#d8576b"
            ],
            [
             0.6666666666666666,
             "#ed7953"
            ],
            [
             0.7777777777777778,
             "#fb9f3a"
            ],
            [
             0.8888888888888888,
             "#fdca26"
            ],
            [
             1,
             "#f0f921"
            ]
           ]
          },
          "colorway": [
           "#636efa",
           "#EF553B",
           "#00cc96",
           "#ab63fa",
           "#FFA15A",
           "#19d3f3",
           "#FF6692",
           "#B6E880",
           "#FF97FF",
           "#FECB52"
          ],
          "font": {
           "color": "#2a3f5f"
          },
          "geo": {
           "bgcolor": "white",
           "lakecolor": "white",
           "landcolor": "#E5ECF6",
           "showlakes": true,
           "showland": true,
           "subunitcolor": "white"
          },
          "hoverlabel": {
           "align": "left"
          },
          "hovermode": "closest",
          "mapbox": {
           "style": "light"
          },
          "paper_bgcolor": "white",
          "plot_bgcolor": "#E5ECF6",
          "polar": {
           "angularaxis": {
            "gridcolor": "white",
            "linecolor": "white",
            "ticks": ""
           },
           "bgcolor": "#E5ECF6",
           "radialaxis": {
            "gridcolor": "white",
            "linecolor": "white",
            "ticks": ""
           }
          },
          "scene": {
           "xaxis": {
            "backgroundcolor": "#E5ECF6",
            "gridcolor": "white",
            "gridwidth": 2,
            "linecolor": "white",
            "showbackground": true,
            "ticks": "",
            "zerolinecolor": "white"
           },
           "yaxis": {
            "backgroundcolor": "#E5ECF6",
            "gridcolor": "white",
            "gridwidth": 2,
            "linecolor": "white",
            "showbackground": true,
            "ticks": "",
            "zerolinecolor": "white"
           },
           "zaxis": {
            "backgroundcolor": "#E5ECF6",
            "gridcolor": "white",
            "gridwidth": 2,
            "linecolor": "white",
            "showbackground": true,
            "ticks": "",
            "zerolinecolor": "white"
           }
          },
          "shapedefaults": {
           "line": {
            "color": "#2a3f5f"
           }
          },
          "ternary": {
           "aaxis": {
            "gridcolor": "white",
            "linecolor": "white",
            "ticks": ""
           },
           "baxis": {
            "gridcolor": "white",
            "linecolor": "white",
            "ticks": ""
           },
           "bgcolor": "#E5ECF6",
           "caxis": {
            "gridcolor": "white",
            "linecolor": "white",
            "ticks": ""
           }
          },
          "title": {
           "x": 0.05
          },
          "xaxis": {
           "automargin": true,
           "gridcolor": "white",
           "linecolor": "white",
           "ticks": "",
           "title": {
            "standoff": 15
           },
           "zerolinecolor": "white",
           "zerolinewidth": 2
          },
          "yaxis": {
           "automargin": true,
           "gridcolor": "white",
           "linecolor": "white",
           "ticks": "",
           "title": {
            "standoff": 15
           },
           "zerolinecolor": "white",
           "zerolinewidth": 2
          }
         }
        },
        "xaxis": {
         "anchor": "y",
         "domain": [
          0,
          1
         ]
        },
        "yaxis": {
         "anchor": "x",
         "domain": [
          0,
          1
         ],
         "title": {
          "text": "Score"
         }
        }
       }
      }
     },
     "metadata": {},
     "output_type": "display_data"
    }
   ],
   "source": [
    "fig = px.box(data_frame=wru_ranking, y=\"Score\")\n",
    "fig.show()"
   ]
  },
  {
   "cell_type": "markdown",
   "id": "e2007e8d",
   "metadata": {},
   "source": [
    "There are many upper whiskers in the boxplot. However, it is logical to have these outliers as the data is based on the performance of the universities. We will not remove these outliers."
   ]
  },
  {
   "cell_type": "code",
   "execution_count": 60,
   "id": "236afda0",
   "metadata": {},
   "outputs": [
    {
     "data": {
      "application/vnd.plotly.v1+json": {
       "config": {
        "plotlyServerURL": "https://plot.ly"
       },
       "data": [
        {
         "alignmentgroup": "True",
         "hovertemplate": "Research Rank=%{y}<extra></extra>",
         "legendgroup": "",
         "marker": {
          "color": "#636efa"
         },
         "name": "",
         "notched": false,
         "offsetgroup": "",
         "orientation": "v",
         "showlegend": false,
         "type": "box",
         "x0": " ",
         "xaxis": "x",
         "y": [
          1,
          9,
          2,
          11,
          4,
          82,
          28,
          13,
          12,
          21,
          83,
          16,
          30,
          23,
          31,
          7,
          8,
          15,
          5,
          24,
          91,
          74,
          3,
          46,
          10,
          45,
          79,
          41,
          18,
          42,
          57,
          14,
          22,
          63,
          26,
          27,
          39,
          62,
          17,
          53,
          19,
          286,
          48,
          20,
          370,
          52,
          34,
          49,
          25,
          56,
          35,
          54,
          75,
          55,
          6,
          71,
          33,
          76,
          69,
          40,
          460,
          95,
          72,
          138,
          114,
          97,
          115,
          60,
          85,
          195,
          137,
          43,
          167,
          29,
          38,
          88,
          105,
          77,
          68,
          44,
          37,
          110,
          94,
          103,
          32,
          65,
          289,
          100,
          59,
          80,
          185,
          36,
          99,
          89,
          107,
          124,
          162,
          156,
          223,
          147,
          87,
          134,
          397,
          64,
          47,
          81,
          50,
          139,
          78,
          132,
          164,
          98,
          154,
          119,
          145,
          106,
          111,
          210,
          58,
          1710,
          51,
          101,
          61,
          86,
          117,
          93,
          73,
          140,
          123,
          166,
          70,
          126,
          66,
          67,
          209,
          151,
          121,
          205,
          144,
          238,
          96,
          170,
          175,
          150,
          149,
          183,
          90,
          84,
          104,
          128,
          113,
          146,
          271,
          122,
          172,
          187,
          92,
          120,
          171,
          141,
          102,
          191,
          133,
          108,
          282,
          109,
          269,
          176,
          226,
          116,
          112,
          118,
          130,
          142,
          148,
          266,
          174,
          256,
          201,
          125,
          159,
          225,
          300,
          129,
          127,
          143,
          196,
          215,
          169,
          131,
          135,
          211,
          136,
          153,
          152,
          192,
          189,
          241,
          233,
          165,
          217,
          173,
          161,
          212,
          194,
          160,
          155,
          235,
          253,
          207,
          null,
          158,
          229,
          181,
          237,
          214,
          227,
          168,
          157,
          517,
          247,
          163,
          358,
          208,
          343,
          216,
          179,
          221,
          178,
          322,
          268,
          259,
          177,
          252,
          180,
          206,
          354,
          182,
          663,
          188,
          200,
          199,
          184,
          193,
          186,
          236,
          301,
          296,
          272,
          274,
          190,
          240,
          407,
          197,
          204,
          275,
          198,
          202,
          203,
          257,
          344,
          334,
          219,
          213,
          312,
          224,
          245,
          222,
          218,
          231,
          254,
          220,
          277,
          null,
          280,
          261,
          558,
          228,
          297,
          null,
          315,
          308,
          306,
          360,
          230,
          232,
          283,
          258,
          234,
          335,
          239,
          248,
          242,
          244,
          250,
          381,
          243,
          249,
          260,
          246,
          396,
          319,
          251,
          255,
          262,
          273,
          356,
          357,
          263,
          270,
          305,
          291,
          264,
          265,
          267,
          276,
          295,
          278,
          290,
          284,
          279,
          281,
          326,
          287,
          359,
          285,
          435,
          311,
          366,
          288,
          294,
          949,
          292,
          293,
          314,
          298,
          299,
          316,
          302,
          303,
          313,
          304,
          697,
          307,
          324,
          323,
          310,
          331,
          309,
          350,
          318,
          332,
          325,
          369,
          336,
          320,
          317,
          321,
          361,
          327,
          389,
          328,
          401,
          414,
          329,
          388,
          330,
          346,
          449,
          333,
          337,
          340,
          338,
          345,
          339,
          351,
          342,
          341,
          347,
          353,
          348,
          352,
          349,
          375,
          368,
          530,
          355,
          364,
          452,
          400,
          362,
          390,
          363,
          376,
          365,
          367,
          371,
          374,
          373,
          372,
          420,
          377,
          380,
          378,
          392,
          null,
          379,
          850,
          383,
          382,
          384,
          393,
          385,
          386,
          387,
          391,
          399,
          394,
          null,
          395,
          415,
          398,
          410,
          402,
          482,
          403,
          404,
          405,
          406,
          408,
          409,
          412,
          411,
          413,
          417,
          423,
          416,
          422,
          421,
          418,
          419,
          427,
          428,
          437,
          424,
          433,
          425,
          426,
          459,
          462,
          444,
          429,
          null,
          457,
          432,
          430,
          431,
          1968,
          436,
          434,
          440,
          544,
          547,
          446,
          438,
          479,
          439,
          472,
          441,
          574,
          442,
          443,
          525,
          499,
          456,
          445,
          447,
          469,
          448,
          451,
          450,
          454,
          455,
          474,
          453,
          458,
          461,
          789,
          null,
          463,
          464,
          465,
          486,
          473,
          466,
          468,
          467,
          535,
          470,
          480,
          496,
          471,
          484,
          475,
          478,
          495,
          476,
          483,
          477,
          521,
          481,
          503,
          485,
          487,
          488,
          489,
          564,
          491,
          490,
          494,
          492,
          518,
          493,
          497,
          498,
          502,
          514,
          500,
          501,
          504,
          505,
          512,
          731,
          510,
          506,
          621,
          507,
          508,
          509,
          511,
          534,
          513,
          594,
          515,
          516,
          524,
          519,
          520,
          639,
          522,
          523,
          600,
          561,
          562,
          745,
          566,
          533,
          527,
          539,
          526,
          528,
          541,
          593,
          576,
          532,
          529,
          531,
          536,
          537,
          603,
          540,
          538,
          725,
          542,
          1019,
          543,
          552,
          548,
          545,
          546,
          551,
          549,
          550,
          563,
          553,
          554,
          555,
          null,
          557,
          556,
          559,
          560,
          582,
          724,
          565,
          570,
          567,
          586,
          568,
          569,
          571,
          573,
          572,
          575,
          672,
          579,
          699,
          577,
          578,
          580,
          581,
          853,
          583,
          1561,
          584,
          585,
          587,
          591,
          602,
          613,
          648,
          588,
          609,
          592,
          590,
          589,
          632,
          595,
          596,
          608,
          597,
          598,
          599,
          null,
          1079,
          601,
          607,
          604,
          605,
          606,
          610,
          782,
          611,
          627,
          612,
          614,
          615,
          620,
          616,
          617,
          619,
          618,
          622,
          642,
          636,
          623,
          792,
          624,
          625,
          628,
          626,
          629,
          630,
          631,
          635,
          633,
          640,
          653,
          634,
          637,
          638,
          641,
          643,
          667,
          644,
          645,
          654,
          664,
          646,
          647,
          691,
          649,
          651,
          650,
          652,
          655,
          656,
          671,
          730,
          905,
          660,
          657,
          658,
          659,
          null,
          661,
          670,
          662,
          665,
          683,
          919,
          null,
          666,
          674,
          668,
          669,
          959,
          802,
          673,
          677,
          676,
          675,
          682,
          768,
          684,
          679,
          678,
          681,
          680,
          694,
          702,
          688,
          690,
          687,
          null,
          710,
          685,
          686,
          689,
          698,
          692,
          837,
          693,
          695,
          703,
          696,
          717,
          758,
          700,
          701,
          704,
          716,
          705,
          706,
          707,
          726,
          902,
          752,
          708,
          709,
          711,
          721,
          712,
          713,
          714,
          719,
          715,
          718,
          728,
          720,
          722,
          723,
          821,
          727,
          729,
          732,
          739,
          736,
          735,
          733,
          734,
          737,
          1005,
          738,
          743,
          740,
          741,
          742,
          749,
          744,
          761,
          748,
          746,
          747,
          750,
          751,
          770,
          null,
          753,
          754,
          755,
          849,
          759,
          756,
          757,
          760,
          764,
          762,
          763,
          767,
          765,
          null,
          778,
          766,
          775,
          835,
          773,
          769,
          771,
          772,
          777,
          774,
          776,
          1031,
          779,
          780,
          781,
          793,
          783,
          784,
          785,
          794,
          832,
          786,
          810,
          787,
          791,
          788,
          796,
          790,
          830,
          1021,
          795,
          797,
          798,
          799,
          800,
          884,
          801,
          803,
          804,
          812,
          805,
          1698,
          806,
          807,
          809,
          813,
          808,
          811,
          814,
          1022,
          815,
          816,
          817,
          818,
          822,
          819,
          820,
          865,
          838,
          988,
          823,
          827,
          824,
          825,
          826,
          828,
          829,
          888,
          834,
          831,
          null,
          833,
          1274,
          836,
          839,
          840,
          841,
          842,
          845,
          863,
          843,
          844,
          846,
          848,
          847,
          1013,
          946,
          876,
          851,
          852,
          869,
          855,
          854,
          856,
          857,
          858,
          859,
          860,
          861,
          862,
          864,
          878,
          866,
          1016,
          867,
          868,
          870,
          875,
          885,
          873,
          871,
          null,
          872,
          874,
          877,
          894,
          879,
          899,
          1357,
          880,
          881,
          1321,
          883,
          882,
          926,
          1630,
          886,
          887,
          889,
          890,
          901,
          891,
          892,
          893,
          895,
          896,
          897,
          null,
          898,
          900,
          null,
          928,
          943,
          903,
          936,
          904,
          906,
          907,
          933,
          947,
          908,
          909,
          910,
          912,
          911,
          935,
          918,
          913,
          914,
          915,
          929,
          916,
          1961,
          917,
          927,
          924,
          920,
          921,
          922,
          923,
          925,
          930,
          null,
          931,
          932,
          934,
          937,
          938,
          939,
          942,
          940,
          941,
          944,
          945,
          970,
          956,
          948,
          1052,
          null,
          950,
          1296,
          951,
          952,
          953,
          1196,
          954,
          null,
          955,
          957,
          null,
          958,
          1527,
          961,
          964,
          962,
          960,
          1003,
          963,
          965,
          966,
          967,
          968,
          969,
          971,
          972,
          973,
          974,
          975,
          976,
          null,
          977,
          984,
          978,
          979,
          981,
          null,
          986,
          980,
          985,
          993,
          982,
          983,
          null,
          987,
          991,
          989,
          990,
          1004,
          994,
          992,
          998,
          995,
          996,
          1065,
          997,
          999,
          1007,
          1000,
          1001,
          1006,
          1142,
          1002,
          1176,
          1264,
          null,
          1008,
          1009,
          1011,
          1010,
          1012,
          1014,
          1017,
          1015,
          1238,
          1113,
          1018,
          1020,
          1035,
          1037,
          1023,
          1024,
          1026,
          1025,
          1034,
          1027,
          1028,
          1066,
          1036,
          1029,
          1030,
          1032,
          1033,
          1042,
          1038,
          1039,
          1040,
          1041,
          1064,
          1053,
          1056,
          1048,
          1043,
          1044,
          1057,
          1045,
          1061,
          1047,
          1046,
          1049,
          1050,
          1051,
          1054,
          1173,
          1059,
          1055,
          1058,
          1060,
          1062,
          1063,
          1759,
          1081,
          1067,
          1068,
          1069,
          1072,
          1070,
          1071,
          1082,
          1073,
          1074,
          1075,
          1139,
          1076,
          1077,
          1078,
          1086,
          1080,
          1146,
          1083,
          1084,
          1211,
          1085,
          1087,
          1443,
          1088,
          1089,
          1090,
          1091,
          1289,
          1092,
          1093,
          1095,
          1094,
          1096,
          1097,
          1098,
          1099,
          1100,
          1850,
          1101,
          1199,
          1102,
          1104,
          1103,
          1105,
          1106,
          1107,
          1108,
          1109,
          1110,
          1111,
          1126,
          1112,
          1114,
          1129,
          1115,
          1116,
          null,
          1127,
          1117,
          1118,
          1119,
          1121,
          1120,
          1122,
          1123,
          1124,
          1125,
          1128,
          1130,
          1393,
          1131,
          1132,
          1133,
          1136,
          1134,
          1135,
          1137,
          1138,
          1140,
          1141,
          1158,
          1143,
          1148,
          1151,
          1144,
          1145,
          1147,
          1149,
          1618,
          1150,
          1152,
          1153,
          1154,
          1155,
          1156,
          1157,
          1159,
          1160,
          1161,
          1162,
          1163,
          1166,
          1164,
          1165,
          1167,
          1168,
          1169,
          1170,
          1171,
          1172,
          1174,
          1175,
          1204,
          1177,
          1178,
          1179,
          1189,
          1180,
          1181,
          1183,
          null,
          1182,
          1184,
          1185,
          1186,
          1187,
          1188,
          1193,
          1190,
          1191,
          1192,
          1207,
          1195,
          1194,
          1201,
          1243,
          1202,
          1197,
          1350,
          1198,
          1200,
          1203,
          1205,
          1206,
          1208,
          1356,
          1258,
          null,
          1209,
          1210,
          1369,
          1212,
          1213,
          1214,
          1215,
          1216,
          1217,
          1218,
          1219,
          1223,
          1220,
          1222,
          1221,
          null,
          1226,
          1247,
          1224,
          1225,
          1227,
          1228,
          1229,
          1232,
          1230,
          1231,
          1233,
          1234,
          1235,
          1236,
          1237,
          1239,
          1240,
          1302,
          1241,
          1242,
          1244,
          1245,
          1257,
          1246,
          1248,
          1287,
          1249,
          1250,
          1254,
          1251,
          1252,
          1253,
          1256,
          1255,
          1261,
          1328,
          1259,
          1260,
          1262,
          1263,
          1265,
          1267,
          1266,
          1285,
          1268,
          1269,
          1270,
          1271,
          1272,
          1273,
          1275,
          1277,
          1276,
          1280,
          1278,
          1279,
          1281,
          1282,
          1283,
          1284,
          1291,
          null,
          1294,
          1383,
          1433,
          1290,
          1286,
          1288,
          1292,
          1301,
          1293,
          1317,
          1295,
          1299,
          1297,
          1314,
          null,
          null,
          1298,
          1300,
          1311,
          1303,
          null,
          1304,
          1305,
          null,
          1306,
          1386,
          1307,
          1313,
          1308,
          1309,
          1310,
          1312,
          1573,
          1315,
          1316,
          null,
          1318,
          1319,
          1320,
          1347,
          1511,
          1348,
          1322,
          1323,
          1324,
          1325,
          1327,
          1326,
          1333,
          1329,
          1330,
          1331,
          1332,
          1669,
          1334,
          1335,
          1336,
          1364,
          1342,
          1337,
          1338,
          1339,
          1340,
          1341,
          1343,
          1472,
          1394,
          1344,
          1876,
          null,
          1345,
          1346,
          1349,
          1351,
          1362,
          1353,
          1352,
          1354,
          1355,
          1407,
          1359,
          1358,
          1360,
          1361,
          1363,
          1365,
          1366,
          1367,
          1368,
          1429,
          1370,
          1371,
          1412,
          1372,
          1373,
          1374,
          1375,
          1398,
          1376,
          1377,
          1378,
          1379,
          1380,
          1381,
          null,
          1382,
          1384,
          1385,
          1387,
          1388,
          1391,
          1389,
          1390,
          1392,
          1404,
          1395,
          1399,
          1396,
          1397,
          1400,
          1401,
          1402,
          1403,
          1405,
          1406,
          1408,
          1409,
          1410,
          1418,
          1796,
          1411,
          1902,
          1413,
          1414,
          1415,
          null,
          1416,
          1454,
          1417,
          1419,
          1420,
          1421,
          1422,
          1423,
          1424,
          1469,
          null,
          1425,
          1432,
          1476,
          1426,
          1431,
          1427,
          1428,
          1434,
          1430,
          1772,
          1437,
          1473,
          1435,
          1436,
          1438,
          1466,
          1439,
          1865,
          1440,
          1441,
          1442,
          1444,
          1445,
          1456,
          1446,
          1447,
          1448,
          1449,
          null,
          1450,
          1451,
          1453,
          1452,
          1455,
          1457,
          1458,
          1478,
          1459,
          1460,
          1461,
          1481,
          1462,
          1463,
          1468,
          null,
          1972,
          1464,
          1465,
          1467,
          1470,
          1471,
          1701,
          1474,
          1475,
          1477,
          1479,
          1480,
          1524,
          1482,
          1483,
          1484,
          1485,
          1487,
          1486,
          1488,
          1489,
          1490,
          1492,
          1491,
          1493,
          1494,
          1495,
          1496,
          1497,
          1498,
          1499,
          1500,
          1502,
          1501,
          1503,
          1677,
          1512,
          1504,
          1505,
          1506,
          1508,
          1507,
          1981,
          1509,
          1977,
          1510,
          1513,
          1659,
          1514,
          1515,
          1516,
          1517,
          1518,
          1519,
          1520,
          1753,
          1521,
          1522,
          1530,
          1523,
          1525,
          1526,
          1528,
          1529,
          1550,
          null,
          1531,
          1532,
          1623,
          1535,
          1533,
          1534,
          1536,
          1537,
          1538,
          1539,
          null,
          1540,
          1543,
          1541,
          1542,
          1544,
          1553,
          1545,
          1546,
          1547,
          1548,
          1549,
          1551,
          1552,
          1554,
          1627,
          1612,
          1555,
          1556,
          1557,
          1558,
          1559,
          1560,
          1604,
          1562,
          1563,
          1564,
          1565,
          1566,
          1567,
          1568,
          1584,
          1569,
          1570,
          1571,
          1577,
          1572,
          1574,
          1575,
          1576,
          1590,
          1578,
          1579,
          1587,
          1696,
          1580,
          1581,
          1582,
          1583,
          1644,
          1585,
          1586,
          1707,
          1588,
          null,
          1589,
          1591,
          1595,
          1592,
          1593,
          1594,
          1596,
          1597,
          1598,
          1599,
          1603,
          1600,
          1601,
          1602,
          null,
          1605,
          1606,
          1607,
          1608,
          1609,
          1909,
          1610,
          1611,
          1709,
          1619,
          1613,
          1614,
          1615,
          1658,
          1616,
          1617,
          1672,
          1620,
          1621,
          1622,
          1624,
          1625,
          1626,
          1628,
          1629,
          null,
          1631,
          1632,
          1633,
          1634,
          1635,
          null,
          1637,
          1636,
          1638,
          1639,
          1640,
          1641,
          1722,
          1642,
          1643,
          1647,
          1705,
          1655,
          1645,
          1646,
          1648,
          1649,
          1650,
          1660,
          1651,
          1652,
          1653,
          1654,
          null,
          1656,
          1657,
          1780,
          1679,
          1661,
          1662,
          1663,
          1664,
          1665,
          1666,
          1667,
          1668,
          1670,
          1671,
          1673,
          1674,
          1675,
          1676,
          1678,
          null,
          1680,
          1681,
          1682,
          1683,
          1691,
          1684,
          1685,
          1686,
          1687,
          1688,
          1689,
          1690,
          1712,
          1692,
          1693,
          1694,
          1695,
          1773,
          1697,
          1699,
          1785,
          1700,
          1725,
          1704,
          1702,
          1703,
          1706,
          1708,
          1774,
          1711,
          1713,
          1714,
          1715,
          1716,
          1717,
          null,
          1718,
          null,
          1719,
          1720,
          1721,
          1723,
          1724,
          1729,
          1726,
          1727,
          1728,
          1730,
          1731,
          1732,
          1733,
          1779,
          1734,
          1735,
          1976,
          1742,
          1736,
          1973,
          1737,
          1738,
          1739,
          1741,
          1740,
          1743,
          1744,
          1745,
          1746,
          1747,
          1748,
          1749,
          1750,
          1751,
          1752,
          1754,
          1755,
          1756,
          1757,
          1758,
          1760,
          1761,
          1764,
          1762,
          1763,
          1768,
          1765,
          1766,
          1767,
          1769,
          1770,
          null,
          null,
          1771,
          1775,
          1789,
          1776,
          1777,
          1778,
          1781,
          null,
          1782,
          1783,
          1784,
          1786,
          1787,
          1788,
          null,
          1833,
          1790,
          1791,
          1792,
          1793,
          1794,
          1795,
          1840,
          1797,
          1803,
          1798,
          1799,
          1834,
          1828,
          1800,
          1801,
          1802,
          null,
          1804,
          1805,
          1806,
          1807,
          1810,
          1808,
          1815,
          1809,
          1811,
          null,
          1813,
          1812,
          1814,
          null,
          1816,
          1817,
          1818,
          1900,
          1819,
          1820,
          1821,
          null,
          1822,
          1823,
          1824,
          1825,
          1826,
          1827,
          1921,
          1829,
          1830,
          1831,
          1832,
          null,
          1835,
          1836,
          1837,
          1838,
          1839,
          1841,
          1996,
          1878,
          1842,
          1843,
          1844,
          1845,
          1846,
          1847,
          1848,
          1849,
          1886,
          1851,
          1852,
          1853,
          1948,
          null,
          1854,
          1855,
          1856,
          1857,
          1858,
          1859,
          1860,
          1861,
          null,
          1881,
          1862,
          1863,
          1864,
          1866,
          1867,
          1868,
          1869,
          1870,
          null,
          1871,
          1872,
          1873,
          1874,
          1875,
          null,
          1877,
          1879,
          1880,
          1882,
          1891,
          1883,
          1884,
          1885,
          1887,
          1888,
          1889,
          1890,
          1892,
          1893,
          1894,
          1895,
          1896,
          1897,
          1898,
          1899,
          1901,
          1903,
          1904,
          1905,
          1906,
          1907,
          1908,
          1935,
          1910,
          null,
          1911,
          1918,
          1912,
          1913,
          1927,
          1914,
          1915,
          1916,
          1917,
          1920,
          1919,
          1922,
          1923
         ],
         "y0": " ",
         "yaxis": "y"
        }
       ],
       "layout": {
        "boxmode": "group",
        "legend": {
         "tracegroupgap": 0
        },
        "margin": {
         "t": 60
        },
        "template": {
         "data": {
          "bar": [
           {
            "error_x": {
             "color": "#2a3f5f"
            },
            "error_y": {
             "color": "#2a3f5f"
            },
            "marker": {
             "line": {
              "color": "#E5ECF6",
              "width": 0.5
             },
             "pattern": {
              "fillmode": "overlay",
              "size": 10,
              "solidity": 0.2
             }
            },
            "type": "bar"
           }
          ],
          "barpolar": [
           {
            "marker": {
             "line": {
              "color": "#E5ECF6",
              "width": 0.5
             },
             "pattern": {
              "fillmode": "overlay",
              "size": 10,
              "solidity": 0.2
             }
            },
            "type": "barpolar"
           }
          ],
          "carpet": [
           {
            "aaxis": {
             "endlinecolor": "#2a3f5f",
             "gridcolor": "white",
             "linecolor": "white",
             "minorgridcolor": "white",
             "startlinecolor": "#2a3f5f"
            },
            "baxis": {
             "endlinecolor": "#2a3f5f",
             "gridcolor": "white",
             "linecolor": "white",
             "minorgridcolor": "white",
             "startlinecolor": "#2a3f5f"
            },
            "type": "carpet"
           }
          ],
          "choropleth": [
           {
            "colorbar": {
             "outlinewidth": 0,
             "ticks": ""
            },
            "type": "choropleth"
           }
          ],
          "contour": [
           {
            "colorbar": {
             "outlinewidth": 0,
             "ticks": ""
            },
            "colorscale": [
             [
              0,
              "#0d0887"
             ],
             [
              0.1111111111111111,
              "#46039f"
             ],
             [
              0.2222222222222222,
              "#7201a8"
             ],
             [
              0.3333333333333333,
              "#9c179e"
             ],
             [
              0.4444444444444444,
              "#bd3786"
             ],
             [
              0.5555555555555556,
              "#d8576b"
             ],
             [
              0.6666666666666666,
              "#ed7953"
             ],
             [
              0.7777777777777778,
              "#fb9f3a"
             ],
             [
              0.8888888888888888,
              "#fdca26"
             ],
             [
              1,
              "#f0f921"
             ]
            ],
            "type": "contour"
           }
          ],
          "contourcarpet": [
           {
            "colorbar": {
             "outlinewidth": 0,
             "ticks": ""
            },
            "type": "contourcarpet"
           }
          ],
          "heatmap": [
           {
            "colorbar": {
             "outlinewidth": 0,
             "ticks": ""
            },
            "colorscale": [
             [
              0,
              "#0d0887"
             ],
             [
              0.1111111111111111,
              "#46039f"
             ],
             [
              0.2222222222222222,
              "#7201a8"
             ],
             [
              0.3333333333333333,
              "#9c179e"
             ],
             [
              0.4444444444444444,
              "#bd3786"
             ],
             [
              0.5555555555555556,
              "#d8576b"
             ],
             [
              0.6666666666666666,
              "#ed7953"
             ],
             [
              0.7777777777777778,
              "#fb9f3a"
             ],
             [
              0.8888888888888888,
              "#fdca26"
             ],
             [
              1,
              "#f0f921"
             ]
            ],
            "type": "heatmap"
           }
          ],
          "heatmapgl": [
           {
            "colorbar": {
             "outlinewidth": 0,
             "ticks": ""
            },
            "colorscale": [
             [
              0,
              "#0d0887"
             ],
             [
              0.1111111111111111,
              "#46039f"
             ],
             [
              0.2222222222222222,
              "#7201a8"
             ],
             [
              0.3333333333333333,
              "#9c179e"
             ],
             [
              0.4444444444444444,
              "#bd3786"
             ],
             [
              0.5555555555555556,
              "#d8576b"
             ],
             [
              0.6666666666666666,
              "#ed7953"
             ],
             [
              0.7777777777777778,
              "#fb9f3a"
             ],
             [
              0.8888888888888888,
              "#fdca26"
             ],
             [
              1,
              "#f0f921"
             ]
            ],
            "type": "heatmapgl"
           }
          ],
          "histogram": [
           {
            "marker": {
             "pattern": {
              "fillmode": "overlay",
              "size": 10,
              "solidity": 0.2
             }
            },
            "type": "histogram"
           }
          ],
          "histogram2d": [
           {
            "colorbar": {
             "outlinewidth": 0,
             "ticks": ""
            },
            "colorscale": [
             [
              0,
              "#0d0887"
             ],
             [
              0.1111111111111111,
              "#46039f"
             ],
             [
              0.2222222222222222,
              "#7201a8"
             ],
             [
              0.3333333333333333,
              "#9c179e"
             ],
             [
              0.4444444444444444,
              "#bd3786"
             ],
             [
              0.5555555555555556,
              "#d8576b"
             ],
             [
              0.6666666666666666,
              "#ed7953"
             ],
             [
              0.7777777777777778,
              "#fb9f3a"
             ],
             [
              0.8888888888888888,
              "#fdca26"
             ],
             [
              1,
              "#f0f921"
             ]
            ],
            "type": "histogram2d"
           }
          ],
          "histogram2dcontour": [
           {
            "colorbar": {
             "outlinewidth": 0,
             "ticks": ""
            },
            "colorscale": [
             [
              0,
              "#0d0887"
             ],
             [
              0.1111111111111111,
              "#46039f"
             ],
             [
              0.2222222222222222,
              "#7201a8"
             ],
             [
              0.3333333333333333,
              "#9c179e"
             ],
             [
              0.4444444444444444,
              "#bd3786"
             ],
             [
              0.5555555555555556,
              "#d8576b"
             ],
             [
              0.6666666666666666,
              "#ed7953"
             ],
             [
              0.7777777777777778,
              "#fb9f3a"
             ],
             [
              0.8888888888888888,
              "#fdca26"
             ],
             [
              1,
              "#f0f921"
             ]
            ],
            "type": "histogram2dcontour"
           }
          ],
          "mesh3d": [
           {
            "colorbar": {
             "outlinewidth": 0,
             "ticks": ""
            },
            "type": "mesh3d"
           }
          ],
          "parcoords": [
           {
            "line": {
             "colorbar": {
              "outlinewidth": 0,
              "ticks": ""
             }
            },
            "type": "parcoords"
           }
          ],
          "pie": [
           {
            "automargin": true,
            "type": "pie"
           }
          ],
          "scatter": [
           {
            "fillpattern": {
             "fillmode": "overlay",
             "size": 10,
             "solidity": 0.2
            },
            "type": "scatter"
           }
          ],
          "scatter3d": [
           {
            "line": {
             "colorbar": {
              "outlinewidth": 0,
              "ticks": ""
             }
            },
            "marker": {
             "colorbar": {
              "outlinewidth": 0,
              "ticks": ""
             }
            },
            "type": "scatter3d"
           }
          ],
          "scattercarpet": [
           {
            "marker": {
             "colorbar": {
              "outlinewidth": 0,
              "ticks": ""
             }
            },
            "type": "scattercarpet"
           }
          ],
          "scattergeo": [
           {
            "marker": {
             "colorbar": {
              "outlinewidth": 0,
              "ticks": ""
             }
            },
            "type": "scattergeo"
           }
          ],
          "scattergl": [
           {
            "marker": {
             "colorbar": {
              "outlinewidth": 0,
              "ticks": ""
             }
            },
            "type": "scattergl"
           }
          ],
          "scattermapbox": [
           {
            "marker": {
             "colorbar": {
              "outlinewidth": 0,
              "ticks": ""
             }
            },
            "type": "scattermapbox"
           }
          ],
          "scatterpolar": [
           {
            "marker": {
             "colorbar": {
              "outlinewidth": 0,
              "ticks": ""
             }
            },
            "type": "scatterpolar"
           }
          ],
          "scatterpolargl": [
           {
            "marker": {
             "colorbar": {
              "outlinewidth": 0,
              "ticks": ""
             }
            },
            "type": "scatterpolargl"
           }
          ],
          "scatterternary": [
           {
            "marker": {
             "colorbar": {
              "outlinewidth": 0,
              "ticks": ""
             }
            },
            "type": "scatterternary"
           }
          ],
          "surface": [
           {
            "colorbar": {
             "outlinewidth": 0,
             "ticks": ""
            },
            "colorscale": [
             [
              0,
              "#0d0887"
             ],
             [
              0.1111111111111111,
              "#46039f"
             ],
             [
              0.2222222222222222,
              "#7201a8"
             ],
             [
              0.3333333333333333,
              "#9c179e"
             ],
             [
              0.4444444444444444,
              "#bd3786"
             ],
             [
              0.5555555555555556,
              "#d8576b"
             ],
             [
              0.6666666666666666,
              "#ed7953"
             ],
             [
              0.7777777777777778,
              "#fb9f3a"
             ],
             [
              0.8888888888888888,
              "#fdca26"
             ],
             [
              1,
              "#f0f921"
             ]
            ],
            "type": "surface"
           }
          ],
          "table": [
           {
            "cells": {
             "fill": {
              "color": "#EBF0F8"
             },
             "line": {
              "color": "white"
             }
            },
            "header": {
             "fill": {
              "color": "#C8D4E3"
             },
             "line": {
              "color": "white"
             }
            },
            "type": "table"
           }
          ]
         },
         "layout": {
          "annotationdefaults": {
           "arrowcolor": "#2a3f5f",
           "arrowhead": 0,
           "arrowwidth": 1
          },
          "autotypenumbers": "strict",
          "coloraxis": {
           "colorbar": {
            "outlinewidth": 0,
            "ticks": ""
           }
          },
          "colorscale": {
           "diverging": [
            [
             0,
             "#8e0152"
            ],
            [
             0.1,
             "#c51b7d"
            ],
            [
             0.2,
             "#de77ae"
            ],
            [
             0.3,
             "#f1b6da"
            ],
            [
             0.4,
             "#fde0ef"
            ],
            [
             0.5,
             "#f7f7f7"
            ],
            [
             0.6,
             "#e6f5d0"
            ],
            [
             0.7,
             "#b8e186"
            ],
            [
             0.8,
             "#7fbc41"
            ],
            [
             0.9,
             "#4d9221"
            ],
            [
             1,
             "#276419"
            ]
           ],
           "sequential": [
            [
             0,
             "#0d0887"
            ],
            [
             0.1111111111111111,
             "#46039f"
            ],
            [
             0.2222222222222222,
             "#7201a8"
            ],
            [
             0.3333333333333333,
             "#9c179e"
            ],
            [
             0.4444444444444444,
             "#bd3786"
            ],
            [
             0.5555555555555556,
             "#d8576b"
            ],
            [
             0.6666666666666666,
             "#ed7953"
            ],
            [
             0.7777777777777778,
             "#fb9f3a"
            ],
            [
             0.8888888888888888,
             "#fdca26"
            ],
            [
             1,
             "#f0f921"
            ]
           ],
           "sequentialminus": [
            [
             0,
             "#0d0887"
            ],
            [
             0.1111111111111111,
             "#46039f"
            ],
            [
             0.2222222222222222,
             "#7201a8"
            ],
            [
             0.3333333333333333,
             "#9c179e"
            ],
            [
             0.4444444444444444,
             "#bd3786"
            ],
            [
             0.5555555555555556,
             "#d8576b"
            ],
            [
             0.6666666666666666,
             "#ed7953"
            ],
            [
             0.7777777777777778,
             "#fb9f3a"
            ],
            [
             0.8888888888888888,
             "#fdca26"
            ],
            [
             1,
             "#f0f921"
            ]
           ]
          },
          "colorway": [
           "#636efa",
           "#EF553B",
           "#00cc96",
           "#ab63fa",
           "#FFA15A",
           "#19d3f3",
           "#FF6692",
           "#B6E880",
           "#FF97FF",
           "#FECB52"
          ],
          "font": {
           "color": "#2a3f5f"
          },
          "geo": {
           "bgcolor": "white",
           "lakecolor": "white",
           "landcolor": "#E5ECF6",
           "showlakes": true,
           "showland": true,
           "subunitcolor": "white"
          },
          "hoverlabel": {
           "align": "left"
          },
          "hovermode": "closest",
          "mapbox": {
           "style": "light"
          },
          "paper_bgcolor": "white",
          "plot_bgcolor": "#E5ECF6",
          "polar": {
           "angularaxis": {
            "gridcolor": "white",
            "linecolor": "white",
            "ticks": ""
           },
           "bgcolor": "#E5ECF6",
           "radialaxis": {
            "gridcolor": "white",
            "linecolor": "white",
            "ticks": ""
           }
          },
          "scene": {
           "xaxis": {
            "backgroundcolor": "#E5ECF6",
            "gridcolor": "white",
            "gridwidth": 2,
            "linecolor": "white",
            "showbackground": true,
            "ticks": "",
            "zerolinecolor": "white"
           },
           "yaxis": {
            "backgroundcolor": "#E5ECF6",
            "gridcolor": "white",
            "gridwidth": 2,
            "linecolor": "white",
            "showbackground": true,
            "ticks": "",
            "zerolinecolor": "white"
           },
           "zaxis": {
            "backgroundcolor": "#E5ECF6",
            "gridcolor": "white",
            "gridwidth": 2,
            "linecolor": "white",
            "showbackground": true,
            "ticks": "",
            "zerolinecolor": "white"
           }
          },
          "shapedefaults": {
           "line": {
            "color": "#2a3f5f"
           }
          },
          "ternary": {
           "aaxis": {
            "gridcolor": "white",
            "linecolor": "white",
            "ticks": ""
           },
           "baxis": {
            "gridcolor": "white",
            "linecolor": "white",
            "ticks": ""
           },
           "bgcolor": "#E5ECF6",
           "caxis": {
            "gridcolor": "white",
            "linecolor": "white",
            "ticks": ""
           }
          },
          "title": {
           "x": 0.05
          },
          "xaxis": {
           "automargin": true,
           "gridcolor": "white",
           "linecolor": "white",
           "ticks": "",
           "title": {
            "standoff": 15
           },
           "zerolinecolor": "white",
           "zerolinewidth": 2
          },
          "yaxis": {
           "automargin": true,
           "gridcolor": "white",
           "linecolor": "white",
           "ticks": "",
           "title": {
            "standoff": 15
           },
           "zerolinecolor": "white",
           "zerolinewidth": 2
          }
         }
        },
        "xaxis": {
         "anchor": "y",
         "domain": [
          0,
          1
         ]
        },
        "yaxis": {
         "anchor": "x",
         "domain": [
          0,
          1
         ],
         "title": {
          "text": "Research Rank"
         }
        }
       }
      }
     },
     "metadata": {},
     "output_type": "display_data"
    }
   ],
   "source": [
    "fig = px.box(data_frame=wru_ranking, y=\"Research Rank\")\n",
    "fig.show()"
   ]
  },
  {
   "cell_type": "markdown",
   "id": "b5a6b292",
   "metadata": {},
   "source": [
    "As this columns represents data, it is logical to have no outliers in the data."
   ]
  },
  {
   "cell_type": "markdown",
   "id": "a051a97e",
   "metadata": {},
   "source": [
    "## Data Cleaning"
   ]
  },
  {
   "cell_type": "markdown",
   "id": "8a22f085",
   "metadata": {},
   "source": [
    "We will change the data types of the world ranks column to integer."
   ]
  },
  {
   "cell_type": "code",
   "execution_count": 27,
   "id": "6c998023",
   "metadata": {},
   "outputs": [
    {
     "data": {
      "text/html": [
       "<div>\n",
       "<style scoped>\n",
       "    .dataframe tbody tr th:only-of-type {\n",
       "        vertical-align: middle;\n",
       "    }\n",
       "\n",
       "    .dataframe tbody tr th {\n",
       "        vertical-align: top;\n",
       "    }\n",
       "\n",
       "    .dataframe thead th {\n",
       "        text-align: right;\n",
       "    }\n",
       "</style>\n",
       "<table border=\"1\" class=\"dataframe\">\n",
       "  <thead>\n",
       "    <tr style=\"text-align: right;\">\n",
       "      <th></th>\n",
       "      <th>World Rank</th>\n",
       "      <th>University Names</th>\n",
       "      <th>Location</th>\n",
       "      <th>National Rank</th>\n",
       "      <th>Educational Rank</th>\n",
       "      <th>Employability Rank</th>\n",
       "      <th>Faculty Rank</th>\n",
       "      <th>Research Rank</th>\n",
       "      <th>Score</th>\n",
       "    </tr>\n",
       "  </thead>\n",
       "  <tbody>\n",
       "    <tr>\n",
       "      <th>0</th>\n",
       "      <td>1</td>\n",
       "      <td>Harvard University\\r\\n  CWUR Rating System:   ...</td>\n",
       "      <td>USA</td>\n",
       "      <td>1.0</td>\n",
       "      <td>1.0</td>\n",
       "      <td>1.0</td>\n",
       "      <td>1.0</td>\n",
       "      <td>1.0</td>\n",
       "      <td>100.0</td>\n",
       "    </tr>\n",
       "    <tr>\n",
       "      <th>1</th>\n",
       "      <td>2</td>\n",
       "      <td>Massachusetts Institute of Technology\\r\\n  Edu...</td>\n",
       "      <td>USA</td>\n",
       "      <td>2.0</td>\n",
       "      <td>4.0</td>\n",
       "      <td>12.0</td>\n",
       "      <td>3.0</td>\n",
       "      <td>9.0</td>\n",
       "      <td>96.7</td>\n",
       "    </tr>\n",
       "    <tr>\n",
       "      <th>2</th>\n",
       "      <td>3</td>\n",
       "      <td>Stanford University\\r\\n  Education: A+; Employ...</td>\n",
       "      <td>USA</td>\n",
       "      <td>3.0</td>\n",
       "      <td>11.0</td>\n",
       "      <td>4.0</td>\n",
       "      <td>2.0</td>\n",
       "      <td>2.0</td>\n",
       "      <td>95.2</td>\n",
       "    </tr>\n",
       "    <tr>\n",
       "      <th>3</th>\n",
       "      <td>4</td>\n",
       "      <td>University of Cambridge\\r\\n  Education: A+; Em...</td>\n",
       "      <td>United Kingdom</td>\n",
       "      <td>1.0</td>\n",
       "      <td>3.0</td>\n",
       "      <td>25.0</td>\n",
       "      <td>5.0</td>\n",
       "      <td>11.0</td>\n",
       "      <td>94.1</td>\n",
       "    </tr>\n",
       "    <tr>\n",
       "      <th>4</th>\n",
       "      <td>5</td>\n",
       "      <td>University of Oxford\\r\\n  Education: A+; Emplo...</td>\n",
       "      <td>United Kingdom</td>\n",
       "      <td>2.0</td>\n",
       "      <td>7.0</td>\n",
       "      <td>27.0</td>\n",
       "      <td>9.0</td>\n",
       "      <td>4.0</td>\n",
       "      <td>93.3</td>\n",
       "    </tr>\n",
       "  </tbody>\n",
       "</table>\n",
       "</div>"
      ],
      "text/plain": [
       "   World Rank                                   University Names  \\\n",
       "0           1  Harvard University\\r\\n  CWUR Rating System:   ...   \n",
       "1           2  Massachusetts Institute of Technology\\r\\n  Edu...   \n",
       "2           3  Stanford University\\r\\n  Education: A+; Employ...   \n",
       "3           4  University of Cambridge\\r\\n  Education: A+; Em...   \n",
       "4           5  University of Oxford\\r\\n  Education: A+; Emplo...   \n",
       "\n",
       "        Location   National Rank  Educational Rank  Employability Rank  \\\n",
       "0             USA            1.0               1.0                 1.0   \n",
       "1             USA            2.0               4.0                12.0   \n",
       "2             USA            3.0              11.0                 4.0   \n",
       "3  United Kingdom            1.0               3.0                25.0   \n",
       "4  United Kingdom            2.0               7.0                27.0   \n",
       "\n",
       "   Faculty Rank  Research Rank  Score  \n",
       "0           1.0            1.0  100.0  \n",
       "1           3.0            9.0   96.7  \n",
       "2           2.0            2.0   95.2  \n",
       "3           5.0           11.0   94.1  \n",
       "4           9.0            4.0   93.3  "
      ]
     },
     "execution_count": 27,
     "metadata": {},
     "output_type": "execute_result"
    }
   ],
   "source": [
    "wru_ranking['World Rank'] = wru_ranking['World Rank'].apply(lambda x: x.split('T')[0])\n",
    "wru_ranking['World Rank'] = wru_ranking['World Rank'].astype(int)\n",
    "wru_ranking.head()"
   ]
  },
  {
   "cell_type": "code",
   "execution_count": 28,
   "id": "ecf1b1c7",
   "metadata": {},
   "outputs": [
    {
     "data": {
      "text/plain": [
       "World Rank              int32\n",
       "University Names       object\n",
       "Location               object\n",
       "National Rank         float64\n",
       "Educational Rank      float64\n",
       "Employability Rank    float64\n",
       "Faculty Rank          float64\n",
       "Research Rank         float64\n",
       "Score                 float64\n",
       "dtype: object"
      ]
     },
     "execution_count": 28,
     "metadata": {},
     "output_type": "execute_result"
    }
   ],
   "source": [
    "wru_ranking.dtypes"
   ]
  },
  {
   "cell_type": "markdown",
   "id": "74c53fb1",
   "metadata": {},
   "source": [
    "Then We will clean the university names column"
   ]
  },
  {
   "cell_type": "code",
   "execution_count": 29,
   "metadata": {},
   "outputs": [
    {
     "data": {
      "text/html": [
       "<div>\n",
       "<style scoped>\n",
       "    .dataframe tbody tr th:only-of-type {\n",
       "        vertical-align: middle;\n",
       "    }\n",
       "\n",
       "    .dataframe tbody tr th {\n",
       "        vertical-align: top;\n",
       "    }\n",
       "\n",
       "    .dataframe thead th {\n",
       "        text-align: right;\n",
       "    }\n",
       "</style>\n",
       "<table border=\"1\" class=\"dataframe\">\n",
       "  <thead>\n",
       "    <tr style=\"text-align: right;\">\n",
       "      <th></th>\n",
       "      <th>World Rank</th>\n",
       "      <th>University Names</th>\n",
       "      <th>Location</th>\n",
       "      <th>National Rank</th>\n",
       "      <th>Educational Rank</th>\n",
       "      <th>Employability Rank</th>\n",
       "      <th>Faculty Rank</th>\n",
       "      <th>Research Rank</th>\n",
       "      <th>Score</th>\n",
       "    </tr>\n",
       "  </thead>\n",
       "  <tbody>\n",
       "    <tr>\n",
       "      <th>0</th>\n",
       "      <td>1</td>\n",
       "      <td>Harvard University\\r</td>\n",
       "      <td>USA</td>\n",
       "      <td>1.0</td>\n",
       "      <td>1.0</td>\n",
       "      <td>1.0</td>\n",
       "      <td>1.0</td>\n",
       "      <td>1.0</td>\n",
       "      <td>100.0</td>\n",
       "    </tr>\n",
       "    <tr>\n",
       "      <th>1</th>\n",
       "      <td>2</td>\n",
       "      <td>Massachusetts Institute of Technology\\r</td>\n",
       "      <td>USA</td>\n",
       "      <td>2.0</td>\n",
       "      <td>4.0</td>\n",
       "      <td>12.0</td>\n",
       "      <td>3.0</td>\n",
       "      <td>9.0</td>\n",
       "      <td>96.7</td>\n",
       "    </tr>\n",
       "    <tr>\n",
       "      <th>2</th>\n",
       "      <td>3</td>\n",
       "      <td>Stanford University\\r</td>\n",
       "      <td>USA</td>\n",
       "      <td>3.0</td>\n",
       "      <td>11.0</td>\n",
       "      <td>4.0</td>\n",
       "      <td>2.0</td>\n",
       "      <td>2.0</td>\n",
       "      <td>95.2</td>\n",
       "    </tr>\n",
       "    <tr>\n",
       "      <th>3</th>\n",
       "      <td>4</td>\n",
       "      <td>University of Cambridge\\r</td>\n",
       "      <td>United Kingdom</td>\n",
       "      <td>1.0</td>\n",
       "      <td>3.0</td>\n",
       "      <td>25.0</td>\n",
       "      <td>5.0</td>\n",
       "      <td>11.0</td>\n",
       "      <td>94.1</td>\n",
       "    </tr>\n",
       "    <tr>\n",
       "      <th>4</th>\n",
       "      <td>5</td>\n",
       "      <td>University of Oxford\\r</td>\n",
       "      <td>United Kingdom</td>\n",
       "      <td>2.0</td>\n",
       "      <td>7.0</td>\n",
       "      <td>27.0</td>\n",
       "      <td>9.0</td>\n",
       "      <td>4.0</td>\n",
       "      <td>93.3</td>\n",
       "    </tr>\n",
       "  </tbody>\n",
       "</table>\n",
       "</div>"
      ],
      "text/plain": [
       "   World Rank                         University Names       Location   \\\n",
       "0           1                     Harvard University\\r             USA   \n",
       "1           2  Massachusetts Institute of Technology\\r             USA   \n",
       "2           3                    Stanford University\\r             USA   \n",
       "3           4                University of Cambridge\\r  United Kingdom   \n",
       "4           5                   University of Oxford\\r  United Kingdom   \n",
       "\n",
       "   National Rank  Educational Rank  Employability Rank  Faculty Rank  \\\n",
       "0            1.0               1.0                 1.0           1.0   \n",
       "1            2.0               4.0                12.0           3.0   \n",
       "2            3.0              11.0                 4.0           2.0   \n",
       "3            1.0               3.0                25.0           5.0   \n",
       "4            2.0               7.0                27.0           9.0   \n",
       "\n",
       "   Research Rank  Score  \n",
       "0            1.0  100.0  \n",
       "1            9.0   96.7  \n",
       "2            2.0   95.2  \n",
       "3           11.0   94.1  \n",
       "4            4.0   93.3  "
      ]
     },
     "execution_count": 29,
     "metadata": {},
     "output_type": "execute_result"
    }
   ],
   "source": [
    "wru_ranking['University Names'] = wru_ranking['University Names'].apply(lambda x: x.split(\"\\n\")[0])\n",
    "wru_ranking.head()"
   ]
  },
  {
   "cell_type": "markdown",
   "id": "dc1d9a2f",
   "metadata": {},
   "source": [
    "We have to handle the null data. So we will drops the NaN values in the dataset and create a dataset with no null values. So we can study the ranks that have missing values better. and use the original dataset to study the general ranks."
   ]
  },
  {
   "cell_type": "code",
   "execution_count": 30,
   "id": "0f87e162",
   "metadata": {},
   "outputs": [
    {
     "data": {
      "text/plain": [
       "World Rank            0\n",
       "University Names      0\n",
       "Location              0\n",
       "National Rank         0\n",
       "Educational Rank      0\n",
       "Employability Rank    0\n",
       "Faculty Rank          0\n",
       "Research Rank         0\n",
       "Score                 0\n",
       "dtype: int64"
      ]
     },
     "execution_count": 30,
     "metadata": {},
     "output_type": "execute_result"
    }
   ],
   "source": [
    "wru_nonull = wru_ranking.dropna(axis=0, how='any')\n",
    "wru_nonull.isnull().sum()"
   ]
  },
  {
   "cell_type": "markdown",
   "id": "474406eb",
   "metadata": {},
   "source": [
    "And we will change the data types of the ranks to integers."
   ]
  },
  {
   "cell_type": "code",
   "execution_count": 31,
   "id": "662128a8",
   "metadata": {},
   "outputs": [
    {
     "name": "stderr",
     "output_type": "stream",
     "text": [
      "C:\\Users\\inter\\AppData\\Local\\Temp\\ipykernel_18364\\3877180514.py:1: SettingWithCopyWarning: \n",
      "A value is trying to be set on a copy of a slice from a DataFrame.\n",
      "Try using .loc[row_indexer,col_indexer] = value instead\n",
      "\n",
      "See the caveats in the documentation: https://pandas.pydata.org/pandas-docs/stable/user_guide/indexing.html#returning-a-view-versus-a-copy\n",
      "  wru_nonull['National Rank'] = wru_nonull['National Rank'].astype(int)\n",
      "C:\\Users\\inter\\AppData\\Local\\Temp\\ipykernel_18364\\3877180514.py:2: SettingWithCopyWarning: \n",
      "A value is trying to be set on a copy of a slice from a DataFrame.\n",
      "Try using .loc[row_indexer,col_indexer] = value instead\n",
      "\n",
      "See the caveats in the documentation: https://pandas.pydata.org/pandas-docs/stable/user_guide/indexing.html#returning-a-view-versus-a-copy\n",
      "  wru_nonull['Educational Rank'] = wru_nonull['Educational Rank'].astype(int)\n",
      "C:\\Users\\inter\\AppData\\Local\\Temp\\ipykernel_18364\\3877180514.py:3: SettingWithCopyWarning: \n",
      "A value is trying to be set on a copy of a slice from a DataFrame.\n",
      "Try using .loc[row_indexer,col_indexer] = value instead\n",
      "\n",
      "See the caveats in the documentation: https://pandas.pydata.org/pandas-docs/stable/user_guide/indexing.html#returning-a-view-versus-a-copy\n",
      "  wru_nonull['Employability Rank'] = wru_nonull['Employability Rank'].astype(int)\n",
      "C:\\Users\\inter\\AppData\\Local\\Temp\\ipykernel_18364\\3877180514.py:4: SettingWithCopyWarning: \n",
      "A value is trying to be set on a copy of a slice from a DataFrame.\n",
      "Try using .loc[row_indexer,col_indexer] = value instead\n",
      "\n",
      "See the caveats in the documentation: https://pandas.pydata.org/pandas-docs/stable/user_guide/indexing.html#returning-a-view-versus-a-copy\n",
      "  wru_nonull['Faculty Rank'] = wru_nonull['Faculty Rank'].astype(int)\n",
      "C:\\Users\\inter\\AppData\\Local\\Temp\\ipykernel_18364\\3877180514.py:5: SettingWithCopyWarning: \n",
      "A value is trying to be set on a copy of a slice from a DataFrame.\n",
      "Try using .loc[row_indexer,col_indexer] = value instead\n",
      "\n",
      "See the caveats in the documentation: https://pandas.pydata.org/pandas-docs/stable/user_guide/indexing.html#returning-a-view-versus-a-copy\n",
      "  wru_nonull['Research Rank'] = wru_nonull['Research Rank'].astype(int)\n"
     ]
    },
    {
     "data": {
      "text/plain": [
       "World Rank              int32\n",
       "University Names       object\n",
       "Location               object\n",
       "National Rank           int32\n",
       "Educational Rank        int32\n",
       "Employability Rank      int32\n",
       "Faculty Rank            int32\n",
       "Research Rank           int32\n",
       "Score                 float64\n",
       "dtype: object"
      ]
     },
     "execution_count": 31,
     "metadata": {},
     "output_type": "execute_result"
    }
   ],
   "source": [
    "wru_nonull['National Rank'] = wru_nonull['National Rank'].astype(int)\n",
    "wru_nonull['Educational Rank'] = wru_nonull['Educational Rank'].astype(int)\n",
    "wru_nonull['Employability Rank'] = wru_nonull['Employability Rank'].astype(int)\n",
    "wru_nonull['Faculty Rank'] = wru_nonull['Faculty Rank'].astype(int)\n",
    "wru_nonull['Research Rank'] = wru_nonull['Research Rank'].astype(int)\n",
    "\n",
    "wru_nonull.dtypes"
   ]
  },
  {
   "cell_type": "code",
   "execution_count": 32,
   "id": "015db2de",
   "metadata": {},
   "outputs": [
    {
     "data": {
      "text/html": [
       "<div>\n",
       "<style scoped>\n",
       "    .dataframe tbody tr th:only-of-type {\n",
       "        vertical-align: middle;\n",
       "    }\n",
       "\n",
       "    .dataframe tbody tr th {\n",
       "        vertical-align: top;\n",
       "    }\n",
       "\n",
       "    .dataframe thead th {\n",
       "        text-align: right;\n",
       "    }\n",
       "</style>\n",
       "<table border=\"1\" class=\"dataframe\">\n",
       "  <thead>\n",
       "    <tr style=\"text-align: right;\">\n",
       "      <th></th>\n",
       "      <th>World Rank</th>\n",
       "      <th>University Names</th>\n",
       "      <th>Location</th>\n",
       "      <th>National Rank</th>\n",
       "      <th>Educational Rank</th>\n",
       "      <th>Employability Rank</th>\n",
       "      <th>Faculty Rank</th>\n",
       "      <th>Research Rank</th>\n",
       "      <th>Score</th>\n",
       "    </tr>\n",
       "  </thead>\n",
       "  <tbody>\n",
       "    <tr>\n",
       "      <th>0</th>\n",
       "      <td>1</td>\n",
       "      <td>Harvard University\\r</td>\n",
       "      <td>USA</td>\n",
       "      <td>1.0</td>\n",
       "      <td>1.0</td>\n",
       "      <td>1.0</td>\n",
       "      <td>1.0</td>\n",
       "      <td>1.0</td>\n",
       "      <td>100.0</td>\n",
       "    </tr>\n",
       "    <tr>\n",
       "      <th>119</th>\n",
       "      <td>120</td>\n",
       "      <td>INSEAD</td>\n",
       "      <td>France</td>\n",
       "      <td>6.0</td>\n",
       "      <td>NaN</td>\n",
       "      <td>2.0</td>\n",
       "      <td>NaN</td>\n",
       "      <td>1710.0</td>\n",
       "      <td>81.1</td>\n",
       "    </tr>\n",
       "    <tr>\n",
       "      <th>210</th>\n",
       "      <td>211</td>\n",
       "      <td>Institut national du service public</td>\n",
       "      <td>France</td>\n",
       "      <td>11.0</td>\n",
       "      <td>NaN</td>\n",
       "      <td>3.0</td>\n",
       "      <td>NaN</td>\n",
       "      <td>NaN</td>\n",
       "      <td>78.5</td>\n",
       "    </tr>\n",
       "    <tr>\n",
       "      <th>2</th>\n",
       "      <td>3</td>\n",
       "      <td>Stanford University\\r</td>\n",
       "      <td>USA</td>\n",
       "      <td>3.0</td>\n",
       "      <td>11.0</td>\n",
       "      <td>4.0</td>\n",
       "      <td>2.0</td>\n",
       "      <td>2.0</td>\n",
       "      <td>95.2</td>\n",
       "    </tr>\n",
       "    <tr>\n",
       "      <th>273</th>\n",
       "      <td>274</td>\n",
       "      <td>China Europe International Business School</td>\n",
       "      <td>China</td>\n",
       "      <td>32.0</td>\n",
       "      <td>NaN</td>\n",
       "      <td>5.0</td>\n",
       "      <td>NaN</td>\n",
       "      <td>NaN</td>\n",
       "      <td>77.3</td>\n",
       "    </tr>\n",
       "    <tr>\n",
       "      <th>12</th>\n",
       "      <td>13</td>\n",
       "      <td>University of Tokyo</td>\n",
       "      <td>Japan</td>\n",
       "      <td>1.0</td>\n",
       "      <td>37.0</td>\n",
       "      <td>6.0</td>\n",
       "      <td>113.0</td>\n",
       "      <td>30.0</td>\n",
       "      <td>89.8</td>\n",
       "    </tr>\n",
       "    <tr>\n",
       "      <th>279</th>\n",
       "      <td>280</td>\n",
       "      <td>HEC Paris</td>\n",
       "      <td>France</td>\n",
       "      <td>15.0</td>\n",
       "      <td>NaN</td>\n",
       "      <td>7.0</td>\n",
       "      <td>NaN</td>\n",
       "      <td>NaN</td>\n",
       "      <td>77.2</td>\n",
       "    </tr>\n",
       "    <tr>\n",
       "      <th>8</th>\n",
       "      <td>9</td>\n",
       "      <td>University of Pennsylvania\\r</td>\n",
       "      <td>USA</td>\n",
       "      <td>7.0</td>\n",
       "      <td>14.0</td>\n",
       "      <td>8.0</td>\n",
       "      <td>45.0</td>\n",
       "      <td>12.0</td>\n",
       "      <td>91.2</td>\n",
       "    </tr>\n",
       "    <tr>\n",
       "      <th>44</th>\n",
       "      <td>45</td>\n",
       "      <td>Institut Polytechnique de Paris</td>\n",
       "      <td>France</td>\n",
       "      <td>5.0</td>\n",
       "      <td>102.0</td>\n",
       "      <td>9.0</td>\n",
       "      <td>188.0</td>\n",
       "      <td>370.0</td>\n",
       "      <td>85.1</td>\n",
       "    </tr>\n",
       "    <tr>\n",
       "      <th>405</th>\n",
       "      <td>406</td>\n",
       "      <td>International Institute for Management Develop...</td>\n",
       "      <td>Switzerland</td>\n",
       "      <td>8.0</td>\n",
       "      <td>NaN</td>\n",
       "      <td>10.0</td>\n",
       "      <td>NaN</td>\n",
       "      <td>NaN</td>\n",
       "      <td>75.3</td>\n",
       "    </tr>\n",
       "  </tbody>\n",
       "</table>\n",
       "</div>"
      ],
      "text/plain": [
       "     World Rank                                   University Names  \\\n",
       "0             1                               Harvard University\\r   \n",
       "119         120                                             INSEAD   \n",
       "210         211                Institut national du service public   \n",
       "2             3                              Stanford University\\r   \n",
       "273         274         China Europe International Business School   \n",
       "12           13                                University of Tokyo   \n",
       "279         280                                          HEC Paris   \n",
       "8             9                       University of Pennsylvania\\r   \n",
       "44           45                    Institut Polytechnique de Paris   \n",
       "405         406  International Institute for Management Develop...   \n",
       "\n",
       "       Location   National Rank  Educational Rank  Employability Rank  \\\n",
       "0            USA            1.0               1.0                 1.0   \n",
       "119       France            6.0               NaN                 2.0   \n",
       "210       France           11.0               NaN                 3.0   \n",
       "2            USA            3.0              11.0                 4.0   \n",
       "273        China           32.0               NaN                 5.0   \n",
       "12         Japan            1.0              37.0                 6.0   \n",
       "279       France           15.0               NaN                 7.0   \n",
       "8            USA            7.0              14.0                 8.0   \n",
       "44        France            5.0             102.0                 9.0   \n",
       "405  Switzerland            8.0               NaN                10.0   \n",
       "\n",
       "     Faculty Rank  Research Rank  Score  \n",
       "0             1.0            1.0  100.0  \n",
       "119           NaN         1710.0   81.1  \n",
       "210           NaN            NaN   78.5  \n",
       "2             2.0            2.0   95.2  \n",
       "273           NaN            NaN   77.3  \n",
       "12          113.0           30.0   89.8  \n",
       "279           NaN            NaN   77.2  \n",
       "8            45.0           12.0   91.2  \n",
       "44          188.0          370.0   85.1  \n",
       "405           NaN            NaN   75.3  "
      ]
     },
     "execution_count": 32,
     "metadata": {},
     "output_type": "execute_result"
    }
   ],
   "source": [
    "wru_ranking.sort_values(by='Employability Rank', ascending=True).head(10)"
   ]
  },
  {
   "cell_type": "code",
   "execution_count": 33,
   "id": "3f49c9a8",
   "metadata": {},
   "outputs": [
    {
     "data": {
      "text/html": [
       "<div>\n",
       "<style scoped>\n",
       "    .dataframe tbody tr th:only-of-type {\n",
       "        vertical-align: middle;\n",
       "    }\n",
       "\n",
       "    .dataframe tbody tr th {\n",
       "        vertical-align: top;\n",
       "    }\n",
       "\n",
       "    .dataframe thead th {\n",
       "        text-align: right;\n",
       "    }\n",
       "</style>\n",
       "<table border=\"1\" class=\"dataframe\">\n",
       "  <thead>\n",
       "    <tr style=\"text-align: right;\">\n",
       "      <th></th>\n",
       "      <th>World Rank</th>\n",
       "      <th>University Names</th>\n",
       "      <th>Location</th>\n",
       "      <th>National Rank</th>\n",
       "      <th>Educational Rank</th>\n",
       "      <th>Employability Rank</th>\n",
       "      <th>Faculty Rank</th>\n",
       "      <th>Research Rank</th>\n",
       "      <th>Score</th>\n",
       "    </tr>\n",
       "  </thead>\n",
       "  <tbody>\n",
       "    <tr>\n",
       "      <th>0</th>\n",
       "      <td>1</td>\n",
       "      <td>Harvard University\\r</td>\n",
       "      <td>USA</td>\n",
       "      <td>1.0</td>\n",
       "      <td>1.0</td>\n",
       "      <td>1.0</td>\n",
       "      <td>1.0</td>\n",
       "      <td>1.0</td>\n",
       "      <td>100.0</td>\n",
       "    </tr>\n",
       "    <tr>\n",
       "      <th>1</th>\n",
       "      <td>2</td>\n",
       "      <td>Massachusetts Institute of Technology\\r</td>\n",
       "      <td>USA</td>\n",
       "      <td>2.0</td>\n",
       "      <td>4.0</td>\n",
       "      <td>12.0</td>\n",
       "      <td>3.0</td>\n",
       "      <td>9.0</td>\n",
       "      <td>96.7</td>\n",
       "    </tr>\n",
       "    <tr>\n",
       "      <th>2</th>\n",
       "      <td>3</td>\n",
       "      <td>Stanford University\\r</td>\n",
       "      <td>USA</td>\n",
       "      <td>3.0</td>\n",
       "      <td>11.0</td>\n",
       "      <td>4.0</td>\n",
       "      <td>2.0</td>\n",
       "      <td>2.0</td>\n",
       "      <td>95.2</td>\n",
       "    </tr>\n",
       "    <tr>\n",
       "      <th>3</th>\n",
       "      <td>4</td>\n",
       "      <td>University of Cambridge\\r</td>\n",
       "      <td>United Kingdom</td>\n",
       "      <td>1.0</td>\n",
       "      <td>3.0</td>\n",
       "      <td>25.0</td>\n",
       "      <td>5.0</td>\n",
       "      <td>11.0</td>\n",
       "      <td>94.1</td>\n",
       "    </tr>\n",
       "    <tr>\n",
       "      <th>4</th>\n",
       "      <td>5</td>\n",
       "      <td>University of Oxford\\r</td>\n",
       "      <td>United Kingdom</td>\n",
       "      <td>2.0</td>\n",
       "      <td>7.0</td>\n",
       "      <td>27.0</td>\n",
       "      <td>9.0</td>\n",
       "      <td>4.0</td>\n",
       "      <td>93.3</td>\n",
       "    </tr>\n",
       "  </tbody>\n",
       "</table>\n",
       "</div>"
      ],
      "text/plain": [
       "   World Rank                         University Names       Location   \\\n",
       "0           1                     Harvard University\\r             USA   \n",
       "1           2  Massachusetts Institute of Technology\\r             USA   \n",
       "2           3                    Stanford University\\r             USA   \n",
       "3           4                University of Cambridge\\r  United Kingdom   \n",
       "4           5                   University of Oxford\\r  United Kingdom   \n",
       "\n",
       "   National Rank  Educational Rank  Employability Rank  Faculty Rank  \\\n",
       "0            1.0               1.0                 1.0           1.0   \n",
       "1            2.0               4.0                12.0           3.0   \n",
       "2            3.0              11.0                 4.0           2.0   \n",
       "3            1.0               3.0                25.0           5.0   \n",
       "4            2.0               7.0                27.0           9.0   \n",
       "\n",
       "   Research Rank  Score  \n",
       "0            1.0  100.0  \n",
       "1            9.0   96.7  \n",
       "2            2.0   95.2  \n",
       "3           11.0   94.1  \n",
       "4            4.0   93.3  "
      ]
     },
     "execution_count": 33,
     "metadata": {},
     "output_type": "execute_result"
    }
   ],
   "source": [
    "wru_ranking.head()"
   ]
  },
  {
   "cell_type": "code",
   "execution_count": 34,
   "id": "f2a2ca96",
   "metadata": {},
   "outputs": [
    {
     "data": {
      "text/html": [
       "<div>\n",
       "<style scoped>\n",
       "    .dataframe tbody tr th:only-of-type {\n",
       "        vertical-align: middle;\n",
       "    }\n",
       "\n",
       "    .dataframe tbody tr th {\n",
       "        vertical-align: top;\n",
       "    }\n",
       "\n",
       "    .dataframe thead th {\n",
       "        text-align: right;\n",
       "    }\n",
       "</style>\n",
       "<table border=\"1\" class=\"dataframe\">\n",
       "  <thead>\n",
       "    <tr style=\"text-align: right;\">\n",
       "      <th></th>\n",
       "      <th>World Rank</th>\n",
       "      <th>University Names</th>\n",
       "      <th>Location</th>\n",
       "      <th>National Rank</th>\n",
       "      <th>Educational Rank</th>\n",
       "      <th>Employability Rank</th>\n",
       "      <th>Faculty Rank</th>\n",
       "      <th>Research Rank</th>\n",
       "      <th>Score</th>\n",
       "    </tr>\n",
       "  </thead>\n",
       "  <tbody>\n",
       "    <tr>\n",
       "      <th>0</th>\n",
       "      <td>1</td>\n",
       "      <td>Harvard University\\r</td>\n",
       "      <td>USA</td>\n",
       "      <td>1.0</td>\n",
       "      <td>1.0</td>\n",
       "      <td>1.0</td>\n",
       "      <td>1.0</td>\n",
       "      <td>1.0</td>\n",
       "      <td>100.0</td>\n",
       "    </tr>\n",
       "  </tbody>\n",
       "</table>\n",
       "</div>"
      ],
      "text/plain": [
       "   World Rank      University Names Location   National Rank  \\\n",
       "0           1  Harvard University\\r       USA            1.0   \n",
       "\n",
       "   Educational Rank  Employability Rank  Faculty Rank  Research Rank  Score  \n",
       "0               1.0                 1.0           1.0            1.0  100.0  "
      ]
     },
     "execution_count": 34,
     "metadata": {},
     "output_type": "execute_result"
    }
   ],
   "source": [
    "wru_ranking1 = wru_ranking[wru_ranking['World Rank'] == 1]\n",
    "wru_ranking1"
   ]
  },
  {
   "cell_type": "markdown",
   "id": "a267b345",
   "metadata": {},
   "source": [
    "## Data Visualization"
   ]
  },
  {
   "cell_type": "code",
   "execution_count": 96,
   "id": "e2bc8c71",
   "metadata": {},
   "outputs": [
    {
     "data": {
      "application/vnd.plotly.v1+json": {
       "config": {
        "plotlyServerURL": "https://plot.ly"
       },
       "data": [
        {
         "alignmentgroup": "True",
         "bingroup": "x",
         "hovertemplate": "Score=%{x}<br>count=%{y}<extra></extra>",
         "legendgroup": "",
         "marker": {
          "color": "#636efa",
          "pattern": {
           "shape": ""
          }
         },
         "name": "",
         "offsetgroup": "",
         "orientation": "v",
         "showlegend": false,
         "type": "histogram",
         "x": [
          100,
          96.7,
          95.2,
          94.1,
          93.3,
          92.6,
          92.1,
          91.6,
          91.2,
          90.8,
          90.4,
          90.1,
          89.8,
          89.5,
          89.3,
          89.1,
          88.8,
          88.6,
          88.4,
          88.2,
          88,
          87.9,
          87.7,
          87.5,
          87.4,
          87.2,
          87.1,
          87,
          86.8,
          86.7,
          86.6,
          86.4,
          86.3,
          86.2,
          86.1,
          86,
          85.9,
          85.8,
          85.7,
          85.6,
          85.5,
          85.4,
          85.3,
          85.2,
          85.1,
          85,
          84.9,
          84.9,
          84.8,
          84.7,
          84.6,
          84.5,
          84.5,
          84.4,
          84.3,
          84.2,
          84.2,
          84.1,
          84,
          84,
          83.9,
          83.8,
          83.8,
          83.7,
          83.6,
          83.6,
          83.5,
          83.5,
          83.4,
          83.3,
          83.3,
          83.2,
          83.2,
          83.1,
          83,
          83,
          82.9,
          82.9,
          82.8,
          82.8,
          82.7,
          82.7,
          82.6,
          82.6,
          82.5,
          82.5,
          82.4,
          82.4,
          82.3,
          82.3,
          82.2,
          82.2,
          82.1,
          82.1,
          82.1,
          82,
          82,
          81.9,
          81.9,
          81.8,
          81.8,
          81.8,
          81.7,
          81.7,
          81.6,
          81.6,
          81.6,
          81.5,
          81.5,
          81.4,
          81.4,
          81.4,
          81.3,
          81.3,
          81.2,
          81.2,
          81.2,
          81.1,
          81.1,
          81.1,
          81,
          81,
          80.9,
          80.9,
          80.9,
          80.8,
          80.8,
          80.8,
          80.7,
          80.7,
          80.7,
          80.6,
          80.6,
          80.6,
          80.5,
          80.5,
          80.5,
          80.4,
          80.4,
          80.4,
          80.3,
          80.3,
          80.3,
          80.3,
          80.2,
          80.2,
          80.2,
          80.1,
          80.1,
          80.1,
          80,
          80,
          80,
          80,
          79.9,
          79.9,
          79.9,
          79.8,
          79.8,
          79.8,
          79.8,
          79.7,
          79.7,
          79.7,
          79.6,
          79.6,
          79.6,
          79.6,
          79.5,
          79.5,
          79.5,
          79.5,
          79.4,
          79.4,
          79.4,
          79.4,
          79.3,
          79.3,
          79.3,
          79.3,
          79.2,
          79.2,
          79.2,
          79.2,
          79.1,
          79.1,
          79.1,
          79.1,
          79,
          79,
          79,
          79,
          78.9,
          78.9,
          78.9,
          78.9,
          78.8,
          78.8,
          78.8,
          78.8,
          78.7,
          78.7,
          78.7,
          78.7,
          78.7,
          78.6,
          78.6,
          78.6,
          78.6,
          78.5,
          78.5,
          78.5,
          78.5,
          78.5,
          78.4,
          78.4,
          78.4,
          78.4,
          78.3,
          78.3,
          78.3,
          78.3,
          78.3,
          78.2,
          78.2,
          78.2,
          78.2,
          78.2,
          78.1,
          78.1,
          78.1,
          78.1,
          78.1,
          78,
          78,
          78,
          78,
          78,
          77.9,
          77.9,
          77.9,
          77.9,
          77.9,
          77.8,
          77.8,
          77.8,
          77.8,
          77.8,
          77.7,
          77.7,
          77.7,
          77.7,
          77.7,
          77.7,
          77.6,
          77.6,
          77.6,
          77.6,
          77.6,
          77.5,
          77.5,
          77.5,
          77.5,
          77.5,
          77.4,
          77.4,
          77.4,
          77.4,
          77.4,
          77.4,
          77.3,
          77.3,
          77.3,
          77.3,
          77.3,
          77.3,
          77.2,
          77.2,
          77.2,
          77.2,
          77.2,
          77.1,
          77.1,
          77.1,
          77.1,
          77.1,
          77.1,
          77,
          77,
          77,
          77,
          77,
          77,
          76.9,
          76.9,
          76.9,
          76.9,
          76.9,
          76.9,
          76.8,
          76.8,
          76.8,
          76.8,
          76.8,
          76.8,
          76.8,
          76.7,
          76.7,
          76.7,
          76.7,
          76.7,
          76.7,
          76.6,
          76.6,
          76.6,
          76.6,
          76.6,
          76.6,
          76.5,
          76.5,
          76.5,
          76.5,
          76.5,
          76.5,
          76.5,
          76.4,
          76.4,
          76.4,
          76.4,
          76.4,
          76.4,
          76.4,
          76.3,
          76.3,
          76.3,
          76.3,
          76.3,
          76.3,
          76.2,
          76.2,
          76.2,
          76.2,
          76.2,
          76.2,
          76.2,
          76.1,
          76.1,
          76.1,
          76.1,
          76.1,
          76.1,
          76.1,
          76,
          76,
          76,
          76,
          76,
          76,
          76,
          76,
          75.9,
          75.9,
          75.9,
          75.9,
          75.9,
          75.9,
          75.9,
          75.8,
          75.8,
          75.8,
          75.8,
          75.8,
          75.8,
          75.8,
          75.7,
          75.7,
          75.7,
          75.7,
          75.7,
          75.7,
          75.7,
          75.7,
          75.6,
          75.6,
          75.6,
          75.6,
          75.6,
          75.6,
          75.6,
          75.5,
          75.5,
          75.5,
          75.5,
          75.5,
          75.5,
          75.5,
          75.5,
          75.4,
          75.4,
          75.4,
          75.4,
          75.4,
          75.4,
          75.4,
          75.4,
          75.3,
          75.3,
          75.3,
          75.3,
          75.3,
          75.3,
          75.3,
          75.3,
          75.2,
          75.2,
          75.2,
          75.2,
          75.2,
          75.2,
          75.2,
          75.2,
          75.1,
          75.1,
          75.1,
          75.1,
          75.1,
          75.1,
          75.1,
          75.1,
          75.1,
          75,
          75,
          75,
          75,
          75,
          75,
          75,
          75,
          74.9,
          74.9,
          74.9,
          74.9,
          74.9,
          74.9,
          74.9,
          74.9,
          74.9,
          74.8,
          74.8,
          74.8,
          74.8,
          74.8,
          74.8,
          74.8,
          74.8,
          74.7,
          74.7,
          74.7,
          74.7,
          74.7,
          74.7,
          74.7,
          74.7,
          74.7,
          74.6,
          74.6,
          74.6,
          74.6,
          74.6,
          74.6,
          74.6,
          74.6,
          74.6,
          74.5,
          74.5,
          74.5,
          74.5,
          74.5,
          74.5,
          74.5,
          74.5,
          74.5,
          74.5,
          74.4,
          74.4,
          74.4,
          74.4,
          74.4,
          74.4,
          74.4,
          74.4,
          74.4,
          74.3,
          74.3,
          74.3,
          74.3,
          74.3,
          74.3,
          74.3,
          74.3,
          74.3,
          74.2,
          74.2,
          74.2,
          74.2,
          74.2,
          74.2,
          74.2,
          74.2,
          74.2,
          74.2,
          74.1,
          74.1,
          74.1,
          74.1,
          74.1,
          74.1,
          74.1,
          74.1,
          74.1,
          74.1,
          74,
          74,
          74,
          74,
          74,
          74,
          74,
          74,
          74,
          74,
          73.9,
          73.9,
          73.9,
          73.9,
          73.9,
          73.9,
          73.9,
          73.9,
          73.9,
          73.9,
          73.8,
          73.8,
          73.8,
          73.8,
          73.8,
          73.8,
          73.8,
          73.8,
          73.8,
          73.8,
          73.7,
          73.7,
          73.7,
          73.7,
          73.7,
          73.7,
          73.7,
          73.7,
          73.7,
          73.7,
          73.7,
          73.6,
          73.6,
          73.6,
          73.6,
          73.6,
          73.6,
          73.6,
          73.6,
          73.6,
          73.6,
          73.5,
          73.5,
          73.5,
          73.5,
          73.5,
          73.5,
          73.5,
          73.5,
          73.5,
          73.5,
          73.5,
          73.4,
          73.4,
          73.4,
          73.4,
          73.4,
          73.4,
          73.4,
          73.4,
          73.4,
          73.4,
          73.4,
          73.3,
          73.3,
          73.3,
          73.3,
          73.3,
          73.3,
          73.3,
          73.3,
          73.3,
          73.3,
          73.3,
          73.2,
          73.2,
          73.2,
          73.2,
          73.2,
          73.2,
          73.2,
          73.2,
          73.2,
          73.2,
          73.2,
          73.1,
          73.1,
          73.1,
          73.1,
          73.1,
          73.1,
          73.1,
          73.1,
          73.1,
          73.1,
          73.1,
          73.1,
          73,
          73,
          73,
          73,
          73,
          73,
          73,
          73,
          73,
          73,
          73,
          72.9,
          72.9,
          72.9,
          72.9,
          72.9,
          72.9,
          72.9,
          72.9,
          72.9,
          72.9,
          72.9,
          72.9,
          72.8,
          72.8,
          72.8,
          72.8,
          72.8,
          72.8,
          72.8,
          72.8,
          72.8,
          72.8,
          72.8,
          72.8,
          72.7,
          72.7,
          72.7,
          72.7,
          72.7,
          72.7,
          72.7,
          72.7,
          72.7,
          72.7,
          72.7,
          72.7,
          72.6,
          72.6,
          72.6,
          72.6,
          72.6,
          72.6,
          72.6,
          72.6,
          72.6,
          72.6,
          72.6,
          72.6,
          72.6,
          72.5,
          72.5,
          72.5,
          72.5,
          72.5,
          72.5,
          72.5,
          72.5,
          72.5,
          72.5,
          72.5,
          72.5,
          72.4,
          72.4,
          72.4,
          72.4,
          72.4,
          72.4,
          72.4,
          72.4,
          72.4,
          72.4,
          72.4,
          72.4,
          72.4,
          72.3,
          72.3,
          72.3,
          72.3,
          72.3,
          72.3,
          72.3,
          72.3,
          72.3,
          72.3,
          72.3,
          72.3,
          72.3,
          72.2,
          72.2,
          72.2,
          72.2,
          72.2,
          72.2,
          72.2,
          72.2,
          72.2,
          72.2,
          72.2,
          72.2,
          72.2,
          72.1,
          72.1,
          72.1,
          72.1,
          72.1,
          72.1,
          72.1,
          72.1,
          72.1,
          72.1,
          72.1,
          72.1,
          72.1,
          72,
          72,
          72,
          72,
          72,
          72,
          72,
          72,
          72,
          72,
          72,
          72,
          72,
          71.9,
          71.9,
          71.9,
          71.9,
          71.9,
          71.9,
          71.9,
          71.9,
          71.9,
          71.9,
          71.9,
          71.9,
          71.9,
          71.9,
          71.8,
          71.8,
          71.8,
          71.8,
          71.8,
          71.8,
          71.8,
          71.8,
          71.8,
          71.8,
          71.8,
          71.8,
          71.8,
          71.8,
          71.7,
          71.7,
          71.7,
          71.7,
          71.7,
          71.7,
          71.7,
          71.7,
          71.7,
          71.7,
          71.7,
          71.7,
          71.7,
          71.7,
          71.6,
          71.6,
          71.6,
          71.6,
          71.6,
          71.6,
          71.6,
          71.6,
          71.6,
          71.6,
          71.6,
          71.6,
          71.6,
          71.6,
          71.5,
          71.5,
          71.5,
          71.5,
          71.5,
          71.5,
          71.5,
          71.5,
          71.5,
          71.5,
          71.5,
          71.5,
          71.5,
          71.5,
          71.5,
          71.4,
          71.4,
          71.4,
          71.4,
          71.4,
          71.4,
          71.4,
          71.4,
          71.4,
          71.4,
          71.4,
          71.4,
          71.4,
          71.4,
          71.4,
          71.3,
          71.3,
          71.3,
          71.3,
          71.3,
          71.3,
          71.3,
          71.3,
          71.3,
          71.3,
          71.3,
          71.3,
          71.3,
          71.3,
          71.2,
          71.2,
          71.2,
          71.2,
          71.2,
          71.2,
          71.2,
          71.2,
          71.2,
          71.2,
          71.2,
          71.2,
          71.2,
          71.2,
          71.2,
          71.2,
          71.1,
          71.1,
          71.1,
          71.1,
          71.1,
          71.1,
          71.1,
          71.1,
          71.1,
          71.1,
          71.1,
          71.1,
          71.1,
          71.1,
          71.1,
          71,
          71,
          71,
          71,
          71,
          71,
          71,
          71,
          71,
          71,
          71,
          71,
          71,
          71,
          71,
          70.9,
          70.9,
          70.9,
          70.9,
          70.9,
          70.9,
          70.9,
          70.9,
          70.9,
          70.9,
          70.9,
          70.9,
          70.9,
          70.9,
          70.9,
          70.9,
          70.8,
          70.8,
          70.8,
          70.8,
          70.8,
          70.8,
          70.8,
          70.8,
          70.8,
          70.8,
          70.8,
          70.8,
          70.8,
          70.8,
          70.8,
          70.8,
          70.7,
          70.7,
          70.7,
          70.7,
          70.7,
          70.7,
          70.7,
          70.7,
          70.7,
          70.7,
          70.7,
          70.7,
          70.7,
          70.7,
          70.7,
          70.7,
          70.6,
          70.6,
          70.6,
          70.6,
          70.6,
          70.6,
          70.6,
          70.6,
          70.6,
          70.6,
          70.6,
          70.6,
          70.6,
          70.6,
          70.6,
          70.6,
          70.6,
          70.5,
          70.5,
          70.5,
          70.5,
          70.5,
          70.5,
          70.5,
          70.5,
          70.5,
          70.5,
          70.5,
          70.5,
          70.5,
          70.5,
          70.5,
          70.5,
          70.4,
          70.4,
          70.4,
          70.4,
          70.4,
          70.4,
          70.4,
          70.4,
          70.4,
          70.4,
          70.4,
          70.4,
          70.4,
          70.4,
          70.4,
          70.4,
          70.4,
          70.3,
          70.3,
          70.3,
          70.3,
          70.3,
          70.3,
          70.3,
          70.3,
          70.3,
          70.3,
          70.3,
          70.3,
          70.3,
          70.3,
          70.3,
          70.3,
          70.3,
          70.2,
          70.2,
          70.2,
          70.2,
          70.2,
          70.2,
          70.2,
          70.2,
          70.2,
          70.2,
          70.2,
          70.2,
          70.2,
          70.2,
          70.2,
          70.2,
          70.2,
          70.2,
          70.1,
          70.1,
          70.1,
          70.1,
          70.1,
          70.1,
          70.1,
          70.1,
          70.1,
          70.1,
          70.1,
          70.1,
          70.1,
          70.1,
          70.1,
          70.1,
          70.1,
          70,
          70,
          70,
          70,
          70,
          70,
          70,
          70,
          70,
          70,
          70,
          70,
          70,
          70,
          70,
          70,
          70,
          70,
          69.9,
          69.9,
          69.9,
          69.9,
          69.9,
          69.9,
          69.9,
          69.9,
          69.9,
          69.9,
          69.9,
          69.9,
          69.9,
          69.9,
          69.9,
          69.9,
          69.9,
          69.9,
          69.8,
          69.8,
          69.8,
          69.8,
          69.8,
          69.8,
          69.8,
          69.8,
          69.8,
          69.8,
          69.8,
          69.8,
          69.8,
          69.8,
          69.8,
          69.8,
          69.8,
          69.8,
          69.7,
          69.7,
          69.7,
          69.7,
          69.7,
          69.7,
          69.7,
          69.7,
          69.7,
          69.7,
          69.7,
          69.7,
          69.7,
          69.7,
          69.7,
          69.7,
          69.7,
          69.7,
          69.7,
          69.6,
          69.6,
          69.6,
          69.6,
          69.6,
          69.6,
          69.6,
          69.6,
          69.6,
          69.6,
          69.6,
          69.6,
          69.6,
          69.6,
          69.6,
          69.6,
          69.6,
          69.6,
          69.5,
          69.5,
          69.5,
          69.5,
          69.5,
          69.5,
          69.5,
          69.5,
          69.5,
          69.5,
          69.5,
          69.5,
          69.5,
          69.5,
          69.5,
          69.5,
          69.5,
          69.5,
          69.5,
          69.4,
          69.4,
          69.4,
          69.4,
          69.4,
          69.4,
          69.4,
          69.4,
          69.4,
          69.4,
          69.4,
          69.4,
          69.4,
          69.4,
          69.4,
          69.4,
          69.4,
          69.4,
          69.4,
          69.4,
          69.3,
          69.3,
          69.3,
          69.3,
          69.3,
          69.3,
          69.3,
          69.3,
          69.3,
          69.3,
          69.3,
          69.3,
          69.3,
          69.3,
          69.3,
          69.3,
          69.3,
          69.3,
          69.3,
          69.2,
          69.2,
          69.2,
          69.2,
          69.2,
          69.2,
          69.2,
          69.2,
          69.2,
          69.2,
          69.2,
          69.2,
          69.2,
          69.2,
          69.2,
          69.2,
          69.2,
          69.2,
          69.2,
          69.2,
          69.1,
          69.1,
          69.1,
          69.1,
          69.1,
          69.1,
          69.1,
          69.1,
          69.1,
          69.1,
          69.1,
          69.1,
          69.1,
          69.1,
          69.1,
          69.1,
          69.1,
          69.1,
          69.1,
          69.1,
          69,
          69,
          69,
          69,
          69,
          69,
          69,
          69,
          69,
          69,
          69,
          69,
          69,
          69,
          69,
          69,
          69,
          69,
          69,
          69,
          68.9,
          68.9,
          68.9,
          68.9,
          68.9,
          68.9,
          68.9,
          68.9,
          68.9,
          68.9,
          68.9,
          68.9,
          68.9,
          68.9,
          68.9,
          68.9,
          68.9,
          68.9,
          68.9,
          68.9,
          68.8,
          68.8,
          68.8,
          68.8,
          68.8,
          68.8,
          68.8,
          68.8,
          68.8,
          68.8,
          68.8,
          68.8,
          68.8,
          68.8,
          68.8,
          68.8,
          68.8,
          68.8,
          68.8,
          68.8,
          68.8,
          68.7,
          68.7,
          68.7,
          68.7,
          68.7,
          68.7,
          68.7,
          68.7,
          68.7,
          68.7,
          68.7,
          68.7,
          68.7,
          68.7,
          68.7,
          68.7,
          68.7,
          68.7,
          68.7,
          68.7,
          68.7,
          68.6,
          68.6,
          68.6,
          68.6,
          68.6,
          68.6,
          68.6,
          68.6,
          68.6,
          68.6,
          68.6,
          68.6,
          68.6,
          68.6,
          68.6,
          68.6,
          68.6,
          68.6,
          68.6,
          68.6,
          68.6,
          68.5,
          68.5,
          68.5,
          68.5,
          68.5,
          68.5,
          68.5,
          68.5,
          68.5,
          68.5,
          68.5,
          68.5,
          68.5,
          68.5,
          68.5,
          68.5,
          68.5,
          68.5,
          68.5,
          68.5,
          68.5,
          68.5,
          68.4,
          68.4,
          68.4,
          68.4,
          68.4,
          68.4,
          68.4,
          68.4,
          68.4,
          68.4,
          68.4,
          68.4,
          68.4,
          68.4,
          68.4,
          68.4,
          68.4,
          68.4,
          68.4,
          68.4,
          68.4,
          68.4,
          68.3,
          68.3,
          68.3,
          68.3,
          68.3,
          68.3,
          68.3,
          68.3,
          68.3,
          68.3,
          68.3,
          68.3,
          68.3,
          68.3,
          68.3,
          68.3,
          68.3,
          68.3,
          68.3,
          68.3,
          68.3,
          68.3,
          68.2,
          68.2,
          68.2,
          68.2,
          68.2,
          68.2,
          68.2,
          68.2,
          68.2,
          68.2,
          68.2,
          68.2,
          68.2,
          68.2,
          68.2,
          68.2,
          68.2,
          68.2,
          68.2,
          68.2,
          68.2,
          68.2,
          68.1,
          68.1,
          68.1,
          68.1,
          68.1,
          68.1,
          68.1,
          68.1,
          68.1,
          68.1,
          68.1,
          68.1,
          68.1,
          68.1,
          68.1,
          68.1,
          68.1,
          68.1,
          68.1,
          68.1,
          68.1,
          68.1,
          68.1,
          68,
          68,
          68,
          68,
          68,
          68,
          68,
          68,
          68,
          68,
          68,
          68,
          68,
          68,
          68,
          68,
          68,
          68,
          68,
          68,
          68,
          68,
          67.9,
          67.9,
          67.9,
          67.9,
          67.9,
          67.9,
          67.9,
          67.9,
          67.9,
          67.9,
          67.9,
          67.9,
          67.9,
          67.9,
          67.9,
          67.9,
          67.9,
          67.9,
          67.9,
          67.9,
          67.9,
          67.9,
          67.9,
          67.9,
          67.8,
          67.8,
          67.8,
          67.8,
          67.8,
          67.8,
          67.8,
          67.8,
          67.8,
          67.8,
          67.8,
          67.8,
          67.8,
          67.8,
          67.8,
          67.8,
          67.8,
          67.8,
          67.8,
          67.8,
          67.8,
          67.8,
          67.8,
          67.7,
          67.7,
          67.7,
          67.7,
          67.7,
          67.7,
          67.7,
          67.7,
          67.7,
          67.7,
          67.7,
          67.7,
          67.7,
          67.7,
          67.7,
          67.7,
          67.7,
          67.7,
          67.7,
          67.7,
          67.7,
          67.7,
          67.7,
          67.7,
          67.6,
          67.6,
          67.6,
          67.6,
          67.6,
          67.6,
          67.6,
          67.6,
          67.6,
          67.6,
          67.6,
          67.6,
          67.6,
          67.6,
          67.6,
          67.6,
          67.6,
          67.6,
          67.6,
          67.6,
          67.6,
          67.6,
          67.6,
          67.6,
          67.5,
          67.5,
          67.5,
          67.5,
          67.5,
          67.5,
          67.5,
          67.5,
          67.5,
          67.5,
          67.5,
          67.5,
          67.5,
          67.5,
          67.5,
          67.5,
          67.5,
          67.5,
          67.5,
          67.5,
          67.5,
          67.5,
          67.5,
          67.5,
          67.4,
          67.4,
          67.4,
          67.4,
          67.4,
          67.4,
          67.4,
          67.4,
          67.4,
          67.4,
          67.4,
          67.4,
          67.4,
          67.4,
          67.4,
          67.4,
          67.4,
          67.4,
          67.4,
          67.4,
          67.4,
          67.4,
          67.4,
          67.4,
          67.3,
          67.3,
          67.3,
          67.3,
          67.3,
          67.3,
          67.3,
          67.3,
          67.3,
          67.3,
          67.3,
          67.3,
          67.3,
          67.3,
          67.3,
          67.3,
          67.3,
          67.3,
          67.3,
          67.3,
          67.3,
          67.3,
          67.3,
          67.3,
          67.3,
          67.2,
          67.2,
          67.2,
          67.2,
          67.2,
          67.2,
          67.2,
          67.2,
          67.2,
          67.2,
          67.2,
          67.2,
          67.2,
          67.2,
          67.2,
          67.2,
          67.2,
          67.2,
          67.2,
          67.2,
          67.2,
          67.2,
          67.2,
          67.2,
          67.2,
          67.1,
          67.1,
          67.1,
          67.1,
          67.1,
          67.1,
          67.1,
          67.1,
          67.1,
          67.1,
          67.1,
          67.1,
          67.1,
          67.1,
          67.1,
          67.1,
          67.1,
          67.1,
          67.1,
          67.1,
          67.1,
          67.1,
          67.1,
          67.1,
          67.1,
          67,
          67,
          67,
          67,
          67,
          67,
          67,
          67,
          67,
          67,
          67,
          67,
          67,
          67,
          67,
          67,
          67,
          67,
          67,
          67,
          67,
          67,
          67,
          67,
          67,
          67,
          66.9,
          66.9,
          66.9,
          66.9,
          66.9,
          66.9,
          66.9,
          66.9,
          66.9,
          66.9,
          66.9,
          66.9,
          66.9,
          66.9,
          66.9,
          66.9,
          66.9,
          66.9,
          66.9,
          66.9,
          66.9,
          66.9,
          66.9,
          66.9,
          66.9,
          66.9,
          66.8,
          66.8,
          66.8,
          66.8,
          66.8,
          66.8,
          66.8,
          66.8,
          66.8,
          66.8,
          66.8,
          66.8,
          66.8,
          66.8,
          66.8,
          66.8,
          66.8,
          66.8,
          66.8,
          66.8,
          66.8,
          66.8,
          66.8,
          66.8,
          66.8,
          66.8,
          66.7,
          66.7,
          66.7,
          66.7,
          66.7,
          66.7,
          66.7,
          66.7,
          66.7,
          66.7,
          66.7,
          66.7,
          66.7,
          66.7,
          66.7,
          66.7,
          66.7,
          66.7,
          66.7,
          66.7,
          66.7,
          66.7,
          66.7,
          66.7,
          66.7,
          66.7,
          66.7,
          66.6,
          66.6,
          66.6,
          66.6,
          66.6,
          66.6,
          66.6,
          66.6,
          66.6,
          66.6,
          66.6,
          66.6,
          66.6,
          66.6,
          66.6,
          66.6,
          66.6,
          66.6,
          66.6,
          66.6,
          66.6,
          66.6,
          66.6,
          66.6,
          66.6,
          66.6,
          66.6,
          66.5,
          66.5,
          66.5,
          66.5,
          66.5,
          66.5,
          66.5,
          66.5,
          66.5,
          66.5,
          66.5,
          66.5,
          66.5,
          66.5,
          66.5,
          66.5,
          66.5,
          66.5,
          66.5,
          66.5,
          66.5,
          66.5,
          66.5,
          66.5,
          66.5,
          66.5,
          66.5,
          66.4,
          66.4,
          66.4,
          66.4,
          66.4,
          66.4,
          66.4,
          66.4,
          66.4,
          66.4,
          66.4,
          66.4,
          66.4,
          66.4,
          66.4,
          66.4,
          66.4,
          66.4,
          66.4,
          66.4,
          66.4,
          66.4,
          66.4,
          66.4,
          66.4,
          66.4,
          66.4,
          66.3,
          66.3,
          66.3,
          66.3,
          66.3,
          66.3,
          66.3,
          66.3,
          66.3,
          66.3,
          66.3,
          66.3,
          66.3,
          66.3,
          66.3,
          66.3,
          66.3,
          66.3,
          66.3,
          66.3,
          66.3,
          66.3,
          66.3,
          66.3,
          66.3,
          66.3,
          66.3,
          66.3,
          66.2,
          66.2,
          66.2,
          66.2,
          66.2,
          66.2,
          66.2,
          66.2,
          66.2,
          66.2,
          66.2,
          66.2,
          66.2,
          66.2,
          66.2,
          66.2,
          66.2,
          66.2,
          66.2,
          66.2,
          66.2,
          66.2,
          66.2,
          66.2,
          66.2,
          66.2,
          66.2,
          66.2,
          66.1,
          66.1,
          66.1,
          66.1,
          66.1,
          66.1,
          66.1,
          66.1,
          66.1,
          66.1,
          66.1,
          66.1,
          66.1,
          66.1,
          66.1,
          66.1,
          66.1,
          66.1,
          66.1,
          66.1,
          66.1,
          66.1,
          66.1,
          66.1,
          66.1,
          66.1,
          66.1,
          66.1,
          66,
          66,
          66,
          66,
          66,
          66,
          66,
          66,
          66,
          66,
          66,
          66,
          66,
          66,
          66,
          66,
          66,
          66,
          66,
          66,
          66,
          66,
          66,
          66,
          66,
          66
         ],
         "xaxis": "x",
         "yaxis": "y"
        }
       ],
       "layout": {
        "barmode": "relative",
        "legend": {
         "tracegroupgap": 0
        },
        "template": {
         "data": {
          "bar": [
           {
            "error_x": {
             "color": "#2a3f5f"
            },
            "error_y": {
             "color": "#2a3f5f"
            },
            "marker": {
             "line": {
              "color": "#E5ECF6",
              "width": 0.5
             },
             "pattern": {
              "fillmode": "overlay",
              "size": 10,
              "solidity": 0.2
             }
            },
            "type": "bar"
           }
          ],
          "barpolar": [
           {
            "marker": {
             "line": {
              "color": "#E5ECF6",
              "width": 0.5
             },
             "pattern": {
              "fillmode": "overlay",
              "size": 10,
              "solidity": 0.2
             }
            },
            "type": "barpolar"
           }
          ],
          "carpet": [
           {
            "aaxis": {
             "endlinecolor": "#2a3f5f",
             "gridcolor": "white",
             "linecolor": "white",
             "minorgridcolor": "white",
             "startlinecolor": "#2a3f5f"
            },
            "baxis": {
             "endlinecolor": "#2a3f5f",
             "gridcolor": "white",
             "linecolor": "white",
             "minorgridcolor": "white",
             "startlinecolor": "#2a3f5f"
            },
            "type": "carpet"
           }
          ],
          "choropleth": [
           {
            "colorbar": {
             "outlinewidth": 0,
             "ticks": ""
            },
            "type": "choropleth"
           }
          ],
          "contour": [
           {
            "colorbar": {
             "outlinewidth": 0,
             "ticks": ""
            },
            "colorscale": [
             [
              0,
              "#0d0887"
             ],
             [
              0.1111111111111111,
              "#46039f"
             ],
             [
              0.2222222222222222,
              "#7201a8"
             ],
             [
              0.3333333333333333,
              "#9c179e"
             ],
             [
              0.4444444444444444,
              "#bd3786"
             ],
             [
              0.5555555555555556,
              "#d8576b"
             ],
             [
              0.6666666666666666,
              "#ed7953"
             ],
             [
              0.7777777777777778,
              "#fb9f3a"
             ],
             [
              0.8888888888888888,
              "#fdca26"
             ],
             [
              1,
              "#f0f921"
             ]
            ],
            "type": "contour"
           }
          ],
          "contourcarpet": [
           {
            "colorbar": {
             "outlinewidth": 0,
             "ticks": ""
            },
            "type": "contourcarpet"
           }
          ],
          "heatmap": [
           {
            "colorbar": {
             "outlinewidth": 0,
             "ticks": ""
            },
            "colorscale": [
             [
              0,
              "#0d0887"
             ],
             [
              0.1111111111111111,
              "#46039f"
             ],
             [
              0.2222222222222222,
              "#7201a8"
             ],
             [
              0.3333333333333333,
              "#9c179e"
             ],
             [
              0.4444444444444444,
              "#bd3786"
             ],
             [
              0.5555555555555556,
              "#d8576b"
             ],
             [
              0.6666666666666666,
              "#ed7953"
             ],
             [
              0.7777777777777778,
              "#fb9f3a"
             ],
             [
              0.8888888888888888,
              "#fdca26"
             ],
             [
              1,
              "#f0f921"
             ]
            ],
            "type": "heatmap"
           }
          ],
          "heatmapgl": [
           {
            "colorbar": {
             "outlinewidth": 0,
             "ticks": ""
            },
            "colorscale": [
             [
              0,
              "#0d0887"
             ],
             [
              0.1111111111111111,
              "#46039f"
             ],
             [
              0.2222222222222222,
              "#7201a8"
             ],
             [
              0.3333333333333333,
              "#9c179e"
             ],
             [
              0.4444444444444444,
              "#bd3786"
             ],
             [
              0.5555555555555556,
              "#d8576b"
             ],
             [
              0.6666666666666666,
              "#ed7953"
             ],
             [
              0.7777777777777778,
              "#fb9f3a"
             ],
             [
              0.8888888888888888,
              "#fdca26"
             ],
             [
              1,
              "#f0f921"
             ]
            ],
            "type": "heatmapgl"
           }
          ],
          "histogram": [
           {
            "marker": {
             "pattern": {
              "fillmode": "overlay",
              "size": 10,
              "solidity": 0.2
             }
            },
            "type": "histogram"
           }
          ],
          "histogram2d": [
           {
            "colorbar": {
             "outlinewidth": 0,
             "ticks": ""
            },
            "colorscale": [
             [
              0,
              "#0d0887"
             ],
             [
              0.1111111111111111,
              "#46039f"
             ],
             [
              0.2222222222222222,
              "#7201a8"
             ],
             [
              0.3333333333333333,
              "#9c179e"
             ],
             [
              0.4444444444444444,
              "#bd3786"
             ],
             [
              0.5555555555555556,
              "#d8576b"
             ],
             [
              0.6666666666666666,
              "#ed7953"
             ],
             [
              0.7777777777777778,
              "#fb9f3a"
             ],
             [
              0.8888888888888888,
              "#fdca26"
             ],
             [
              1,
              "#f0f921"
             ]
            ],
            "type": "histogram2d"
           }
          ],
          "histogram2dcontour": [
           {
            "colorbar": {
             "outlinewidth": 0,
             "ticks": ""
            },
            "colorscale": [
             [
              0,
              "#0d0887"
             ],
             [
              0.1111111111111111,
              "#46039f"
             ],
             [
              0.2222222222222222,
              "#7201a8"
             ],
             [
              0.3333333333333333,
              "#9c179e"
             ],
             [
              0.4444444444444444,
              "#bd3786"
             ],
             [
              0.5555555555555556,
              "#d8576b"
             ],
             [
              0.6666666666666666,
              "#ed7953"
             ],
             [
              0.7777777777777778,
              "#fb9f3a"
             ],
             [
              0.8888888888888888,
              "#fdca26"
             ],
             [
              1,
              "#f0f921"
             ]
            ],
            "type": "histogram2dcontour"
           }
          ],
          "mesh3d": [
           {
            "colorbar": {
             "outlinewidth": 0,
             "ticks": ""
            },
            "type": "mesh3d"
           }
          ],
          "parcoords": [
           {
            "line": {
             "colorbar": {
              "outlinewidth": 0,
              "ticks": ""
             }
            },
            "type": "parcoords"
           }
          ],
          "pie": [
           {
            "automargin": true,
            "type": "pie"
           }
          ],
          "scatter": [
           {
            "fillpattern": {
             "fillmode": "overlay",
             "size": 10,
             "solidity": 0.2
            },
            "type": "scatter"
           }
          ],
          "scatter3d": [
           {
            "line": {
             "colorbar": {
              "outlinewidth": 0,
              "ticks": ""
             }
            },
            "marker": {
             "colorbar": {
              "outlinewidth": 0,
              "ticks": ""
             }
            },
            "type": "scatter3d"
           }
          ],
          "scattercarpet": [
           {
            "marker": {
             "colorbar": {
              "outlinewidth": 0,
              "ticks": ""
             }
            },
            "type": "scattercarpet"
           }
          ],
          "scattergeo": [
           {
            "marker": {
             "colorbar": {
              "outlinewidth": 0,
              "ticks": ""
             }
            },
            "type": "scattergeo"
           }
          ],
          "scattergl": [
           {
            "marker": {
             "colorbar": {
              "outlinewidth": 0,
              "ticks": ""
             }
            },
            "type": "scattergl"
           }
          ],
          "scattermapbox": [
           {
            "marker": {
             "colorbar": {
              "outlinewidth": 0,
              "ticks": ""
             }
            },
            "type": "scattermapbox"
           }
          ],
          "scatterpolar": [
           {
            "marker": {
             "colorbar": {
              "outlinewidth": 0,
              "ticks": ""
             }
            },
            "type": "scatterpolar"
           }
          ],
          "scatterpolargl": [
           {
            "marker": {
             "colorbar": {
              "outlinewidth": 0,
              "ticks": ""
             }
            },
            "type": "scatterpolargl"
           }
          ],
          "scatterternary": [
           {
            "marker": {
             "colorbar": {
              "outlinewidth": 0,
              "ticks": ""
             }
            },
            "type": "scatterternary"
           }
          ],
          "surface": [
           {
            "colorbar": {
             "outlinewidth": 0,
             "ticks": ""
            },
            "colorscale": [
             [
              0,
              "#0d0887"
             ],
             [
              0.1111111111111111,
              "#46039f"
             ],
             [
              0.2222222222222222,
              "#7201a8"
             ],
             [
              0.3333333333333333,
              "#9c179e"
             ],
             [
              0.4444444444444444,
              "#bd3786"
             ],
             [
              0.5555555555555556,
              "#d8576b"
             ],
             [
              0.6666666666666666,
              "#ed7953"
             ],
             [
              0.7777777777777778,
              "#fb9f3a"
             ],
             [
              0.8888888888888888,
              "#fdca26"
             ],
             [
              1,
              "#f0f921"
             ]
            ],
            "type": "surface"
           }
          ],
          "table": [
           {
            "cells": {
             "fill": {
              "color": "#EBF0F8"
             },
             "line": {
              "color": "white"
             }
            },
            "header": {
             "fill": {
              "color": "#C8D4E3"
             },
             "line": {
              "color": "white"
             }
            },
            "type": "table"
           }
          ]
         },
         "layout": {
          "annotationdefaults": {
           "arrowcolor": "#2a3f5f",
           "arrowhead": 0,
           "arrowwidth": 1
          },
          "autotypenumbers": "strict",
          "coloraxis": {
           "colorbar": {
            "outlinewidth": 0,
            "ticks": ""
           }
          },
          "colorscale": {
           "diverging": [
            [
             0,
             "#8e0152"
            ],
            [
             0.1,
             "#c51b7d"
            ],
            [
             0.2,
             "#de77ae"
            ],
            [
             0.3,
             "#f1b6da"
            ],
            [
             0.4,
             "#fde0ef"
            ],
            [
             0.5,
             "#f7f7f7"
            ],
            [
             0.6,
             "#e6f5d0"
            ],
            [
             0.7,
             "#b8e186"
            ],
            [
             0.8,
             "#7fbc41"
            ],
            [
             0.9,
             "#4d9221"
            ],
            [
             1,
             "#276419"
            ]
           ],
           "sequential": [
            [
             0,
             "#0d0887"
            ],
            [
             0.1111111111111111,
             "#46039f"
            ],
            [
             0.2222222222222222,
             "#7201a8"
            ],
            [
             0.3333333333333333,
             "#9c179e"
            ],
            [
             0.4444444444444444,
             "#bd3786"
            ],
            [
             0.5555555555555556,
             "#d8576b"
            ],
            [
             0.6666666666666666,
             "#ed7953"
            ],
            [
             0.7777777777777778,
             "#fb9f3a"
            ],
            [
             0.8888888888888888,
             "#fdca26"
            ],
            [
             1,
             "#f0f921"
            ]
           ],
           "sequentialminus": [
            [
             0,
             "#0d0887"
            ],
            [
             0.1111111111111111,
             "#46039f"
            ],
            [
             0.2222222222222222,
             "#7201a8"
            ],
            [
             0.3333333333333333,
             "#9c179e"
            ],
            [
             0.4444444444444444,
             "#bd3786"
            ],
            [
             0.5555555555555556,
             "#d8576b"
            ],
            [
             0.6666666666666666,
             "#ed7953"
            ],
            [
             0.7777777777777778,
             "#fb9f3a"
            ],
            [
             0.8888888888888888,
             "#fdca26"
            ],
            [
             1,
             "#f0f921"
            ]
           ]
          },
          "colorway": [
           "#636efa",
           "#EF553B",
           "#00cc96",
           "#ab63fa",
           "#FFA15A",
           "#19d3f3",
           "#FF6692",
           "#B6E880",
           "#FF97FF",
           "#FECB52"
          ],
          "font": {
           "color": "#2a3f5f"
          },
          "geo": {
           "bgcolor": "white",
           "lakecolor": "white",
           "landcolor": "#E5ECF6",
           "showlakes": true,
           "showland": true,
           "subunitcolor": "white"
          },
          "hoverlabel": {
           "align": "left"
          },
          "hovermode": "closest",
          "mapbox": {
           "style": "light"
          },
          "paper_bgcolor": "white",
          "plot_bgcolor": "#E5ECF6",
          "polar": {
           "angularaxis": {
            "gridcolor": "white",
            "linecolor": "white",
            "ticks": ""
           },
           "bgcolor": "#E5ECF6",
           "radialaxis": {
            "gridcolor": "white",
            "linecolor": "white",
            "ticks": ""
           }
          },
          "scene": {
           "xaxis": {
            "backgroundcolor": "#E5ECF6",
            "gridcolor": "white",
            "gridwidth": 2,
            "linecolor": "white",
            "showbackground": true,
            "ticks": "",
            "zerolinecolor": "white"
           },
           "yaxis": {
            "backgroundcolor": "#E5ECF6",
            "gridcolor": "white",
            "gridwidth": 2,
            "linecolor": "white",
            "showbackground": true,
            "ticks": "",
            "zerolinecolor": "white"
           },
           "zaxis": {
            "backgroundcolor": "#E5ECF6",
            "gridcolor": "white",
            "gridwidth": 2,
            "linecolor": "white",
            "showbackground": true,
            "ticks": "",
            "zerolinecolor": "white"
           }
          },
          "shapedefaults": {
           "line": {
            "color": "#2a3f5f"
           }
          },
          "ternary": {
           "aaxis": {
            "gridcolor": "white",
            "linecolor": "white",
            "ticks": ""
           },
           "baxis": {
            "gridcolor": "white",
            "linecolor": "white",
            "ticks": ""
           },
           "bgcolor": "#E5ECF6",
           "caxis": {
            "gridcolor": "white",
            "linecolor": "white",
            "ticks": ""
           }
          },
          "title": {
           "x": 0.05
          },
          "xaxis": {
           "automargin": true,
           "gridcolor": "white",
           "linecolor": "white",
           "ticks": "",
           "title": {
            "standoff": 15
           },
           "zerolinecolor": "white",
           "zerolinewidth": 2
          },
          "yaxis": {
           "automargin": true,
           "gridcolor": "white",
           "linecolor": "white",
           "ticks": "",
           "title": {
            "standoff": 15
           },
           "zerolinecolor": "white",
           "zerolinewidth": 2
          }
         }
        },
        "title": {
         "text": "Distribution of Scores"
        },
        "xaxis": {
         "anchor": "y",
         "domain": [
          0,
          1
         ],
         "title": {
          "text": "Score"
         }
        },
        "yaxis": {
         "anchor": "x",
         "domain": [
          0,
          1
         ],
         "title": {
          "text": "count"
         }
        }
       }
      }
     },
     "metadata": {},
     "output_type": "display_data"
    }
   ],
   "source": [
    "fig = px.histogram(wru_ranking, x=\"Score\", title=\"Distribution of Scores\")\n",
    "\n",
    "fig.show()"
   ]
  },
  {
   "cell_type": "markdown",
   "id": "0d1dd58f",
   "metadata": {},
   "source": [
    "We can see that the histogram above indicates a right skewness in the data. This is logical as the higher scores are less common."
   ]
  },
  {
   "cell_type": "code",
   "execution_count": 108,
   "id": "aebeb8f5",
   "metadata": {},
   "outputs": [
    {
     "data": {
      "application/vnd.plotly.v1+json": {
       "config": {
        "plotlyServerURL": "https://plot.ly"
       },
       "data": [
        {
         "alignmentgroup": "True",
         "hovertemplate": "University Names=%{y}<br>World Rank=%{x}<extra></extra>",
         "legendgroup": "Yale University\r",
         "marker": {
          "color": "#636efa",
          "pattern": {
           "shape": ""
          }
         },
         "name": "Yale University\r",
         "offsetgroup": "Yale University\r",
         "orientation": "h",
         "showlegend": true,
         "textposition": "auto",
         "type": "bar",
         "x": [
          10
         ],
         "xaxis": "x",
         "y": [
          "Yale University\r"
         ],
         "yaxis": "y"
        },
        {
         "alignmentgroup": "True",
         "hovertemplate": "University Names=%{y}<br>World Rank=%{x}<extra></extra>",
         "legendgroup": "University of Pennsylvania\r",
         "marker": {
          "color": "#EF553B",
          "pattern": {
           "shape": ""
          }
         },
         "name": "University of Pennsylvania\r",
         "offsetgroup": "University of Pennsylvania\r",
         "orientation": "h",
         "showlegend": true,
         "textposition": "auto",
         "type": "bar",
         "x": [
          9
         ],
         "xaxis": "x",
         "y": [
          "University of Pennsylvania\r"
         ],
         "yaxis": "y"
        },
        {
         "alignmentgroup": "True",
         "hovertemplate": "University Names=%{y}<br>World Rank=%{x}<extra></extra>",
         "legendgroup": "Columbia University\r",
         "marker": {
          "color": "#00cc96",
          "pattern": {
           "shape": ""
          }
         },
         "name": "Columbia University\r",
         "offsetgroup": "Columbia University\r",
         "orientation": "h",
         "showlegend": true,
         "textposition": "auto",
         "type": "bar",
         "x": [
          8
         ],
         "xaxis": "x",
         "y": [
          "Columbia University\r"
         ],
         "yaxis": "y"
        },
        {
         "alignmentgroup": "True",
         "hovertemplate": "University Names=%{y}<br>World Rank=%{x}<extra></extra>",
         "legendgroup": "University of Chicago\r",
         "marker": {
          "color": "#ab63fa",
          "pattern": {
           "shape": ""
          }
         },
         "name": "University of Chicago\r",
         "offsetgroup": "University of Chicago\r",
         "orientation": "h",
         "showlegend": true,
         "textposition": "auto",
         "type": "bar",
         "x": [
          7
         ],
         "xaxis": "x",
         "y": [
          "University of Chicago\r"
         ],
         "yaxis": "y"
        },
        {
         "alignmentgroup": "True",
         "hovertemplate": "University Names=%{y}<br>World Rank=%{x}<extra></extra>",
         "legendgroup": "Princeton University\r",
         "marker": {
          "color": "#FFA15A",
          "pattern": {
           "shape": ""
          }
         },
         "name": "Princeton University\r",
         "offsetgroup": "Princeton University\r",
         "orientation": "h",
         "showlegend": true,
         "textposition": "auto",
         "type": "bar",
         "x": [
          6
         ],
         "xaxis": "x",
         "y": [
          "Princeton University\r"
         ],
         "yaxis": "y"
        },
        {
         "alignmentgroup": "True",
         "hovertemplate": "University Names=%{y}<br>World Rank=%{x}<extra></extra>",
         "legendgroup": "University of Oxford\r",
         "marker": {
          "color": "#19d3f3",
          "pattern": {
           "shape": ""
          }
         },
         "name": "University of Oxford\r",
         "offsetgroup": "University of Oxford\r",
         "orientation": "h",
         "showlegend": true,
         "textposition": "auto",
         "type": "bar",
         "x": [
          5
         ],
         "xaxis": "x",
         "y": [
          "University of Oxford\r"
         ],
         "yaxis": "y"
        },
        {
         "alignmentgroup": "True",
         "hovertemplate": "University Names=%{y}<br>World Rank=%{x}<extra></extra>",
         "legendgroup": "University of Cambridge\r",
         "marker": {
          "color": "#FF6692",
          "pattern": {
           "shape": ""
          }
         },
         "name": "University of Cambridge\r",
         "offsetgroup": "University of Cambridge\r",
         "orientation": "h",
         "showlegend": true,
         "textposition": "auto",
         "type": "bar",
         "x": [
          4
         ],
         "xaxis": "x",
         "y": [
          "University of Cambridge\r"
         ],
         "yaxis": "y"
        },
        {
         "alignmentgroup": "True",
         "hovertemplate": "University Names=%{y}<br>World Rank=%{x}<extra></extra>",
         "legendgroup": "Stanford University\r",
         "marker": {
          "color": "#B6E880",
          "pattern": {
           "shape": ""
          }
         },
         "name": "Stanford University\r",
         "offsetgroup": "Stanford University\r",
         "orientation": "h",
         "showlegend": true,
         "textposition": "auto",
         "type": "bar",
         "x": [
          3
         ],
         "xaxis": "x",
         "y": [
          "Stanford University\r"
         ],
         "yaxis": "y"
        },
        {
         "alignmentgroup": "True",
         "hovertemplate": "University Names=%{y}<br>World Rank=%{x}<extra></extra>",
         "legendgroup": "Massachusetts Institute of Technology\r",
         "marker": {
          "color": "#FF97FF",
          "pattern": {
           "shape": ""
          }
         },
         "name": "Massachusetts Institute of Technology\r",
         "offsetgroup": "Massachusetts Institute of Technology\r",
         "orientation": "h",
         "showlegend": true,
         "textposition": "auto",
         "type": "bar",
         "x": [
          2
         ],
         "xaxis": "x",
         "y": [
          "Massachusetts Institute of Technology\r"
         ],
         "yaxis": "y"
        },
        {
         "alignmentgroup": "True",
         "hovertemplate": "University Names=%{y}<br>World Rank=%{x}<extra></extra>",
         "legendgroup": "Harvard University\r",
         "marker": {
          "color": "#FECB52",
          "pattern": {
           "shape": ""
          }
         },
         "name": "Harvard University\r",
         "offsetgroup": "Harvard University\r",
         "orientation": "h",
         "showlegend": true,
         "textposition": "auto",
         "type": "bar",
         "x": [
          1
         ],
         "xaxis": "x",
         "y": [
          "Harvard University\r"
         ],
         "yaxis": "y"
        }
       ],
       "layout": {
        "barmode": "relative",
        "legend": {
         "title": {
          "text": "University Names"
         },
         "tracegroupgap": 0
        },
        "template": {
         "data": {
          "bar": [
           {
            "error_x": {
             "color": "#2a3f5f"
            },
            "error_y": {
             "color": "#2a3f5f"
            },
            "marker": {
             "line": {
              "color": "#E5ECF6",
              "width": 0.5
             },
             "pattern": {
              "fillmode": "overlay",
              "size": 10,
              "solidity": 0.2
             }
            },
            "type": "bar"
           }
          ],
          "barpolar": [
           {
            "marker": {
             "line": {
              "color": "#E5ECF6",
              "width": 0.5
             },
             "pattern": {
              "fillmode": "overlay",
              "size": 10,
              "solidity": 0.2
             }
            },
            "type": "barpolar"
           }
          ],
          "carpet": [
           {
            "aaxis": {
             "endlinecolor": "#2a3f5f",
             "gridcolor": "white",
             "linecolor": "white",
             "minorgridcolor": "white",
             "startlinecolor": "#2a3f5f"
            },
            "baxis": {
             "endlinecolor": "#2a3f5f",
             "gridcolor": "white",
             "linecolor": "white",
             "minorgridcolor": "white",
             "startlinecolor": "#2a3f5f"
            },
            "type": "carpet"
           }
          ],
          "choropleth": [
           {
            "colorbar": {
             "outlinewidth": 0,
             "ticks": ""
            },
            "type": "choropleth"
           }
          ],
          "contour": [
           {
            "colorbar": {
             "outlinewidth": 0,
             "ticks": ""
            },
            "colorscale": [
             [
              0,
              "#0d0887"
             ],
             [
              0.1111111111111111,
              "#46039f"
             ],
             [
              0.2222222222222222,
              "#7201a8"
             ],
             [
              0.3333333333333333,
              "#9c179e"
             ],
             [
              0.4444444444444444,
              "#bd3786"
             ],
             [
              0.5555555555555556,
              "#d8576b"
             ],
             [
              0.6666666666666666,
              "#ed7953"
             ],
             [
              0.7777777777777778,
              "#fb9f3a"
             ],
             [
              0.8888888888888888,
              "#fdca26"
             ],
             [
              1,
              "#f0f921"
             ]
            ],
            "type": "contour"
           }
          ],
          "contourcarpet": [
           {
            "colorbar": {
             "outlinewidth": 0,
             "ticks": ""
            },
            "type": "contourcarpet"
           }
          ],
          "heatmap": [
           {
            "colorbar": {
             "outlinewidth": 0,
             "ticks": ""
            },
            "colorscale": [
             [
              0,
              "#0d0887"
             ],
             [
              0.1111111111111111,
              "#46039f"
             ],
             [
              0.2222222222222222,
              "#7201a8"
             ],
             [
              0.3333333333333333,
              "#9c179e"
             ],
             [
              0.4444444444444444,
              "#bd3786"
             ],
             [
              0.5555555555555556,
              "#d8576b"
             ],
             [
              0.6666666666666666,
              "#ed7953"
             ],
             [
              0.7777777777777778,
              "#fb9f3a"
             ],
             [
              0.8888888888888888,
              "#fdca26"
             ],
             [
              1,
              "#f0f921"
             ]
            ],
            "type": "heatmap"
           }
          ],
          "heatmapgl": [
           {
            "colorbar": {
             "outlinewidth": 0,
             "ticks": ""
            },
            "colorscale": [
             [
              0,
              "#0d0887"
             ],
             [
              0.1111111111111111,
              "#46039f"
             ],
             [
              0.2222222222222222,
              "#7201a8"
             ],
             [
              0.3333333333333333,
              "#9c179e"
             ],
             [
              0.4444444444444444,
              "#bd3786"
             ],
             [
              0.5555555555555556,
              "#d8576b"
             ],
             [
              0.6666666666666666,
              "#ed7953"
             ],
             [
              0.7777777777777778,
              "#fb9f3a"
             ],
             [
              0.8888888888888888,
              "#fdca26"
             ],
             [
              1,
              "#f0f921"
             ]
            ],
            "type": "heatmapgl"
           }
          ],
          "histogram": [
           {
            "marker": {
             "pattern": {
              "fillmode": "overlay",
              "size": 10,
              "solidity": 0.2
             }
            },
            "type": "histogram"
           }
          ],
          "histogram2d": [
           {
            "colorbar": {
             "outlinewidth": 0,
             "ticks": ""
            },
            "colorscale": [
             [
              0,
              "#0d0887"
             ],
             [
              0.1111111111111111,
              "#46039f"
             ],
             [
              0.2222222222222222,
              "#7201a8"
             ],
             [
              0.3333333333333333,
              "#9c179e"
             ],
             [
              0.4444444444444444,
              "#bd3786"
             ],
             [
              0.5555555555555556,
              "#d8576b"
             ],
             [
              0.6666666666666666,
              "#ed7953"
             ],
             [
              0.7777777777777778,
              "#fb9f3a"
             ],
             [
              0.8888888888888888,
              "#fdca26"
             ],
             [
              1,
              "#f0f921"
             ]
            ],
            "type": "histogram2d"
           }
          ],
          "histogram2dcontour": [
           {
            "colorbar": {
             "outlinewidth": 0,
             "ticks": ""
            },
            "colorscale": [
             [
              0,
              "#0d0887"
             ],
             [
              0.1111111111111111,
              "#46039f"
             ],
             [
              0.2222222222222222,
              "#7201a8"
             ],
             [
              0.3333333333333333,
              "#9c179e"
             ],
             [
              0.4444444444444444,
              "#bd3786"
             ],
             [
              0.5555555555555556,
              "#d8576b"
             ],
             [
              0.6666666666666666,
              "#ed7953"
             ],
             [
              0.7777777777777778,
              "#fb9f3a"
             ],
             [
              0.8888888888888888,
              "#fdca26"
             ],
             [
              1,
              "#f0f921"
             ]
            ],
            "type": "histogram2dcontour"
           }
          ],
          "mesh3d": [
           {
            "colorbar": {
             "outlinewidth": 0,
             "ticks": ""
            },
            "type": "mesh3d"
           }
          ],
          "parcoords": [
           {
            "line": {
             "colorbar": {
              "outlinewidth": 0,
              "ticks": ""
             }
            },
            "type": "parcoords"
           }
          ],
          "pie": [
           {
            "automargin": true,
            "type": "pie"
           }
          ],
          "scatter": [
           {
            "fillpattern": {
             "fillmode": "overlay",
             "size": 10,
             "solidity": 0.2
            },
            "type": "scatter"
           }
          ],
          "scatter3d": [
           {
            "line": {
             "colorbar": {
              "outlinewidth": 0,
              "ticks": ""
             }
            },
            "marker": {
             "colorbar": {
              "outlinewidth": 0,
              "ticks": ""
             }
            },
            "type": "scatter3d"
           }
          ],
          "scattercarpet": [
           {
            "marker": {
             "colorbar": {
              "outlinewidth": 0,
              "ticks": ""
             }
            },
            "type": "scattercarpet"
           }
          ],
          "scattergeo": [
           {
            "marker": {
             "colorbar": {
              "outlinewidth": 0,
              "ticks": ""
             }
            },
            "type": "scattergeo"
           }
          ],
          "scattergl": [
           {
            "marker": {
             "colorbar": {
              "outlinewidth": 0,
              "ticks": ""
             }
            },
            "type": "scattergl"
           }
          ],
          "scattermapbox": [
           {
            "marker": {
             "colorbar": {
              "outlinewidth": 0,
              "ticks": ""
             }
            },
            "type": "scattermapbox"
           }
          ],
          "scatterpolar": [
           {
            "marker": {
             "colorbar": {
              "outlinewidth": 0,
              "ticks": ""
             }
            },
            "type": "scatterpolar"
           }
          ],
          "scatterpolargl": [
           {
            "marker": {
             "colorbar": {
              "outlinewidth": 0,
              "ticks": ""
             }
            },
            "type": "scatterpolargl"
           }
          ],
          "scatterternary": [
           {
            "marker": {
             "colorbar": {
              "outlinewidth": 0,
              "ticks": ""
             }
            },
            "type": "scatterternary"
           }
          ],
          "surface": [
           {
            "colorbar": {
             "outlinewidth": 0,
             "ticks": ""
            },
            "colorscale": [
             [
              0,
              "#0d0887"
             ],
             [
              0.1111111111111111,
              "#46039f"
             ],
             [
              0.2222222222222222,
              "#7201a8"
             ],
             [
              0.3333333333333333,
              "#9c179e"
             ],
             [
              0.4444444444444444,
              "#bd3786"
             ],
             [
              0.5555555555555556,
              "#d8576b"
             ],
             [
              0.6666666666666666,
              "#ed7953"
             ],
             [
              0.7777777777777778,
              "#fb9f3a"
             ],
             [
              0.8888888888888888,
              "#fdca26"
             ],
             [
              1,
              "#f0f921"
             ]
            ],
            "type": "surface"
           }
          ],
          "table": [
           {
            "cells": {
             "fill": {
              "color": "#EBF0F8"
             },
             "line": {
              "color": "white"
             }
            },
            "header": {
             "fill": {
              "color": "#C8D4E3"
             },
             "line": {
              "color": "white"
             }
            },
            "type": "table"
           }
          ]
         },
         "layout": {
          "annotationdefaults": {
           "arrowcolor": "#2a3f5f",
           "arrowhead": 0,
           "arrowwidth": 1
          },
          "autotypenumbers": "strict",
          "coloraxis": {
           "colorbar": {
            "outlinewidth": 0,
            "ticks": ""
           }
          },
          "colorscale": {
           "diverging": [
            [
             0,
             "#8e0152"
            ],
            [
             0.1,
             "#c51b7d"
            ],
            [
             0.2,
             "#de77ae"
            ],
            [
             0.3,
             "#f1b6da"
            ],
            [
             0.4,
             "#fde0ef"
            ],
            [
             0.5,
             "#f7f7f7"
            ],
            [
             0.6,
             "#e6f5d0"
            ],
            [
             0.7,
             "#b8e186"
            ],
            [
             0.8,
             "#7fbc41"
            ],
            [
             0.9,
             "#4d9221"
            ],
            [
             1,
             "#276419"
            ]
           ],
           "sequential": [
            [
             0,
             "#0d0887"
            ],
            [
             0.1111111111111111,
             "#46039f"
            ],
            [
             0.2222222222222222,
             "#7201a8"
            ],
            [
             0.3333333333333333,
             "#9c179e"
            ],
            [
             0.4444444444444444,
             "#bd3786"
            ],
            [
             0.5555555555555556,
             "#d8576b"
            ],
            [
             0.6666666666666666,
             "#ed7953"
            ],
            [
             0.7777777777777778,
             "#fb9f3a"
            ],
            [
             0.8888888888888888,
             "#fdca26"
            ],
            [
             1,
             "#f0f921"
            ]
           ],
           "sequentialminus": [
            [
             0,
             "#0d0887"
            ],
            [
             0.1111111111111111,
             "#46039f"
            ],
            [
             0.2222222222222222,
             "#7201a8"
            ],
            [
             0.3333333333333333,
             "#9c179e"
            ],
            [
             0.4444444444444444,
             "#bd3786"
            ],
            [
             0.5555555555555556,
             "#d8576b"
            ],
            [
             0.6666666666666666,
             "#ed7953"
            ],
            [
             0.7777777777777778,
             "#fb9f3a"
            ],
            [
             0.8888888888888888,
             "#fdca26"
            ],
            [
             1,
             "#f0f921"
            ]
           ]
          },
          "colorway": [
           "#636efa",
           "#EF553B",
           "#00cc96",
           "#ab63fa",
           "#FFA15A",
           "#19d3f3",
           "#FF6692",
           "#B6E880",
           "#FF97FF",
           "#FECB52"
          ],
          "font": {
           "color": "#2a3f5f"
          },
          "geo": {
           "bgcolor": "white",
           "lakecolor": "white",
           "landcolor": "#E5ECF6",
           "showlakes": true,
           "showland": true,
           "subunitcolor": "white"
          },
          "hoverlabel": {
           "align": "left"
          },
          "hovermode": "closest",
          "mapbox": {
           "style": "light"
          },
          "paper_bgcolor": "white",
          "plot_bgcolor": "#E5ECF6",
          "polar": {
           "angularaxis": {
            "gridcolor": "white",
            "linecolor": "white",
            "ticks": ""
           },
           "bgcolor": "#E5ECF6",
           "radialaxis": {
            "gridcolor": "white",
            "linecolor": "white",
            "ticks": ""
           }
          },
          "scene": {
           "xaxis": {
            "backgroundcolor": "#E5ECF6",
            "gridcolor": "white",
            "gridwidth": 2,
            "linecolor": "white",
            "showbackground": true,
            "ticks": "",
            "zerolinecolor": "white"
           },
           "yaxis": {
            "backgroundcolor": "#E5ECF6",
            "gridcolor": "white",
            "gridwidth": 2,
            "linecolor": "white",
            "showbackground": true,
            "ticks": "",
            "zerolinecolor": "white"
           },
           "zaxis": {
            "backgroundcolor": "#E5ECF6",
            "gridcolor": "white",
            "gridwidth": 2,
            "linecolor": "white",
            "showbackground": true,
            "ticks": "",
            "zerolinecolor": "white"
           }
          },
          "shapedefaults": {
           "line": {
            "color": "#2a3f5f"
           }
          },
          "ternary": {
           "aaxis": {
            "gridcolor": "white",
            "linecolor": "white",
            "ticks": ""
           },
           "baxis": {
            "gridcolor": "white",
            "linecolor": "white",
            "ticks": ""
           },
           "bgcolor": "#E5ECF6",
           "caxis": {
            "gridcolor": "white",
            "linecolor": "white",
            "ticks": ""
           }
          },
          "title": {
           "x": 0.05
          },
          "xaxis": {
           "automargin": true,
           "gridcolor": "white",
           "linecolor": "white",
           "ticks": "",
           "title": {
            "standoff": 15
           },
           "zerolinecolor": "white",
           "zerolinewidth": 2
          },
          "yaxis": {
           "automargin": true,
           "gridcolor": "white",
           "linecolor": "white",
           "ticks": "",
           "title": {
            "standoff": 15
           },
           "zerolinecolor": "white",
           "zerolinewidth": 2
          }
         }
        },
        "title": {
         "text": "Top 10 Universities"
        },
        "xaxis": {
         "anchor": "y",
         "domain": [
          0,
          1
         ],
         "title": {
          "text": "World Rank"
         }
        },
        "yaxis": {
         "anchor": "x",
         "categoryarray": [
          "Harvard University\r",
          "Massachusetts Institute of Technology\r",
          "Stanford University\r",
          "University of Cambridge\r",
          "University of Oxford\r",
          "Princeton University\r",
          "University of Chicago\r",
          "Columbia University\r",
          "University of Pennsylvania\r",
          "Yale University\r"
         ],
         "categoryorder": "array",
         "domain": [
          0,
          1
         ],
         "title": {
          "text": "University Names"
         }
        }
       }
      }
     },
     "metadata": {},
     "output_type": "display_data"
    }
   ],
   "source": [
    "top_10_universities = wru_ranking.sort_values(by='World Rank', ascending=False).tail(10)\n",
    "fig = px.bar(top_10_universities, x='World Rank', y='University Names', orientation='h',\n",
    "             title='Top 10 Universities', labels={'World Rank': 'World Rank'}, color='University Names')\n",
    "fig.show()"
   ]
  },
  {
   "cell_type": "markdown",
   "id": "f4010e50",
   "metadata": {},
   "source": [
    "This bar plot answers the first question.\n",
    "\n",
    "From the bar plot above we can see the top 10 universities in the world. With Harvard University being the best university in the world."
   ]
  },
  {
   "cell_type": "code",
   "execution_count": 91,
   "id": "454e771f",
   "metadata": {},
   "outputs": [
    {
     "data": {
      "application/vnd.plotly.v1+json": {
       "config": {
        "plotlyServerURL": "https://plot.ly"
       },
       "data": [
        {
         "alignmentgroup": "True",
         "hovertemplate": "Employability Rank=%{x}<br>University Names=%{y}<extra></extra>",
         "legendgroup": "",
         "marker": {
          "color": "#636efa",
          "pattern": {
           "shape": ""
          }
         },
         "name": "",
         "offsetgroup": "",
         "orientation": "h",
         "showlegend": false,
         "textposition": "auto",
         "type": "bar",
         "x": [
          1,
          2,
          3,
          4,
          5,
          6,
          7,
          8,
          9,
          10
         ],
         "xaxis": "x",
         "y": [
          "Harvard University\r",
          "INSEAD",
          "Institut national du service public",
          "Stanford University\r",
          "China Europe International Business School",
          "University of Tokyo",
          "HEC Paris",
          "University of Pennsylvania\r",
          "Institut Polytechnique de Paris",
          "International Institute for Management Development"
         ],
         "yaxis": "y"
        }
       ],
       "layout": {
        "barmode": "relative",
        "legend": {
         "tracegroupgap": 0
        },
        "template": {
         "data": {
          "bar": [
           {
            "error_x": {
             "color": "#2a3f5f"
            },
            "error_y": {
             "color": "#2a3f5f"
            },
            "marker": {
             "line": {
              "color": "#E5ECF6",
              "width": 0.5
             },
             "pattern": {
              "fillmode": "overlay",
              "size": 10,
              "solidity": 0.2
             }
            },
            "type": "bar"
           }
          ],
          "barpolar": [
           {
            "marker": {
             "line": {
              "color": "#E5ECF6",
              "width": 0.5
             },
             "pattern": {
              "fillmode": "overlay",
              "size": 10,
              "solidity": 0.2
             }
            },
            "type": "barpolar"
           }
          ],
          "carpet": [
           {
            "aaxis": {
             "endlinecolor": "#2a3f5f",
             "gridcolor": "white",
             "linecolor": "white",
             "minorgridcolor": "white",
             "startlinecolor": "#2a3f5f"
            },
            "baxis": {
             "endlinecolor": "#2a3f5f",
             "gridcolor": "white",
             "linecolor": "white",
             "minorgridcolor": "white",
             "startlinecolor": "#2a3f5f"
            },
            "type": "carpet"
           }
          ],
          "choropleth": [
           {
            "colorbar": {
             "outlinewidth": 0,
             "ticks": ""
            },
            "type": "choropleth"
           }
          ],
          "contour": [
           {
            "colorbar": {
             "outlinewidth": 0,
             "ticks": ""
            },
            "colorscale": [
             [
              0,
              "#0d0887"
             ],
             [
              0.1111111111111111,
              "#46039f"
             ],
             [
              0.2222222222222222,
              "#7201a8"
             ],
             [
              0.3333333333333333,
              "#9c179e"
             ],
             [
              0.4444444444444444,
              "#bd3786"
             ],
             [
              0.5555555555555556,
              "#d8576b"
             ],
             [
              0.6666666666666666,
              "#ed7953"
             ],
             [
              0.7777777777777778,
              "#fb9f3a"
             ],
             [
              0.8888888888888888,
              "#fdca26"
             ],
             [
              1,
              "#f0f921"
             ]
            ],
            "type": "contour"
           }
          ],
          "contourcarpet": [
           {
            "colorbar": {
             "outlinewidth": 0,
             "ticks": ""
            },
            "type": "contourcarpet"
           }
          ],
          "heatmap": [
           {
            "colorbar": {
             "outlinewidth": 0,
             "ticks": ""
            },
            "colorscale": [
             [
              0,
              "#0d0887"
             ],
             [
              0.1111111111111111,
              "#46039f"
             ],
             [
              0.2222222222222222,
              "#7201a8"
             ],
             [
              0.3333333333333333,
              "#9c179e"
             ],
             [
              0.4444444444444444,
              "#bd3786"
             ],
             [
              0.5555555555555556,
              "#d8576b"
             ],
             [
              0.6666666666666666,
              "#ed7953"
             ],
             [
              0.7777777777777778,
              "#fb9f3a"
             ],
             [
              0.8888888888888888,
              "#fdca26"
             ],
             [
              1,
              "#f0f921"
             ]
            ],
            "type": "heatmap"
           }
          ],
          "heatmapgl": [
           {
            "colorbar": {
             "outlinewidth": 0,
             "ticks": ""
            },
            "colorscale": [
             [
              0,
              "#0d0887"
             ],
             [
              0.1111111111111111,
              "#46039f"
             ],
             [
              0.2222222222222222,
              "#7201a8"
             ],
             [
              0.3333333333333333,
              "#9c179e"
             ],
             [
              0.4444444444444444,
              "#bd3786"
             ],
             [
              0.5555555555555556,
              "#d8576b"
             ],
             [
              0.6666666666666666,
              "#ed7953"
             ],
             [
              0.7777777777777778,
              "#fb9f3a"
             ],
             [
              0.8888888888888888,
              "#fdca26"
             ],
             [
              1,
              "#f0f921"
             ]
            ],
            "type": "heatmapgl"
           }
          ],
          "histogram": [
           {
            "marker": {
             "pattern": {
              "fillmode": "overlay",
              "size": 10,
              "solidity": 0.2
             }
            },
            "type": "histogram"
           }
          ],
          "histogram2d": [
           {
            "colorbar": {
             "outlinewidth": 0,
             "ticks": ""
            },
            "colorscale": [
             [
              0,
              "#0d0887"
             ],
             [
              0.1111111111111111,
              "#46039f"
             ],
             [
              0.2222222222222222,
              "#7201a8"
             ],
             [
              0.3333333333333333,
              "#9c179e"
             ],
             [
              0.4444444444444444,
              "#bd3786"
             ],
             [
              0.5555555555555556,
              "#d8576b"
             ],
             [
              0.6666666666666666,
              "#ed7953"
             ],
             [
              0.7777777777777778,
              "#fb9f3a"
             ],
             [
              0.8888888888888888,
              "#fdca26"
             ],
             [
              1,
              "#f0f921"
             ]
            ],
            "type": "histogram2d"
           }
          ],
          "histogram2dcontour": [
           {
            "colorbar": {
             "outlinewidth": 0,
             "ticks": ""
            },
            "colorscale": [
             [
              0,
              "#0d0887"
             ],
             [
              0.1111111111111111,
              "#46039f"
             ],
             [
              0.2222222222222222,
              "#7201a8"
             ],
             [
              0.3333333333333333,
              "#9c179e"
             ],
             [
              0.4444444444444444,
              "#bd3786"
             ],
             [
              0.5555555555555556,
              "#d8576b"
             ],
             [
              0.6666666666666666,
              "#ed7953"
             ],
             [
              0.7777777777777778,
              "#fb9f3a"
             ],
             [
              0.8888888888888888,
              "#fdca26"
             ],
             [
              1,
              "#f0f921"
             ]
            ],
            "type": "histogram2dcontour"
           }
          ],
          "mesh3d": [
           {
            "colorbar": {
             "outlinewidth": 0,
             "ticks": ""
            },
            "type": "mesh3d"
           }
          ],
          "parcoords": [
           {
            "line": {
             "colorbar": {
              "outlinewidth": 0,
              "ticks": ""
             }
            },
            "type": "parcoords"
           }
          ],
          "pie": [
           {
            "automargin": true,
            "type": "pie"
           }
          ],
          "scatter": [
           {
            "fillpattern": {
             "fillmode": "overlay",
             "size": 10,
             "solidity": 0.2
            },
            "type": "scatter"
           }
          ],
          "scatter3d": [
           {
            "line": {
             "colorbar": {
              "outlinewidth": 0,
              "ticks": ""
             }
            },
            "marker": {
             "colorbar": {
              "outlinewidth": 0,
              "ticks": ""
             }
            },
            "type": "scatter3d"
           }
          ],
          "scattercarpet": [
           {
            "marker": {
             "colorbar": {
              "outlinewidth": 0,
              "ticks": ""
             }
            },
            "type": "scattercarpet"
           }
          ],
          "scattergeo": [
           {
            "marker": {
             "colorbar": {
              "outlinewidth": 0,
              "ticks": ""
             }
            },
            "type": "scattergeo"
           }
          ],
          "scattergl": [
           {
            "marker": {
             "colorbar": {
              "outlinewidth": 0,
              "ticks": ""
             }
            },
            "type": "scattergl"
           }
          ],
          "scattermapbox": [
           {
            "marker": {
             "colorbar": {
              "outlinewidth": 0,
              "ticks": ""
             }
            },
            "type": "scattermapbox"
           }
          ],
          "scatterpolar": [
           {
            "marker": {
             "colorbar": {
              "outlinewidth": 0,
              "ticks": ""
             }
            },
            "type": "scatterpolar"
           }
          ],
          "scatterpolargl": [
           {
            "marker": {
             "colorbar": {
              "outlinewidth": 0,
              "ticks": ""
             }
            },
            "type": "scatterpolargl"
           }
          ],
          "scatterternary": [
           {
            "marker": {
             "colorbar": {
              "outlinewidth": 0,
              "ticks": ""
             }
            },
            "type": "scatterternary"
           }
          ],
          "surface": [
           {
            "colorbar": {
             "outlinewidth": 0,
             "ticks": ""
            },
            "colorscale": [
             [
              0,
              "#0d0887"
             ],
             [
              0.1111111111111111,
              "#46039f"
             ],
             [
              0.2222222222222222,
              "#7201a8"
             ],
             [
              0.3333333333333333,
              "#9c179e"
             ],
             [
              0.4444444444444444,
              "#bd3786"
             ],
             [
              0.5555555555555556,
              "#d8576b"
             ],
             [
              0.6666666666666666,
              "#ed7953"
             ],
             [
              0.7777777777777778,
              "#fb9f3a"
             ],
             [
              0.8888888888888888,
              "#fdca26"
             ],
             [
              1,
              "#f0f921"
             ]
            ],
            "type": "surface"
           }
          ],
          "table": [
           {
            "cells": {
             "fill": {
              "color": "#EBF0F8"
             },
             "line": {
              "color": "white"
             }
            },
            "header": {
             "fill": {
              "color": "#C8D4E3"
             },
             "line": {
              "color": "white"
             }
            },
            "type": "table"
           }
          ]
         },
         "layout": {
          "annotationdefaults": {
           "arrowcolor": "#2a3f5f",
           "arrowhead": 0,
           "arrowwidth": 1
          },
          "autotypenumbers": "strict",
          "coloraxis": {
           "colorbar": {
            "outlinewidth": 0,
            "ticks": ""
           }
          },
          "colorscale": {
           "diverging": [
            [
             0,
             "#8e0152"
            ],
            [
             0.1,
             "#c51b7d"
            ],
            [
             0.2,
             "#de77ae"
            ],
            [
             0.3,
             "#f1b6da"
            ],
            [
             0.4,
             "#fde0ef"
            ],
            [
             0.5,
             "#f7f7f7"
            ],
            [
             0.6,
             "#e6f5d0"
            ],
            [
             0.7,
             "#b8e186"
            ],
            [
             0.8,
             "#7fbc41"
            ],
            [
             0.9,
             "#4d9221"
            ],
            [
             1,
             "#276419"
            ]
           ],
           "sequential": [
            [
             0,
             "#0d0887"
            ],
            [
             0.1111111111111111,
             "#46039f"
            ],
            [
             0.2222222222222222,
             "#7201a8"
            ],
            [
             0.3333333333333333,
             "#9c179e"
            ],
            [
             0.4444444444444444,
             "#bd3786"
            ],
            [
             0.5555555555555556,
             "#d8576b"
            ],
            [
             0.6666666666666666,
             "#ed7953"
            ],
            [
             0.7777777777777778,
             "#fb9f3a"
            ],
            [
             0.8888888888888888,
             "#fdca26"
            ],
            [
             1,
             "#f0f921"
            ]
           ],
           "sequentialminus": [
            [
             0,
             "#0d0887"
            ],
            [
             0.1111111111111111,
             "#46039f"
            ],
            [
             0.2222222222222222,
             "#7201a8"
            ],
            [
             0.3333333333333333,
             "#9c179e"
            ],
            [
             0.4444444444444444,
             "#bd3786"
            ],
            [
             0.5555555555555556,
             "#d8576b"
            ],
            [
             0.6666666666666666,
             "#ed7953"
            ],
            [
             0.7777777777777778,
             "#fb9f3a"
            ],
            [
             0.8888888888888888,
             "#fdca26"
            ],
            [
             1,
             "#f0f921"
            ]
           ]
          },
          "colorway": [
           "#636efa",
           "#EF553B",
           "#00cc96",
           "#ab63fa",
           "#FFA15A",
           "#19d3f3",
           "#FF6692",
           "#B6E880",
           "#FF97FF",
           "#FECB52"
          ],
          "font": {
           "color": "#2a3f5f"
          },
          "geo": {
           "bgcolor": "white",
           "lakecolor": "white",
           "landcolor": "#E5ECF6",
           "showlakes": true,
           "showland": true,
           "subunitcolor": "white"
          },
          "hoverlabel": {
           "align": "left"
          },
          "hovermode": "closest",
          "mapbox": {
           "style": "light"
          },
          "paper_bgcolor": "white",
          "plot_bgcolor": "#E5ECF6",
          "polar": {
           "angularaxis": {
            "gridcolor": "white",
            "linecolor": "white",
            "ticks": ""
           },
           "bgcolor": "#E5ECF6",
           "radialaxis": {
            "gridcolor": "white",
            "linecolor": "white",
            "ticks": ""
           }
          },
          "scene": {
           "xaxis": {
            "backgroundcolor": "#E5ECF6",
            "gridcolor": "white",
            "gridwidth": 2,
            "linecolor": "white",
            "showbackground": true,
            "ticks": "",
            "zerolinecolor": "white"
           },
           "yaxis": {
            "backgroundcolor": "#E5ECF6",
            "gridcolor": "white",
            "gridwidth": 2,
            "linecolor": "white",
            "showbackground": true,
            "ticks": "",
            "zerolinecolor": "white"
           },
           "zaxis": {
            "backgroundcolor": "#E5ECF6",
            "gridcolor": "white",
            "gridwidth": 2,
            "linecolor": "white",
            "showbackground": true,
            "ticks": "",
            "zerolinecolor": "white"
           }
          },
          "shapedefaults": {
           "line": {
            "color": "#2a3f5f"
           }
          },
          "ternary": {
           "aaxis": {
            "gridcolor": "white",
            "linecolor": "white",
            "ticks": ""
           },
           "baxis": {
            "gridcolor": "white",
            "linecolor": "white",
            "ticks": ""
           },
           "bgcolor": "#E5ECF6",
           "caxis": {
            "gridcolor": "white",
            "linecolor": "white",
            "ticks": ""
           }
          },
          "title": {
           "x": 0.05
          },
          "xaxis": {
           "automargin": true,
           "gridcolor": "white",
           "linecolor": "white",
           "ticks": "",
           "title": {
            "standoff": 15
           },
           "zerolinecolor": "white",
           "zerolinewidth": 2
          },
          "yaxis": {
           "automargin": true,
           "gridcolor": "white",
           "linecolor": "white",
           "ticks": "",
           "title": {
            "standoff": 15
           },
           "zerolinecolor": "white",
           "zerolinewidth": 2
          }
         }
        },
        "title": {
         "text": "Top 10 Universities by Employability Rank"
        },
        "xaxis": {
         "anchor": "y",
         "categoryorder": "total ascending",
         "domain": [
          0,
          1
         ],
         "title": {
          "text": "Employability Rank"
         }
        },
        "yaxis": {
         "anchor": "x",
         "domain": [
          0,
          1
         ],
         "title": {
          "text": "University Names"
         }
        }
       }
      }
     },
     "metadata": {},
     "output_type": "display_data"
    }
   ],
   "source": [
    "top_10_universities = wru_ranking.sort_values(by='Employability Rank', ascending=True).head(10)\n",
    "fig = px.bar(top_10_universities, x='Employability Rank', y='University Names', orientation='h',\n",
    "             title='Top 10 Universities by Employability Rank', labels={'Employability Rank': 'Employability Rank'})\n",
    "fig.update_layout(xaxis={'categoryorder':'total ascending'})\n",
    "fig.show()"
   ]
  },
  {
   "cell_type": "markdown",
   "id": "d706eaa3",
   "metadata": {},
   "source": [
    "This bar plot answers the second question.\n",
    "\n",
    "From the bar plot above we can see the top 10 universities in the world, in term of Employment after graduation. With Harvard University being the best university in the world. Also we can notice differences between the top 10 here and the top 10 overall."
   ]
  },
  {
   "cell_type": "code",
   "execution_count": 102,
   "id": "f3b60940",
   "metadata": {},
   "outputs": [
    {
     "name": "stderr",
     "output_type": "stream",
     "text": [
      "C:\\Users\\inter\\AppData\\Local\\Temp\\ipykernel_18364\\3757487687.py:1: FutureWarning:\n",
      "\n",
      "The default value of numeric_only in DataFrame.corr is deprecated. In a future version, it will default to False. Select only valid columns or specify the value of numeric_only to silence this warning.\n",
      "\n"
     ]
    },
    {
     "data": {
      "application/vnd.plotly.v1+json": {
       "config": {
        "plotlyServerURL": "https://plot.ly"
       },
       "data": [
        {
         "coloraxis": "coloraxis",
         "hovertemplate": "x: %{x}<br>y: %{y}<br>Correlation: %{z}<extra></extra>",
         "name": "0",
         "type": "heatmap",
         "x": [
          "World Rank",
          "National Rank",
          "Educational Rank",
          "Employability Rank",
          "Faculty Rank",
          "Research Rank",
          "Score"
         ],
         "xaxis": "x",
         "y": [
          "World Rank",
          "National Rank",
          "Educational Rank",
          "Employability Rank",
          "Faculty Rank",
          "Research Rank",
          "Score"
         ],
         "yaxis": "y",
         "z": [
          [
           1,
           0.3526922723262446,
           0.15819072306866427,
           0.32705524081804,
           0.4866752399220226,
           0.9859141243472258,
           -0.9164927382515047
          ],
          [
           0.3526922723262446,
           1,
           -0.06099175552434905,
           0.04517465366304864,
           0.22595630104759346,
           0.351526585480852,
           -0.33517864545000814
          ],
          [
           0.15819072306866427,
           -0.06099175552434905,
           1,
           0.3034307644499438,
           0.563592938737149,
           0.23128329339791995,
           -0.3662259831360978
          ],
          [
           0.32705524081804,
           0.04517465366304864,
           0.3034307644499438,
           1,
           0.3576208021030987,
           0.3344457868451538,
           -0.4102659079785359
          ],
          [
           0.4866752399220226,
           0.22595630104759346,
           0.563592938737149,
           0.3576208021030987,
           1,
           0.45881001713466046,
           -0.6845767583512773
          ],
          [
           0.9859141243472258,
           0.351526585480852,
           0.23128329339791995,
           0.3344457868451538,
           0.45881001713466046,
           1,
           -0.9040021655569379
          ],
          [
           -0.9164927382515047,
           -0.33517864545000814,
           -0.3662259831360978,
           -0.4102659079785359,
           -0.6845767583512773,
           -0.9040021655569379,
           1
          ]
         ]
        }
       ],
       "layout": {
        "annotations": [
         {
          "font": {
           "color": "black"
          },
          "showarrow": false,
          "text": "1.0",
          "x": "World Rank",
          "y": "World Rank"
         },
         {
          "font": {
           "color": "black"
          },
          "showarrow": false,
          "text": "0.35",
          "x": "National Rank",
          "y": "World Rank"
         },
         {
          "font": {
           "color": "black"
          },
          "showarrow": false,
          "text": "0.16",
          "x": "Educational Rank",
          "y": "World Rank"
         },
         {
          "font": {
           "color": "black"
          },
          "showarrow": false,
          "text": "0.33",
          "x": "Employability Rank",
          "y": "World Rank"
         },
         {
          "font": {
           "color": "black"
          },
          "showarrow": false,
          "text": "0.49",
          "x": "Faculty Rank",
          "y": "World Rank"
         },
         {
          "font": {
           "color": "black"
          },
          "showarrow": false,
          "text": "0.99",
          "x": "Research Rank",
          "y": "World Rank"
         },
         {
          "font": {
           "color": "black"
          },
          "showarrow": false,
          "text": "-0.92",
          "x": "Score",
          "y": "World Rank"
         },
         {
          "font": {
           "color": "black"
          },
          "showarrow": false,
          "text": "0.35",
          "x": "World Rank",
          "y": "National Rank"
         },
         {
          "font": {
           "color": "black"
          },
          "showarrow": false,
          "text": "1.0",
          "x": "National Rank",
          "y": "National Rank"
         },
         {
          "font": {
           "color": "black"
          },
          "showarrow": false,
          "text": "-0.06",
          "x": "Educational Rank",
          "y": "National Rank"
         },
         {
          "font": {
           "color": "black"
          },
          "showarrow": false,
          "text": "0.05",
          "x": "Employability Rank",
          "y": "National Rank"
         },
         {
          "font": {
           "color": "black"
          },
          "showarrow": false,
          "text": "0.23",
          "x": "Faculty Rank",
          "y": "National Rank"
         },
         {
          "font": {
           "color": "black"
          },
          "showarrow": false,
          "text": "0.35",
          "x": "Research Rank",
          "y": "National Rank"
         },
         {
          "font": {
           "color": "black"
          },
          "showarrow": false,
          "text": "-0.34",
          "x": "Score",
          "y": "National Rank"
         },
         {
          "font": {
           "color": "black"
          },
          "showarrow": false,
          "text": "0.16",
          "x": "World Rank",
          "y": "Educational Rank"
         },
         {
          "font": {
           "color": "black"
          },
          "showarrow": false,
          "text": "-0.06",
          "x": "National Rank",
          "y": "Educational Rank"
         },
         {
          "font": {
           "color": "black"
          },
          "showarrow": false,
          "text": "1.0",
          "x": "Educational Rank",
          "y": "Educational Rank"
         },
         {
          "font": {
           "color": "black"
          },
          "showarrow": false,
          "text": "0.3",
          "x": "Employability Rank",
          "y": "Educational Rank"
         },
         {
          "font": {
           "color": "black"
          },
          "showarrow": false,
          "text": "0.56",
          "x": "Faculty Rank",
          "y": "Educational Rank"
         },
         {
          "font": {
           "color": "black"
          },
          "showarrow": false,
          "text": "0.23",
          "x": "Research Rank",
          "y": "Educational Rank"
         },
         {
          "font": {
           "color": "black"
          },
          "showarrow": false,
          "text": "-0.37",
          "x": "Score",
          "y": "Educational Rank"
         },
         {
          "font": {
           "color": "black"
          },
          "showarrow": false,
          "text": "0.33",
          "x": "World Rank",
          "y": "Employability Rank"
         },
         {
          "font": {
           "color": "black"
          },
          "showarrow": false,
          "text": "0.05",
          "x": "National Rank",
          "y": "Employability Rank"
         },
         {
          "font": {
           "color": "black"
          },
          "showarrow": false,
          "text": "0.3",
          "x": "Educational Rank",
          "y": "Employability Rank"
         },
         {
          "font": {
           "color": "black"
          },
          "showarrow": false,
          "text": "1.0",
          "x": "Employability Rank",
          "y": "Employability Rank"
         },
         {
          "font": {
           "color": "black"
          },
          "showarrow": false,
          "text": "0.36",
          "x": "Faculty Rank",
          "y": "Employability Rank"
         },
         {
          "font": {
           "color": "black"
          },
          "showarrow": false,
          "text": "0.33",
          "x": "Research Rank",
          "y": "Employability Rank"
         },
         {
          "font": {
           "color": "black"
          },
          "showarrow": false,
          "text": "-0.41",
          "x": "Score",
          "y": "Employability Rank"
         },
         {
          "font": {
           "color": "black"
          },
          "showarrow": false,
          "text": "0.49",
          "x": "World Rank",
          "y": "Faculty Rank"
         },
         {
          "font": {
           "color": "black"
          },
          "showarrow": false,
          "text": "0.23",
          "x": "National Rank",
          "y": "Faculty Rank"
         },
         {
          "font": {
           "color": "black"
          },
          "showarrow": false,
          "text": "0.56",
          "x": "Educational Rank",
          "y": "Faculty Rank"
         },
         {
          "font": {
           "color": "black"
          },
          "showarrow": false,
          "text": "0.36",
          "x": "Employability Rank",
          "y": "Faculty Rank"
         },
         {
          "font": {
           "color": "black"
          },
          "showarrow": false,
          "text": "1.0",
          "x": "Faculty Rank",
          "y": "Faculty Rank"
         },
         {
          "font": {
           "color": "black"
          },
          "showarrow": false,
          "text": "0.46",
          "x": "Research Rank",
          "y": "Faculty Rank"
         },
         {
          "font": {
           "color": "black"
          },
          "showarrow": false,
          "text": "-0.68",
          "x": "Score",
          "y": "Faculty Rank"
         },
         {
          "font": {
           "color": "black"
          },
          "showarrow": false,
          "text": "0.99",
          "x": "World Rank",
          "y": "Research Rank"
         },
         {
          "font": {
           "color": "black"
          },
          "showarrow": false,
          "text": "0.35",
          "x": "National Rank",
          "y": "Research Rank"
         },
         {
          "font": {
           "color": "black"
          },
          "showarrow": false,
          "text": "0.23",
          "x": "Educational Rank",
          "y": "Research Rank"
         },
         {
          "font": {
           "color": "black"
          },
          "showarrow": false,
          "text": "0.33",
          "x": "Employability Rank",
          "y": "Research Rank"
         },
         {
          "font": {
           "color": "black"
          },
          "showarrow": false,
          "text": "0.46",
          "x": "Faculty Rank",
          "y": "Research Rank"
         },
         {
          "font": {
           "color": "black"
          },
          "showarrow": false,
          "text": "1.0",
          "x": "Research Rank",
          "y": "Research Rank"
         },
         {
          "font": {
           "color": "black"
          },
          "showarrow": false,
          "text": "-0.9",
          "x": "Score",
          "y": "Research Rank"
         },
         {
          "font": {
           "color": "black"
          },
          "showarrow": false,
          "text": "-0.92",
          "x": "World Rank",
          "y": "Score"
         },
         {
          "font": {
           "color": "black"
          },
          "showarrow": false,
          "text": "-0.34",
          "x": "National Rank",
          "y": "Score"
         },
         {
          "font": {
           "color": "black"
          },
          "showarrow": false,
          "text": "-0.37",
          "x": "Educational Rank",
          "y": "Score"
         },
         {
          "font": {
           "color": "black"
          },
          "showarrow": false,
          "text": "-0.41",
          "x": "Employability Rank",
          "y": "Score"
         },
         {
          "font": {
           "color": "black"
          },
          "showarrow": false,
          "text": "-0.68",
          "x": "Faculty Rank",
          "y": "Score"
         },
         {
          "font": {
           "color": "black"
          },
          "showarrow": false,
          "text": "-0.9",
          "x": "Research Rank",
          "y": "Score"
         },
         {
          "font": {
           "color": "black"
          },
          "showarrow": false,
          "text": "1.0",
          "x": "Score",
          "y": "Score"
         }
        ],
        "coloraxis": {
         "colorbar": {
          "title": {
           "text": "Correlation"
          }
         },
         "colorscale": [
          [
           0,
           "rgb(243, 224, 247)"
          ],
          [
           0.16666666666666666,
           "rgb(228, 199, 241)"
          ],
          [
           0.3333333333333333,
           "rgb(209, 175, 232)"
          ],
          [
           0.5,
           "rgb(185, 152, 221)"
          ],
          [
           0.6666666666666666,
           "rgb(159, 130, 206)"
          ],
          [
           0.8333333333333334,
           "rgb(130, 109, 186)"
          ],
          [
           1,
           "rgb(99, 88, 159)"
          ]
         ]
        },
        "height": 600,
        "margin": {
         "t": 60
        },
        "template": {
         "data": {
          "bar": [
           {
            "error_x": {
             "color": "#2a3f5f"
            },
            "error_y": {
             "color": "#2a3f5f"
            },
            "marker": {
             "line": {
              "color": "#E5ECF6",
              "width": 0.5
             },
             "pattern": {
              "fillmode": "overlay",
              "size": 10,
              "solidity": 0.2
             }
            },
            "type": "bar"
           }
          ],
          "barpolar": [
           {
            "marker": {
             "line": {
              "color": "#E5ECF6",
              "width": 0.5
             },
             "pattern": {
              "fillmode": "overlay",
              "size": 10,
              "solidity": 0.2
             }
            },
            "type": "barpolar"
           }
          ],
          "carpet": [
           {
            "aaxis": {
             "endlinecolor": "#2a3f5f",
             "gridcolor": "white",
             "linecolor": "white",
             "minorgridcolor": "white",
             "startlinecolor": "#2a3f5f"
            },
            "baxis": {
             "endlinecolor": "#2a3f5f",
             "gridcolor": "white",
             "linecolor": "white",
             "minorgridcolor": "white",
             "startlinecolor": "#2a3f5f"
            },
            "type": "carpet"
           }
          ],
          "choropleth": [
           {
            "colorbar": {
             "outlinewidth": 0,
             "ticks": ""
            },
            "type": "choropleth"
           }
          ],
          "contour": [
           {
            "colorbar": {
             "outlinewidth": 0,
             "ticks": ""
            },
            "colorscale": [
             [
              0,
              "#0d0887"
             ],
             [
              0.1111111111111111,
              "#46039f"
             ],
             [
              0.2222222222222222,
              "#7201a8"
             ],
             [
              0.3333333333333333,
              "#9c179e"
             ],
             [
              0.4444444444444444,
              "#bd3786"
             ],
             [
              0.5555555555555556,
              "#d8576b"
             ],
             [
              0.6666666666666666,
              "#ed7953"
             ],
             [
              0.7777777777777778,
              "#fb9f3a"
             ],
             [
              0.8888888888888888,
              "#fdca26"
             ],
             [
              1,
              "#f0f921"
             ]
            ],
            "type": "contour"
           }
          ],
          "contourcarpet": [
           {
            "colorbar": {
             "outlinewidth": 0,
             "ticks": ""
            },
            "type": "contourcarpet"
           }
          ],
          "heatmap": [
           {
            "colorbar": {
             "outlinewidth": 0,
             "ticks": ""
            },
            "colorscale": [
             [
              0,
              "#0d0887"
             ],
             [
              0.1111111111111111,
              "#46039f"
             ],
             [
              0.2222222222222222,
              "#7201a8"
             ],
             [
              0.3333333333333333,
              "#9c179e"
             ],
             [
              0.4444444444444444,
              "#bd3786"
             ],
             [
              0.5555555555555556,
              "#d8576b"
             ],
             [
              0.6666666666666666,
              "#ed7953"
             ],
             [
              0.7777777777777778,
              "#fb9f3a"
             ],
             [
              0.8888888888888888,
              "#fdca26"
             ],
             [
              1,
              "#f0f921"
             ]
            ],
            "type": "heatmap"
           }
          ],
          "heatmapgl": [
           {
            "colorbar": {
             "outlinewidth": 0,
             "ticks": ""
            },
            "colorscale": [
             [
              0,
              "#0d0887"
             ],
             [
              0.1111111111111111,
              "#46039f"
             ],
             [
              0.2222222222222222,
              "#7201a8"
             ],
             [
              0.3333333333333333,
              "#9c179e"
             ],
             [
              0.4444444444444444,
              "#bd3786"
             ],
             [
              0.5555555555555556,
              "#d8576b"
             ],
             [
              0.6666666666666666,
              "#ed7953"
             ],
             [
              0.7777777777777778,
              "#fb9f3a"
             ],
             [
              0.8888888888888888,
              "#fdca26"
             ],
             [
              1,
              "#f0f921"
             ]
            ],
            "type": "heatmapgl"
           }
          ],
          "histogram": [
           {
            "marker": {
             "pattern": {
              "fillmode": "overlay",
              "size": 10,
              "solidity": 0.2
             }
            },
            "type": "histogram"
           }
          ],
          "histogram2d": [
           {
            "colorbar": {
             "outlinewidth": 0,
             "ticks": ""
            },
            "colorscale": [
             [
              0,
              "#0d0887"
             ],
             [
              0.1111111111111111,
              "#46039f"
             ],
             [
              0.2222222222222222,
              "#7201a8"
             ],
             [
              0.3333333333333333,
              "#9c179e"
             ],
             [
              0.4444444444444444,
              "#bd3786"
             ],
             [
              0.5555555555555556,
              "#d8576b"
             ],
             [
              0.6666666666666666,
              "#ed7953"
             ],
             [
              0.7777777777777778,
              "#fb9f3a"
             ],
             [
              0.8888888888888888,
              "#fdca26"
             ],
             [
              1,
              "#f0f921"
             ]
            ],
            "type": "histogram2d"
           }
          ],
          "histogram2dcontour": [
           {
            "colorbar": {
             "outlinewidth": 0,
             "ticks": ""
            },
            "colorscale": [
             [
              0,
              "#0d0887"
             ],
             [
              0.1111111111111111,
              "#46039f"
             ],
             [
              0.2222222222222222,
              "#7201a8"
             ],
             [
              0.3333333333333333,
              "#9c179e"
             ],
             [
              0.4444444444444444,
              "#bd3786"
             ],
             [
              0.5555555555555556,
              "#d8576b"
             ],
             [
              0.6666666666666666,
              "#ed7953"
             ],
             [
              0.7777777777777778,
              "#fb9f3a"
             ],
             [
              0.8888888888888888,
              "#fdca26"
             ],
             [
              1,
              "#f0f921"
             ]
            ],
            "type": "histogram2dcontour"
           }
          ],
          "mesh3d": [
           {
            "colorbar": {
             "outlinewidth": 0,
             "ticks": ""
            },
            "type": "mesh3d"
           }
          ],
          "parcoords": [
           {
            "line": {
             "colorbar": {
              "outlinewidth": 0,
              "ticks": ""
             }
            },
            "type": "parcoords"
           }
          ],
          "pie": [
           {
            "automargin": true,
            "type": "pie"
           }
          ],
          "scatter": [
           {
            "fillpattern": {
             "fillmode": "overlay",
             "size": 10,
             "solidity": 0.2
            },
            "type": "scatter"
           }
          ],
          "scatter3d": [
           {
            "line": {
             "colorbar": {
              "outlinewidth": 0,
              "ticks": ""
             }
            },
            "marker": {
             "colorbar": {
              "outlinewidth": 0,
              "ticks": ""
             }
            },
            "type": "scatter3d"
           }
          ],
          "scattercarpet": [
           {
            "marker": {
             "colorbar": {
              "outlinewidth": 0,
              "ticks": ""
             }
            },
            "type": "scattercarpet"
           }
          ],
          "scattergeo": [
           {
            "marker": {
             "colorbar": {
              "outlinewidth": 0,
              "ticks": ""
             }
            },
            "type": "scattergeo"
           }
          ],
          "scattergl": [
           {
            "marker": {
             "colorbar": {
              "outlinewidth": 0,
              "ticks": ""
             }
            },
            "type": "scattergl"
           }
          ],
          "scattermapbox": [
           {
            "marker": {
             "colorbar": {
              "outlinewidth": 0,
              "ticks": ""
             }
            },
            "type": "scattermapbox"
           }
          ],
          "scatterpolar": [
           {
            "marker": {
             "colorbar": {
              "outlinewidth": 0,
              "ticks": ""
             }
            },
            "type": "scatterpolar"
           }
          ],
          "scatterpolargl": [
           {
            "marker": {
             "colorbar": {
              "outlinewidth": 0,
              "ticks": ""
             }
            },
            "type": "scatterpolargl"
           }
          ],
          "scatterternary": [
           {
            "marker": {
             "colorbar": {
              "outlinewidth": 0,
              "ticks": ""
             }
            },
            "type": "scatterternary"
           }
          ],
          "surface": [
           {
            "colorbar": {
             "outlinewidth": 0,
             "ticks": ""
            },
            "colorscale": [
             [
              0,
              "#0d0887"
             ],
             [
              0.1111111111111111,
              "#46039f"
             ],
             [
              0.2222222222222222,
              "#7201a8"
             ],
             [
              0.3333333333333333,
              "#9c179e"
             ],
             [
              0.4444444444444444,
              "#bd3786"
             ],
             [
              0.5555555555555556,
              "#d8576b"
             ],
             [
              0.6666666666666666,
              "#ed7953"
             ],
             [
              0.7777777777777778,
              "#fb9f3a"
             ],
             [
              0.8888888888888888,
              "#fdca26"
             ],
             [
              1,
              "#f0f921"
             ]
            ],
            "type": "surface"
           }
          ],
          "table": [
           {
            "cells": {
             "fill": {
              "color": "#EBF0F8"
             },
             "line": {
              "color": "white"
             }
            },
            "header": {
             "fill": {
              "color": "#C8D4E3"
             },
             "line": {
              "color": "white"
             }
            },
            "type": "table"
           }
          ]
         },
         "layout": {
          "annotationdefaults": {
           "arrowcolor": "#2a3f5f",
           "arrowhead": 0,
           "arrowwidth": 1
          },
          "autotypenumbers": "strict",
          "coloraxis": {
           "colorbar": {
            "outlinewidth": 0,
            "ticks": ""
           }
          },
          "colorscale": {
           "diverging": [
            [
             0,
             "#8e0152"
            ],
            [
             0.1,
             "#c51b7d"
            ],
            [
             0.2,
             "#de77ae"
            ],
            [
             0.3,
             "#f1b6da"
            ],
            [
             0.4,
             "#fde0ef"
            ],
            [
             0.5,
             "#f7f7f7"
            ],
            [
             0.6,
             "#e6f5d0"
            ],
            [
             0.7,
             "#b8e186"
            ],
            [
             0.8,
             "#7fbc41"
            ],
            [
             0.9,
             "#4d9221"
            ],
            [
             1,
             "#276419"
            ]
           ],
           "sequential": [
            [
             0,
             "#0d0887"
            ],
            [
             0.1111111111111111,
             "#46039f"
            ],
            [
             0.2222222222222222,
             "#7201a8"
            ],
            [
             0.3333333333333333,
             "#9c179e"
            ],
            [
             0.4444444444444444,
             "#bd3786"
            ],
            [
             0.5555555555555556,
             "#d8576b"
            ],
            [
             0.6666666666666666,
             "#ed7953"
            ],
            [
             0.7777777777777778,
             "#fb9f3a"
            ],
            [
             0.8888888888888888,
             "#fdca26"
            ],
            [
             1,
             "#f0f921"
            ]
           ],
           "sequentialminus": [
            [
             0,
             "#0d0887"
            ],
            [
             0.1111111111111111,
             "#46039f"
            ],
            [
             0.2222222222222222,
             "#7201a8"
            ],
            [
             0.3333333333333333,
             "#9c179e"
            ],
            [
             0.4444444444444444,
             "#bd3786"
            ],
            [
             0.5555555555555556,
             "#d8576b"
            ],
            [
             0.6666666666666666,
             "#ed7953"
            ],
            [
             0.7777777777777778,
             "#fb9f3a"
            ],
            [
             0.8888888888888888,
             "#fdca26"
            ],
            [
             1,
             "#f0f921"
            ]
           ]
          },
          "colorway": [
           "#636efa",
           "#EF553B",
           "#00cc96",
           "#ab63fa",
           "#FFA15A",
           "#19d3f3",
           "#FF6692",
           "#B6E880",
           "#FF97FF",
           "#FECB52"
          ],
          "font": {
           "color": "#2a3f5f"
          },
          "geo": {
           "bgcolor": "white",
           "lakecolor": "white",
           "landcolor": "#E5ECF6",
           "showlakes": true,
           "showland": true,
           "subunitcolor": "white"
          },
          "hoverlabel": {
           "align": "left"
          },
          "hovermode": "closest",
          "mapbox": {
           "style": "light"
          },
          "paper_bgcolor": "white",
          "plot_bgcolor": "#E5ECF6",
          "polar": {
           "angularaxis": {
            "gridcolor": "white",
            "linecolor": "white",
            "ticks": ""
           },
           "bgcolor": "#E5ECF6",
           "radialaxis": {
            "gridcolor": "white",
            "linecolor": "white",
            "ticks": ""
           }
          },
          "scene": {
           "xaxis": {
            "backgroundcolor": "#E5ECF6",
            "gridcolor": "white",
            "gridwidth": 2,
            "linecolor": "white",
            "showbackground": true,
            "ticks": "",
            "zerolinecolor": "white"
           },
           "yaxis": {
            "backgroundcolor": "#E5ECF6",
            "gridcolor": "white",
            "gridwidth": 2,
            "linecolor": "white",
            "showbackground": true,
            "ticks": "",
            "zerolinecolor": "white"
           },
           "zaxis": {
            "backgroundcolor": "#E5ECF6",
            "gridcolor": "white",
            "gridwidth": 2,
            "linecolor": "white",
            "showbackground": true,
            "ticks": "",
            "zerolinecolor": "white"
           }
          },
          "shapedefaults": {
           "line": {
            "color": "#2a3f5f"
           }
          },
          "ternary": {
           "aaxis": {
            "gridcolor": "white",
            "linecolor": "white",
            "ticks": ""
           },
           "baxis": {
            "gridcolor": "white",
            "linecolor": "white",
            "ticks": ""
           },
           "bgcolor": "#E5ECF6",
           "caxis": {
            "gridcolor": "white",
            "linecolor": "white",
            "ticks": ""
           }
          },
          "title": {
           "x": 0.05
          },
          "xaxis": {
           "automargin": true,
           "gridcolor": "white",
           "linecolor": "white",
           "ticks": "",
           "title": {
            "standoff": 15
           },
           "zerolinecolor": "white",
           "zerolinewidth": 2
          },
          "yaxis": {
           "automargin": true,
           "gridcolor": "white",
           "linecolor": "white",
           "ticks": "",
           "title": {
            "standoff": 15
           },
           "zerolinecolor": "white",
           "zerolinewidth": 2
          }
         }
        },
        "title": {
         "text": "Correlation Matrix"
        },
        "width": 800,
        "xaxis": {
         "anchor": "y",
         "constrain": "domain",
         "domain": [
          0,
          1
         ],
         "scaleanchor": "y"
        },
        "yaxis": {
         "anchor": "x",
         "autorange": "reversed",
         "constrain": "domain",
         "domain": [
          0,
          1
         ]
        }
       }
      }
     },
     "metadata": {},
     "output_type": "display_data"
    }
   ],
   "source": [
    "corr_matrix = wru_ranking.corr()\n",
    "fig = px.imshow(corr_matrix.values,\n",
    "                labels=dict(color=\"Correlation\"),\n",
    "                x=corr_matrix.index,\n",
    "                y=corr_matrix.columns,\n",
    "                color_continuous_scale='Purp')\n",
    "\n",
    "fig.update_layout(title='Correlation Matrix',\n",
    "                  width=800,\n",
    "                  height=600)\n",
    "\n",
    "annotations = []\n",
    "for i, row in enumerate(corr_matrix.index):\n",
    "    for j, col in enumerate(corr_matrix.columns):\n",
    "        annotations.append(dict(x=col, y=row, text=str(corr_matrix.iloc[i, j].round(2)),\n",
    "                                showarrow=False, font=dict(color='black')))\n",
    "fig.update_layout(annotations=annotations)\n",
    "\n",
    "fig.show()"
   ]
  },
  {
   "cell_type": "markdown",
   "id": "79460540",
   "metadata": {},
   "source": [
    "This heatmap answers the third question.\n",
    "\n",
    "As we can see from the heatmap, the highest correlation is with the Research rank. Second is Faculty rank. And the lowest correlation is with the Educational rank. However, we must consider that there are many null values in the ranks other than the national rank (0), and the research rank (66). Thus affecting the correlation."
   ]
  },
  {
   "cell_type": "code",
   "execution_count": 95,
   "id": "257d3c7d",
   "metadata": {},
   "outputs": [
    {
     "data": {
      "application/vnd.plotly.v1+json": {
       "config": {
        "plotlyServerURL": "https://plot.ly"
       },
       "data": [
        {
         "domain": {
          "x": [
           0,
           1
          ],
          "y": [
           0,
           1
          ]
         },
         "hovertemplate": "Location =%{label}<extra></extra>",
         "labels": [
          "USA",
          "USA",
          "USA",
          "United Kingdom",
          "United Kingdom",
          "USA",
          "USA",
          "USA",
          "USA",
          "USA",
          "USA",
          "USA",
          "Japan",
          "USA",
          "USA",
          "USA",
          "USA",
          "USA",
          "United Kingdom",
          "USA",
          "France",
          "USA",
          "Canada",
          "USA",
          "USA",
          "Canada",
          "Japan",
          "USA",
          "United Kingdom",
          "Switzerland",
          "South Korea",
          "France",
          "USA",
          "USA",
          "Denmark",
          "USA",
          "USA",
          "Sweden",
          "France",
          "United Kingdom",
          "France",
          "USA",
          "USA",
          "China",
          "France",
          "Germany",
          "USA",
          "United Kingdom",
          "China",
          "United Kingdom",
          "Canada",
          "USA",
          "USA",
          "USA",
          "China",
          "USA",
          "Australia",
          "Germany",
          "Germany",
          "USA",
          "USA",
          "USA",
          "Switzerland",
          "USA",
          "USA",
          "USA",
          "USA",
          "Germany",
          "USA",
          "Israel",
          "USA",
          "Netherlands",
          "USA",
          "China",
          "USA",
          "Canada",
          "Sweden",
          "Germany",
          "USA",
          "Netherlands",
          "Singapore",
          "USA",
          "Norway",
          "United Kingdom",
          "China",
          "USA",
          "Israel",
          "Netherlands",
          "China",
          "USA",
          "USA",
          "Australia",
          "United Kingdom",
          "Netherlands",
          "USA",
          "Switzerland",
          "Germany",
          "USA",
          "USA",
          "Japan"
         ],
         "legendgroup": "",
         "name": "",
         "showlegend": true,
         "type": "pie"
        }
       ],
       "layout": {
        "legend": {
         "tracegroupgap": 0
        },
        "template": {
         "data": {
          "bar": [
           {
            "error_x": {
             "color": "#2a3f5f"
            },
            "error_y": {
             "color": "#2a3f5f"
            },
            "marker": {
             "line": {
              "color": "#E5ECF6",
              "width": 0.5
             },
             "pattern": {
              "fillmode": "overlay",
              "size": 10,
              "solidity": 0.2
             }
            },
            "type": "bar"
           }
          ],
          "barpolar": [
           {
            "marker": {
             "line": {
              "color": "#E5ECF6",
              "width": 0.5
             },
             "pattern": {
              "fillmode": "overlay",
              "size": 10,
              "solidity": 0.2
             }
            },
            "type": "barpolar"
           }
          ],
          "carpet": [
           {
            "aaxis": {
             "endlinecolor": "#2a3f5f",
             "gridcolor": "white",
             "linecolor": "white",
             "minorgridcolor": "white",
             "startlinecolor": "#2a3f5f"
            },
            "baxis": {
             "endlinecolor": "#2a3f5f",
             "gridcolor": "white",
             "linecolor": "white",
             "minorgridcolor": "white",
             "startlinecolor": "#2a3f5f"
            },
            "type": "carpet"
           }
          ],
          "choropleth": [
           {
            "colorbar": {
             "outlinewidth": 0,
             "ticks": ""
            },
            "type": "choropleth"
           }
          ],
          "contour": [
           {
            "colorbar": {
             "outlinewidth": 0,
             "ticks": ""
            },
            "colorscale": [
             [
              0,
              "#0d0887"
             ],
             [
              0.1111111111111111,
              "#46039f"
             ],
             [
              0.2222222222222222,
              "#7201a8"
             ],
             [
              0.3333333333333333,
              "#9c179e"
             ],
             [
              0.4444444444444444,
              "#bd3786"
             ],
             [
              0.5555555555555556,
              "#d8576b"
             ],
             [
              0.6666666666666666,
              "#ed7953"
             ],
             [
              0.7777777777777778,
              "#fb9f3a"
             ],
             [
              0.8888888888888888,
              "#fdca26"
             ],
             [
              1,
              "#f0f921"
             ]
            ],
            "type": "contour"
           }
          ],
          "contourcarpet": [
           {
            "colorbar": {
             "outlinewidth": 0,
             "ticks": ""
            },
            "type": "contourcarpet"
           }
          ],
          "heatmap": [
           {
            "colorbar": {
             "outlinewidth": 0,
             "ticks": ""
            },
            "colorscale": [
             [
              0,
              "#0d0887"
             ],
             [
              0.1111111111111111,
              "#46039f"
             ],
             [
              0.2222222222222222,
              "#7201a8"
             ],
             [
              0.3333333333333333,
              "#9c179e"
             ],
             [
              0.4444444444444444,
              "#bd3786"
             ],
             [
              0.5555555555555556,
              "#d8576b"
             ],
             [
              0.6666666666666666,
              "#ed7953"
             ],
             [
              0.7777777777777778,
              "#fb9f3a"
             ],
             [
              0.8888888888888888,
              "#fdca26"
             ],
             [
              1,
              "#f0f921"
             ]
            ],
            "type": "heatmap"
           }
          ],
          "heatmapgl": [
           {
            "colorbar": {
             "outlinewidth": 0,
             "ticks": ""
            },
            "colorscale": [
             [
              0,
              "#0d0887"
             ],
             [
              0.1111111111111111,
              "#46039f"
             ],
             [
              0.2222222222222222,
              "#7201a8"
             ],
             [
              0.3333333333333333,
              "#9c179e"
             ],
             [
              0.4444444444444444,
              "#bd3786"
             ],
             [
              0.5555555555555556,
              "#d8576b"
             ],
             [
              0.6666666666666666,
              "#ed7953"
             ],
             [
              0.7777777777777778,
              "#fb9f3a"
             ],
             [
              0.8888888888888888,
              "#fdca26"
             ],
             [
              1,
              "#f0f921"
             ]
            ],
            "type": "heatmapgl"
           }
          ],
          "histogram": [
           {
            "marker": {
             "pattern": {
              "fillmode": "overlay",
              "size": 10,
              "solidity": 0.2
             }
            },
            "type": "histogram"
           }
          ],
          "histogram2d": [
           {
            "colorbar": {
             "outlinewidth": 0,
             "ticks": ""
            },
            "colorscale": [
             [
              0,
              "#0d0887"
             ],
             [
              0.1111111111111111,
              "#46039f"
             ],
             [
              0.2222222222222222,
              "#7201a8"
             ],
             [
              0.3333333333333333,
              "#9c179e"
             ],
             [
              0.4444444444444444,
              "#bd3786"
             ],
             [
              0.5555555555555556,
              "#d8576b"
             ],
             [
              0.6666666666666666,
              "#ed7953"
             ],
             [
              0.7777777777777778,
              "#fb9f3a"
             ],
             [
              0.8888888888888888,
              "#fdca26"
             ],
             [
              1,
              "#f0f921"
             ]
            ],
            "type": "histogram2d"
           }
          ],
          "histogram2dcontour": [
           {
            "colorbar": {
             "outlinewidth": 0,
             "ticks": ""
            },
            "colorscale": [
             [
              0,
              "#0d0887"
             ],
             [
              0.1111111111111111,
              "#46039f"
             ],
             [
              0.2222222222222222,
              "#7201a8"
             ],
             [
              0.3333333333333333,
              "#9c179e"
             ],
             [
              0.4444444444444444,
              "#bd3786"
             ],
             [
              0.5555555555555556,
              "#d8576b"
             ],
             [
              0.6666666666666666,
              "#ed7953"
             ],
             [
              0.7777777777777778,
              "#fb9f3a"
             ],
             [
              0.8888888888888888,
              "#fdca26"
             ],
             [
              1,
              "#f0f921"
             ]
            ],
            "type": "histogram2dcontour"
           }
          ],
          "mesh3d": [
           {
            "colorbar": {
             "outlinewidth": 0,
             "ticks": ""
            },
            "type": "mesh3d"
           }
          ],
          "parcoords": [
           {
            "line": {
             "colorbar": {
              "outlinewidth": 0,
              "ticks": ""
             }
            },
            "type": "parcoords"
           }
          ],
          "pie": [
           {
            "automargin": true,
            "type": "pie"
           }
          ],
          "scatter": [
           {
            "fillpattern": {
             "fillmode": "overlay",
             "size": 10,
             "solidity": 0.2
            },
            "type": "scatter"
           }
          ],
          "scatter3d": [
           {
            "line": {
             "colorbar": {
              "outlinewidth": 0,
              "ticks": ""
             }
            },
            "marker": {
             "colorbar": {
              "outlinewidth": 0,
              "ticks": ""
             }
            },
            "type": "scatter3d"
           }
          ],
          "scattercarpet": [
           {
            "marker": {
             "colorbar": {
              "outlinewidth": 0,
              "ticks": ""
             }
            },
            "type": "scattercarpet"
           }
          ],
          "scattergeo": [
           {
            "marker": {
             "colorbar": {
              "outlinewidth": 0,
              "ticks": ""
             }
            },
            "type": "scattergeo"
           }
          ],
          "scattergl": [
           {
            "marker": {
             "colorbar": {
              "outlinewidth": 0,
              "ticks": ""
             }
            },
            "type": "scattergl"
           }
          ],
          "scattermapbox": [
           {
            "marker": {
             "colorbar": {
              "outlinewidth": 0,
              "ticks": ""
             }
            },
            "type": "scattermapbox"
           }
          ],
          "scatterpolar": [
           {
            "marker": {
             "colorbar": {
              "outlinewidth": 0,
              "ticks": ""
             }
            },
            "type": "scatterpolar"
           }
          ],
          "scatterpolargl": [
           {
            "marker": {
             "colorbar": {
              "outlinewidth": 0,
              "ticks": ""
             }
            },
            "type": "scatterpolargl"
           }
          ],
          "scatterternary": [
           {
            "marker": {
             "colorbar": {
              "outlinewidth": 0,
              "ticks": ""
             }
            },
            "type": "scatterternary"
           }
          ],
          "surface": [
           {
            "colorbar": {
             "outlinewidth": 0,
             "ticks": ""
            },
            "colorscale": [
             [
              0,
              "#0d0887"
             ],
             [
              0.1111111111111111,
              "#46039f"
             ],
             [
              0.2222222222222222,
              "#7201a8"
             ],
             [
              0.3333333333333333,
              "#9c179e"
             ],
             [
              0.4444444444444444,
              "#bd3786"
             ],
             [
              0.5555555555555556,
              "#d8576b"
             ],
             [
              0.6666666666666666,
              "#ed7953"
             ],
             [
              0.7777777777777778,
              "#fb9f3a"
             ],
             [
              0.8888888888888888,
              "#fdca26"
             ],
             [
              1,
              "#f0f921"
             ]
            ],
            "type": "surface"
           }
          ],
          "table": [
           {
            "cells": {
             "fill": {
              "color": "#EBF0F8"
             },
             "line": {
              "color": "white"
             }
            },
            "header": {
             "fill": {
              "color": "#C8D4E3"
             },
             "line": {
              "color": "white"
             }
            },
            "type": "table"
           }
          ]
         },
         "layout": {
          "annotationdefaults": {
           "arrowcolor": "#2a3f5f",
           "arrowhead": 0,
           "arrowwidth": 1
          },
          "autotypenumbers": "strict",
          "coloraxis": {
           "colorbar": {
            "outlinewidth": 0,
            "ticks": ""
           }
          },
          "colorscale": {
           "diverging": [
            [
             0,
             "#8e0152"
            ],
            [
             0.1,
             "#c51b7d"
            ],
            [
             0.2,
             "#de77ae"
            ],
            [
             0.3,
             "#f1b6da"
            ],
            [
             0.4,
             "#fde0ef"
            ],
            [
             0.5,
             "#f7f7f7"
            ],
            [
             0.6,
             "#e6f5d0"
            ],
            [
             0.7,
             "#b8e186"
            ],
            [
             0.8,
             "#7fbc41"
            ],
            [
             0.9,
             "#4d9221"
            ],
            [
             1,
             "#276419"
            ]
           ],
           "sequential": [
            [
             0,
             "#0d0887"
            ],
            [
             0.1111111111111111,
             "#46039f"
            ],
            [
             0.2222222222222222,
             "#7201a8"
            ],
            [
             0.3333333333333333,
             "#9c179e"
            ],
            [
             0.4444444444444444,
             "#bd3786"
            ],
            [
             0.5555555555555556,
             "#d8576b"
            ],
            [
             0.6666666666666666,
             "#ed7953"
            ],
            [
             0.7777777777777778,
             "#fb9f3a"
            ],
            [
             0.8888888888888888,
             "#fdca26"
            ],
            [
             1,
             "#f0f921"
            ]
           ],
           "sequentialminus": [
            [
             0,
             "#0d0887"
            ],
            [
             0.1111111111111111,
             "#46039f"
            ],
            [
             0.2222222222222222,
             "#7201a8"
            ],
            [
             0.3333333333333333,
             "#9c179e"
            ],
            [
             0.4444444444444444,
             "#bd3786"
            ],
            [
             0.5555555555555556,
             "#d8576b"
            ],
            [
             0.6666666666666666,
             "#ed7953"
            ],
            [
             0.7777777777777778,
             "#fb9f3a"
            ],
            [
             0.8888888888888888,
             "#fdca26"
            ],
            [
             1,
             "#f0f921"
            ]
           ]
          },
          "colorway": [
           "#636efa",
           "#EF553B",
           "#00cc96",
           "#ab63fa",
           "#FFA15A",
           "#19d3f3",
           "#FF6692",
           "#B6E880",
           "#FF97FF",
           "#FECB52"
          ],
          "font": {
           "color": "#2a3f5f"
          },
          "geo": {
           "bgcolor": "white",
           "lakecolor": "white",
           "landcolor": "#E5ECF6",
           "showlakes": true,
           "showland": true,
           "subunitcolor": "white"
          },
          "hoverlabel": {
           "align": "left"
          },
          "hovermode": "closest",
          "mapbox": {
           "style": "light"
          },
          "paper_bgcolor": "white",
          "plot_bgcolor": "#E5ECF6",
          "polar": {
           "angularaxis": {
            "gridcolor": "white",
            "linecolor": "white",
            "ticks": ""
           },
           "bgcolor": "#E5ECF6",
           "radialaxis": {
            "gridcolor": "white",
            "linecolor": "white",
            "ticks": ""
           }
          },
          "scene": {
           "xaxis": {
            "backgroundcolor": "#E5ECF6",
            "gridcolor": "white",
            "gridwidth": 2,
            "linecolor": "white",
            "showbackground": true,
            "ticks": "",
            "zerolinecolor": "white"
           },
           "yaxis": {
            "backgroundcolor": "#E5ECF6",
            "gridcolor": "white",
            "gridwidth": 2,
            "linecolor": "white",
            "showbackground": true,
            "ticks": "",
            "zerolinecolor": "white"
           },
           "zaxis": {
            "backgroundcolor": "#E5ECF6",
            "gridcolor": "white",
            "gridwidth": 2,
            "linecolor": "white",
            "showbackground": true,
            "ticks": "",
            "zerolinecolor": "white"
           }
          },
          "shapedefaults": {
           "line": {
            "color": "#2a3f5f"
           }
          },
          "ternary": {
           "aaxis": {
            "gridcolor": "white",
            "linecolor": "white",
            "ticks": ""
           },
           "baxis": {
            "gridcolor": "white",
            "linecolor": "white",
            "ticks": ""
           },
           "bgcolor": "#E5ECF6",
           "caxis": {
            "gridcolor": "white",
            "linecolor": "white",
            "ticks": ""
           }
          },
          "title": {
           "x": 0.05
          },
          "xaxis": {
           "automargin": true,
           "gridcolor": "white",
           "linecolor": "white",
           "ticks": "",
           "title": {
            "standoff": 15
           },
           "zerolinecolor": "white",
           "zerolinewidth": 2
          },
          "yaxis": {
           "automargin": true,
           "gridcolor": "white",
           "linecolor": "white",
           "ticks": "",
           "title": {
            "standoff": 15
           },
           "zerolinecolor": "white",
           "zerolinewidth": 2
          }
         }
        },
        "title": {
         "text": "Location of Top 100 Universities"
        }
       }
      }
     },
     "metadata": {},
     "output_type": "display_data"
    }
   ],
   "source": [
    "fig = px.pie(wru_ranking.head(100), names='Location ', title='Location of Top 100 Universities')\n",
    "fig.show()"
   ]
  },
  {
   "cell_type": "markdown",
   "id": "d5718eac",
   "metadata": {},
   "source": [
    "To answer the third question, we graphed this pie chart to show the distribution of the universities in the dataset by country. We can see that the United States has the most universities in the dataset."
   ]
  },
  {
   "cell_type": "code",
   "execution_count": 80,
   "id": "9ec292a2",
   "metadata": {},
   "outputs": [
    {
     "data": {
      "application/vnd.plotly.v1+json": {
       "config": {
        "plotlyServerURL": "https://plot.ly"
       },
       "data": [
        {
         "hovertemplate": "<b>%{hovertext}</b><br><br>Location =USA<br>National Rank=%{x}<br>World Rank=%{y}<br>Score=%{marker.size}<extra></extra>",
         "hovertext": [
          "Harvard University\r",
          "Massachusetts Institute of Technology\r",
          "Stanford University\r",
          "Princeton University\r",
          "University of Chicago\r",
          "Columbia University\r",
          "University of Pennsylvania\r",
          "Yale University\r",
          "California Institute of Technology\r",
          "University of California, Berkeley\r",
          "Cornell University",
          "Northwestern University",
          "University of Michigan, Ann Arbor",
          "Johns Hopkins University",
          "University of California, Los Angeles",
          "Duke University",
          "University of Illinois at Urbana–Champaign",
          "New York University",
          "University of Washington",
          "University of Wisconsin–Madison",
          "University of California, San Diego",
          "University of Texas at Austin",
          "University of California, San Francisco",
          "University of North Carolina at Chapel Hill",
          "Dartmouth College",
          "Washington University in St. Louis",
          "University of Minnesota - Twin Cities",
          "University of California, Davis",
          "University of Southern California",
          "Pennsylvania State University",
          "Vanderbilt University",
          "Ohio State University",
          "Rockefeller University",
          "Rutgers University",
          "Brown University",
          "Purdue University",
          "University of Colorado Boulder",
          "Georgia Institute of Technology",
          "Texas A&M University, College Station",
          "University of Virginia",
          "University of Texas Southwestern Medical Center",
          "University of Pittsburgh",
          "University of Maryland, College Park",
          "University of California, Irvine",
          "University of Florida",
          "Boston University",
          "University of Rochester",
          "University of Arizona",
          "University of California, Santa Barbara",
          "Carnegie Mellon University"
         ],
         "legendgroup": "USA",
         "marker": {
          "color": "#636efa",
          "size": [
           100,
           96.7,
           95.2,
           92.6,
           92.1,
           91.6,
           91.2,
           90.8,
           90.4,
           90.1,
           89.5,
           89.3,
           89.1,
           88.8,
           88.6,
           88.2,
           87.9,
           87.5,
           87.4,
           87,
           86.3,
           86.2,
           86,
           85.9,
           85.4,
           85.3,
           84.9,
           84.5,
           84.5,
           84.4,
           84.2,
           84,
           83.9,
           83.8,
           83.7,
           83.6,
           83.6,
           83.5,
           83.4,
           83.3,
           83.2,
           83,
           82.8,
           82.7,
           82.5,
           82.3,
           82.2,
           82.1,
           81.9,
           81.9
          ],
          "sizemode": "area",
          "sizeref": 0.25,
          "symbol": "circle"
         },
         "mode": "markers",
         "name": "USA",
         "orientation": "v",
         "showlegend": true,
         "type": "scatter",
         "x": [
          1,
          2,
          3,
          4,
          5,
          6,
          7,
          8,
          9,
          10,
          11,
          12,
          13,
          14,
          15,
          16,
          17,
          18,
          19,
          20,
          21,
          22,
          23,
          24,
          25,
          26,
          27,
          28,
          29,
          30,
          31,
          32,
          33,
          34,
          35,
          36,
          37,
          38,
          39,
          40,
          41,
          42,
          43,
          44,
          45,
          46,
          47,
          48,
          49,
          50
         ],
         "xaxis": "x",
         "y": [
          1,
          2,
          3,
          6,
          7,
          8,
          9,
          10,
          11,
          12,
          14,
          15,
          16,
          17,
          18,
          20,
          22,
          24,
          25,
          28,
          33,
          34,
          36,
          37,
          42,
          43,
          47,
          52,
          53,
          54,
          56,
          60,
          61,
          62,
          64,
          65,
          66,
          67,
          69,
          71,
          73,
          75,
          79,
          82,
          86,
          90,
          91,
          95,
          98,
          99
         ],
         "yaxis": "y"
        },
        {
         "hovertemplate": "<b>%{hovertext}</b><br><br>Location =United Kingdom<br>National Rank=%{x}<br>World Rank=%{y}<br>Score=%{marker.size}<extra></extra>",
         "hovertext": [
          "University of Cambridge\r",
          "University of Oxford\r",
          "University College London",
          "Imperial College London",
          "King's College London",
          "University of Edinburgh",
          "University of Manchester",
          "University of Birmingham",
          "University of Bristol"
         ],
         "legendgroup": "United Kingdom",
         "marker": {
          "color": "#EF553B",
          "size": [
           94.1,
           93.3,
           88.4,
           86.8,
           85.6,
           84.9,
           84.7,
           82.6,
           82.1
          ],
          "sizemode": "area",
          "sizeref": 0.25,
          "symbol": "circle"
         },
         "mode": "markers",
         "name": "United Kingdom",
         "orientation": "v",
         "showlegend": true,
         "type": "scatter",
         "x": [
          1,
          2,
          3,
          4,
          5,
          6,
          7,
          8,
          9
         ],
         "xaxis": "x",
         "y": [
          4,
          5,
          19,
          29,
          40,
          48,
          50,
          84,
          93
         ],
         "yaxis": "y"
        },
        {
         "hovertemplate": "<b>%{hovertext}</b><br><br>Location =Japan<br>National Rank=%{x}<br>World Rank=%{y}<br>Score=%{marker.size}<extra></extra>",
         "hovertext": [
          "University of Tokyo",
          "Kyoto University",
          "Osaka University"
         ],
         "legendgroup": "Japan",
         "marker": {
          "color": "#00cc96",
          "size": [
           89.8,
           87.1,
           81.8
          ],
          "sizemode": "area",
          "sizeref": 0.25,
          "symbol": "circle"
         },
         "mode": "markers",
         "name": "Japan",
         "orientation": "v",
         "showlegend": true,
         "type": "scatter",
         "x": [
          1,
          2,
          3
         ],
         "xaxis": "x",
         "y": [
          13,
          27,
          100
         ],
         "yaxis": "y"
        },
        {
         "hovertemplate": "<b>%{hovertext}</b><br><br>Location =France<br>National Rank=%{x}<br>World Rank=%{y}<br>Score=%{marker.size}<extra></extra>",
         "hovertext": [
          "PSL University",
          "Paris-Saclay University",
          "Paris City University",
          "Sorbonne University",
          "Institut Polytechnique de Paris"
         ],
         "legendgroup": "France",
         "marker": {
          "color": "#ab63fa",
          "size": [
           88,
           86.4,
           85.7,
           85.5,
           85.1
          ],
          "sizemode": "area",
          "sizeref": 0.25,
          "symbol": "circle"
         },
         "mode": "markers",
         "name": "France",
         "orientation": "v",
         "showlegend": true,
         "type": "scatter",
         "x": [
          1,
          2,
          3,
          4,
          5
         ],
         "xaxis": "x",
         "y": [
          21,
          32,
          39,
          41,
          45
         ],
         "yaxis": "y"
        },
        {
         "hovertemplate": "<b>%{hovertext}</b><br><br>Location =Canada<br>National Rank=%{x}<br>World Rank=%{y}<br>Score=%{marker.size}<extra></extra>",
         "hovertext": [
          "University of Toronto",
          "McGill University",
          "University of British Columbia",
          "University of Alberta"
         ],
         "legendgroup": "Canada",
         "marker": {
          "color": "#FFA15A",
          "size": [
           87.7,
           87.2,
           84.6,
           83
          ],
          "sizemode": "area",
          "sizeref": 0.25,
          "symbol": "circle"
         },
         "mode": "markers",
         "name": "Canada",
         "orientation": "v",
         "showlegend": true,
         "type": "scatter",
         "x": [
          1,
          2,
          3,
          4
         ],
         "xaxis": "x",
         "y": [
          23,
          26,
          51,
          76
         ],
         "yaxis": "y"
        },
        {
         "hovertemplate": "<b>%{hovertext}</b><br><br>Location =Switzerland<br>National Rank=%{x}<br>World Rank=%{y}<br>Score=%{marker.size}<extra></extra>",
         "hovertext": [
          "ETH Zurich",
          "University of Zurich",
          "École Polytechnique Fédérale de Lausanne"
         ],
         "legendgroup": "Switzerland",
         "marker": {
          "color": "#19d3f3",
          "size": [
           86.7,
           83.8,
           82
          ],
          "sizemode": "area",
          "sizeref": 0.25,
          "symbol": "circle"
         },
         "mode": "markers",
         "name": "Switzerland",
         "orientation": "v",
         "showlegend": true,
         "type": "scatter",
         "x": [
          1,
          2,
          3
         ],
         "xaxis": "x",
         "y": [
          30,
          63,
          96
         ],
         "yaxis": "y"
        },
        {
         "hovertemplate": "<b>%{hovertext}</b><br><br>Location =South Korea<br>National Rank=%{x}<br>World Rank=%{y}<br>Score=%{marker.size}<extra></extra>",
         "hovertext": [
          "Seoul National University"
         ],
         "legendgroup": "South Korea",
         "marker": {
          "color": "#FF6692",
          "size": [
           86.6
          ],
          "sizemode": "area",
          "sizeref": 0.25,
          "symbol": "circle"
         },
         "mode": "markers",
         "name": "South Korea",
         "orientation": "v",
         "showlegend": true,
         "type": "scatter",
         "x": [
          1
         ],
         "xaxis": "x",
         "y": [
          31
         ],
         "yaxis": "y"
        },
        {
         "hovertemplate": "<b>%{hovertext}</b><br><br>Location =Denmark<br>National Rank=%{x}<br>World Rank=%{y}<br>Score=%{marker.size}<extra></extra>",
         "hovertext": [
          "University of Copenhagen"
         ],
         "legendgroup": "Denmark",
         "marker": {
          "color": "#B6E880",
          "size": [
           86.1
          ],
          "sizemode": "area",
          "sizeref": 0.25,
          "symbol": "circle"
         },
         "mode": "markers",
         "name": "Denmark",
         "orientation": "v",
         "showlegend": true,
         "type": "scatter",
         "x": [
          1
         ],
         "xaxis": "x",
         "y": [
          35
         ],
         "yaxis": "y"
        },
        {
         "hovertemplate": "<b>%{hovertext}</b><br><br>Location =Sweden<br>National Rank=%{x}<br>World Rank=%{y}<br>Score=%{marker.size}<extra></extra>",
         "hovertext": [
          "Karolinska Institute",
          "Uppsala University"
         ],
         "legendgroup": "Sweden",
         "marker": {
          "color": "#FF97FF",
          "size": [
           85.8,
           82.9
          ],
          "sizemode": "area",
          "sizeref": 0.25,
          "symbol": "circle"
         },
         "mode": "markers",
         "name": "Sweden",
         "orientation": "v",
         "showlegend": true,
         "type": "scatter",
         "x": [
          1,
          2
         ],
         "xaxis": "x",
         "y": [
          38,
          77
         ],
         "yaxis": "y"
        },
        {
         "hovertemplate": "<b>%{hovertext}</b><br><br>Location =China<br>National Rank=%{x}<br>World Rank=%{y}<br>Score=%{marker.size}<extra></extra>",
         "hovertext": [
          "Tsinghua University",
          "Peking University",
          "University of Chinese Academy of Sciences",
          "Shanghai Jiao Tong University",
          "Zhejiang University",
          "Fudan University"
         ],
         "legendgroup": "China",
         "marker": {
          "color": "#FECB52",
          "size": [
           85.2,
           84.8,
           84.3,
           83.1,
           82.5,
           82.3
          ],
          "sizemode": "area",
          "sizeref": 0.25,
          "symbol": "circle"
         },
         "mode": "markers",
         "name": "China",
         "orientation": "v",
         "showlegend": true,
         "type": "scatter",
         "x": [
          1,
          2,
          3,
          4,
          5,
          6
         ],
         "xaxis": "x",
         "y": [
          44,
          49,
          55,
          74,
          85,
          89
         ],
         "yaxis": "y"
        },
        {
         "hovertemplate": "<b>%{hovertext}</b><br><br>Location =Germany<br>National Rank=%{x}<br>World Rank=%{y}<br>Score=%{marker.size}<extra></extra>",
         "hovertext": [
          "Ludwig Maximilian University of Munich",
          "Free University of Berlin",
          "Humboldt University of Berlin",
          "Heidelberg University",
          "Technical University of Munich",
          "University of Göttingen"
         ],
         "legendgroup": "Germany",
         "marker": {
          "color": "#636efa",
          "size": [
           85,
           84.1,
           84,
           83.5,
           82.9,
           82
          ],
          "sizemode": "area",
          "sizeref": 0.25,
          "symbol": "circle"
         },
         "mode": "markers",
         "name": "Germany",
         "orientation": "v",
         "showlegend": true,
         "type": "scatter",
         "x": [
          1,
          2,
          3,
          4,
          5,
          6
         ],
         "xaxis": "x",
         "y": [
          46,
          58,
          59,
          68,
          78,
          97
         ],
         "yaxis": "y"
        },
        {
         "hovertemplate": "<b>%{hovertext}</b><br><br>Location =Australia<br>National Rank=%{x}<br>World Rank=%{y}<br>Score=%{marker.size}<extra></extra>",
         "hovertext": [
          "University of Melbourne",
          "University of Sydney"
         ],
         "legendgroup": "Australia",
         "marker": {
          "color": "#EF553B",
          "size": [
           84.2,
           82.2
          ],
          "sizemode": "area",
          "sizeref": 0.25,
          "symbol": "circle"
         },
         "mode": "markers",
         "name": "Australia",
         "orientation": "v",
         "showlegend": true,
         "type": "scatter",
         "x": [
          1,
          2
         ],
         "xaxis": "x",
         "y": [
          57,
          92
         ],
         "yaxis": "y"
        },
        {
         "hovertemplate": "<b>%{hovertext}</b><br><br>Location =Israel<br>National Rank=%{x}<br>World Rank=%{y}<br>Score=%{marker.size}<extra></extra>",
         "hovertext": [
          "Hebrew University of Jerusalem",
          "Weizmann Institute of Science"
         ],
         "legendgroup": "Israel",
         "marker": {
          "color": "#00cc96",
          "size": [
           83.3,
           82.4
          ],
          "sizemode": "area",
          "sizeref": 0.25,
          "symbol": "circle"
         },
         "mode": "markers",
         "name": "Israel",
         "orientation": "v",
         "showlegend": true,
         "type": "scatter",
         "x": [
          1,
          2
         ],
         "xaxis": "x",
         "y": [
          70,
          87
         ],
         "yaxis": "y"
        },
        {
         "hovertemplate": "<b>%{hovertext}</b><br><br>Location =Netherlands<br>National Rank=%{x}<br>World Rank=%{y}<br>Score=%{marker.size}<extra></extra>",
         "hovertext": [
          "Utrecht University",
          "University of Amsterdam",
          "Leiden University",
          "Erasmus University Rotterdam"
         ],
         "legendgroup": "Netherlands",
         "marker": {
          "color": "#ab63fa",
          "size": [
           83.2,
           82.8,
           82.4,
           82.1
          ],
          "sizemode": "area",
          "sizeref": 0.25,
          "symbol": "circle"
         },
         "mode": "markers",
         "name": "Netherlands",
         "orientation": "v",
         "showlegend": true,
         "type": "scatter",
         "x": [
          1,
          2,
          3,
          4
         ],
         "xaxis": "x",
         "y": [
          72,
          80,
          88,
          94
         ],
         "yaxis": "y"
        },
        {
         "hovertemplate": "<b>%{hovertext}</b><br><br>Location =Singapore<br>National Rank=%{x}<br>World Rank=%{y}<br>Score=%{marker.size}<extra></extra>",
         "hovertext": [
          "National University of Singapore"
         ],
         "legendgroup": "Singapore",
         "marker": {
          "color": "#FFA15A",
          "size": [
           82.7
          ],
          "sizemode": "area",
          "sizeref": 0.25,
          "symbol": "circle"
         },
         "mode": "markers",
         "name": "Singapore",
         "orientation": "v",
         "showlegend": true,
         "type": "scatter",
         "x": [
          1
         ],
         "xaxis": "x",
         "y": [
          81
         ],
         "yaxis": "y"
        },
        {
         "hovertemplate": "<b>%{hovertext}</b><br><br>Location =Norway<br>National Rank=%{x}<br>World Rank=%{y}<br>Score=%{marker.size}<extra></extra>",
         "hovertext": [
          "University of Oslo"
         ],
         "legendgroup": "Norway",
         "marker": {
          "color": "#19d3f3",
          "size": [
           82.6
          ],
          "sizemode": "area",
          "sizeref": 0.25,
          "symbol": "circle"
         },
         "mode": "markers",
         "name": "Norway",
         "orientation": "v",
         "showlegend": true,
         "type": "scatter",
         "x": [
          1
         ],
         "xaxis": "x",
         "y": [
          83
         ],
         "yaxis": "y"
        }
       ],
       "layout": {
        "legend": {
         "itemsizing": "constant",
         "title": {
          "text": "Location "
         },
         "tracegroupgap": 0
        },
        "template": {
         "data": {
          "bar": [
           {
            "error_x": {
             "color": "#2a3f5f"
            },
            "error_y": {
             "color": "#2a3f5f"
            },
            "marker": {
             "line": {
              "color": "#E5ECF6",
              "width": 0.5
             },
             "pattern": {
              "fillmode": "overlay",
              "size": 10,
              "solidity": 0.2
             }
            },
            "type": "bar"
           }
          ],
          "barpolar": [
           {
            "marker": {
             "line": {
              "color": "#E5ECF6",
              "width": 0.5
             },
             "pattern": {
              "fillmode": "overlay",
              "size": 10,
              "solidity": 0.2
             }
            },
            "type": "barpolar"
           }
          ],
          "carpet": [
           {
            "aaxis": {
             "endlinecolor": "#2a3f5f",
             "gridcolor": "white",
             "linecolor": "white",
             "minorgridcolor": "white",
             "startlinecolor": "#2a3f5f"
            },
            "baxis": {
             "endlinecolor": "#2a3f5f",
             "gridcolor": "white",
             "linecolor": "white",
             "minorgridcolor": "white",
             "startlinecolor": "#2a3f5f"
            },
            "type": "carpet"
           }
          ],
          "choropleth": [
           {
            "colorbar": {
             "outlinewidth": 0,
             "ticks": ""
            },
            "type": "choropleth"
           }
          ],
          "contour": [
           {
            "colorbar": {
             "outlinewidth": 0,
             "ticks": ""
            },
            "colorscale": [
             [
              0,
              "#0d0887"
             ],
             [
              0.1111111111111111,
              "#46039f"
             ],
             [
              0.2222222222222222,
              "#7201a8"
             ],
             [
              0.3333333333333333,
              "#9c179e"
             ],
             [
              0.4444444444444444,
              "#bd3786"
             ],
             [
              0.5555555555555556,
              "#d8576b"
             ],
             [
              0.6666666666666666,
              "#ed7953"
             ],
             [
              0.7777777777777778,
              "#fb9f3a"
             ],
             [
              0.8888888888888888,
              "#fdca26"
             ],
             [
              1,
              "#f0f921"
             ]
            ],
            "type": "contour"
           }
          ],
          "contourcarpet": [
           {
            "colorbar": {
             "outlinewidth": 0,
             "ticks": ""
            },
            "type": "contourcarpet"
           }
          ],
          "heatmap": [
           {
            "colorbar": {
             "outlinewidth": 0,
             "ticks": ""
            },
            "colorscale": [
             [
              0,
              "#0d0887"
             ],
             [
              0.1111111111111111,
              "#46039f"
             ],
             [
              0.2222222222222222,
              "#7201a8"
             ],
             [
              0.3333333333333333,
              "#9c179e"
             ],
             [
              0.4444444444444444,
              "#bd3786"
             ],
             [
              0.5555555555555556,
              "#d8576b"
             ],
             [
              0.6666666666666666,
              "#ed7953"
             ],
             [
              0.7777777777777778,
              "#fb9f3a"
             ],
             [
              0.8888888888888888,
              "#fdca26"
             ],
             [
              1,
              "#f0f921"
             ]
            ],
            "type": "heatmap"
           }
          ],
          "heatmapgl": [
           {
            "colorbar": {
             "outlinewidth": 0,
             "ticks": ""
            },
            "colorscale": [
             [
              0,
              "#0d0887"
             ],
             [
              0.1111111111111111,
              "#46039f"
             ],
             [
              0.2222222222222222,
              "#7201a8"
             ],
             [
              0.3333333333333333,
              "#9c179e"
             ],
             [
              0.4444444444444444,
              "#bd3786"
             ],
             [
              0.5555555555555556,
              "#d8576b"
             ],
             [
              0.6666666666666666,
              "#ed7953"
             ],
             [
              0.7777777777777778,
              "#fb9f3a"
             ],
             [
              0.8888888888888888,
              "#fdca26"
             ],
             [
              1,
              "#f0f921"
             ]
            ],
            "type": "heatmapgl"
           }
          ],
          "histogram": [
           {
            "marker": {
             "pattern": {
              "fillmode": "overlay",
              "size": 10,
              "solidity": 0.2
             }
            },
            "type": "histogram"
           }
          ],
          "histogram2d": [
           {
            "colorbar": {
             "outlinewidth": 0,
             "ticks": ""
            },
            "colorscale": [
             [
              0,
              "#0d0887"
             ],
             [
              0.1111111111111111,
              "#46039f"
             ],
             [
              0.2222222222222222,
              "#7201a8"
             ],
             [
              0.3333333333333333,
              "#9c179e"
             ],
             [
              0.4444444444444444,
              "#bd3786"
             ],
             [
              0.5555555555555556,
              "#d8576b"
             ],
             [
              0.6666666666666666,
              "#ed7953"
             ],
             [
              0.7777777777777778,
              "#fb9f3a"
             ],
             [
              0.8888888888888888,
              "#fdca26"
             ],
             [
              1,
              "#f0f921"
             ]
            ],
            "type": "histogram2d"
           }
          ],
          "histogram2dcontour": [
           {
            "colorbar": {
             "outlinewidth": 0,
             "ticks": ""
            },
            "colorscale": [
             [
              0,
              "#0d0887"
             ],
             [
              0.1111111111111111,
              "#46039f"
             ],
             [
              0.2222222222222222,
              "#7201a8"
             ],
             [
              0.3333333333333333,
              "#9c179e"
             ],
             [
              0.4444444444444444,
              "#bd3786"
             ],
             [
              0.5555555555555556,
              "#d8576b"
             ],
             [
              0.6666666666666666,
              "#ed7953"
             ],
             [
              0.7777777777777778,
              "#fb9f3a"
             ],
             [
              0.8888888888888888,
              "#fdca26"
             ],
             [
              1,
              "#f0f921"
             ]
            ],
            "type": "histogram2dcontour"
           }
          ],
          "mesh3d": [
           {
            "colorbar": {
             "outlinewidth": 0,
             "ticks": ""
            },
            "type": "mesh3d"
           }
          ],
          "parcoords": [
           {
            "line": {
             "colorbar": {
              "outlinewidth": 0,
              "ticks": ""
             }
            },
            "type": "parcoords"
           }
          ],
          "pie": [
           {
            "automargin": true,
            "type": "pie"
           }
          ],
          "scatter": [
           {
            "fillpattern": {
             "fillmode": "overlay",
             "size": 10,
             "solidity": 0.2
            },
            "type": "scatter"
           }
          ],
          "scatter3d": [
           {
            "line": {
             "colorbar": {
              "outlinewidth": 0,
              "ticks": ""
             }
            },
            "marker": {
             "colorbar": {
              "outlinewidth": 0,
              "ticks": ""
             }
            },
            "type": "scatter3d"
           }
          ],
          "scattercarpet": [
           {
            "marker": {
             "colorbar": {
              "outlinewidth": 0,
              "ticks": ""
             }
            },
            "type": "scattercarpet"
           }
          ],
          "scattergeo": [
           {
            "marker": {
             "colorbar": {
              "outlinewidth": 0,
              "ticks": ""
             }
            },
            "type": "scattergeo"
           }
          ],
          "scattergl": [
           {
            "marker": {
             "colorbar": {
              "outlinewidth": 0,
              "ticks": ""
             }
            },
            "type": "scattergl"
           }
          ],
          "scattermapbox": [
           {
            "marker": {
             "colorbar": {
              "outlinewidth": 0,
              "ticks": ""
             }
            },
            "type": "scattermapbox"
           }
          ],
          "scatterpolar": [
           {
            "marker": {
             "colorbar": {
              "outlinewidth": 0,
              "ticks": ""
             }
            },
            "type": "scatterpolar"
           }
          ],
          "scatterpolargl": [
           {
            "marker": {
             "colorbar": {
              "outlinewidth": 0,
              "ticks": ""
             }
            },
            "type": "scatterpolargl"
           }
          ],
          "scatterternary": [
           {
            "marker": {
             "colorbar": {
              "outlinewidth": 0,
              "ticks": ""
             }
            },
            "type": "scatterternary"
           }
          ],
          "surface": [
           {
            "colorbar": {
             "outlinewidth": 0,
             "ticks": ""
            },
            "colorscale": [
             [
              0,
              "#0d0887"
             ],
             [
              0.1111111111111111,
              "#46039f"
             ],
             [
              0.2222222222222222,
              "#7201a8"
             ],
             [
              0.3333333333333333,
              "#9c179e"
             ],
             [
              0.4444444444444444,
              "#bd3786"
             ],
             [
              0.5555555555555556,
              "#d8576b"
             ],
             [
              0.6666666666666666,
              "#ed7953"
             ],
             [
              0.7777777777777778,
              "#fb9f3a"
             ],
             [
              0.8888888888888888,
              "#fdca26"
             ],
             [
              1,
              "#f0f921"
             ]
            ],
            "type": "surface"
           }
          ],
          "table": [
           {
            "cells": {
             "fill": {
              "color": "#EBF0F8"
             },
             "line": {
              "color": "white"
             }
            },
            "header": {
             "fill": {
              "color": "#C8D4E3"
             },
             "line": {
              "color": "white"
             }
            },
            "type": "table"
           }
          ]
         },
         "layout": {
          "annotationdefaults": {
           "arrowcolor": "#2a3f5f",
           "arrowhead": 0,
           "arrowwidth": 1
          },
          "autotypenumbers": "strict",
          "coloraxis": {
           "colorbar": {
            "outlinewidth": 0,
            "ticks": ""
           }
          },
          "colorscale": {
           "diverging": [
            [
             0,
             "#8e0152"
            ],
            [
             0.1,
             "#c51b7d"
            ],
            [
             0.2,
             "#de77ae"
            ],
            [
             0.3,
             "#f1b6da"
            ],
            [
             0.4,
             "#fde0ef"
            ],
            [
             0.5,
             "#f7f7f7"
            ],
            [
             0.6,
             "#e6f5d0"
            ],
            [
             0.7,
             "#b8e186"
            ],
            [
             0.8,
             "#7fbc41"
            ],
            [
             0.9,
             "#4d9221"
            ],
            [
             1,
             "#276419"
            ]
           ],
           "sequential": [
            [
             0,
             "#0d0887"
            ],
            [
             0.1111111111111111,
             "#46039f"
            ],
            [
             0.2222222222222222,
             "#7201a8"
            ],
            [
             0.3333333333333333,
             "#9c179e"
            ],
            [
             0.4444444444444444,
             "#bd3786"
            ],
            [
             0.5555555555555556,
             "#d8576b"
            ],
            [
             0.6666666666666666,
             "#ed7953"
            ],
            [
             0.7777777777777778,
             "#fb9f3a"
            ],
            [
             0.8888888888888888,
             "#fdca26"
            ],
            [
             1,
             "#f0f921"
            ]
           ],
           "sequentialminus": [
            [
             0,
             "#0d0887"
            ],
            [
             0.1111111111111111,
             "#46039f"
            ],
            [
             0.2222222222222222,
             "#7201a8"
            ],
            [
             0.3333333333333333,
             "#9c179e"
            ],
            [
             0.4444444444444444,
             "#bd3786"
            ],
            [
             0.5555555555555556,
             "#d8576b"
            ],
            [
             0.6666666666666666,
             "#ed7953"
            ],
            [
             0.7777777777777778,
             "#fb9f3a"
            ],
            [
             0.8888888888888888,
             "#fdca26"
            ],
            [
             1,
             "#f0f921"
            ]
           ]
          },
          "colorway": [
           "#636efa",
           "#EF553B",
           "#00cc96",
           "#ab63fa",
           "#FFA15A",
           "#19d3f3",
           "#FF6692",
           "#B6E880",
           "#FF97FF",
           "#FECB52"
          ],
          "font": {
           "color": "#2a3f5f"
          },
          "geo": {
           "bgcolor": "white",
           "lakecolor": "white",
           "landcolor": "#E5ECF6",
           "showlakes": true,
           "showland": true,
           "subunitcolor": "white"
          },
          "hoverlabel": {
           "align": "left"
          },
          "hovermode": "closest",
          "mapbox": {
           "style": "light"
          },
          "paper_bgcolor": "white",
          "plot_bgcolor": "#E5ECF6",
          "polar": {
           "angularaxis": {
            "gridcolor": "white",
            "linecolor": "white",
            "ticks": ""
           },
           "bgcolor": "#E5ECF6",
           "radialaxis": {
            "gridcolor": "white",
            "linecolor": "white",
            "ticks": ""
           }
          },
          "scene": {
           "xaxis": {
            "backgroundcolor": "#E5ECF6",
            "gridcolor": "white",
            "gridwidth": 2,
            "linecolor": "white",
            "showbackground": true,
            "ticks": "",
            "zerolinecolor": "white"
           },
           "yaxis": {
            "backgroundcolor": "#E5ECF6",
            "gridcolor": "white",
            "gridwidth": 2,
            "linecolor": "white",
            "showbackground": true,
            "ticks": "",
            "zerolinecolor": "white"
           },
           "zaxis": {
            "backgroundcolor": "#E5ECF6",
            "gridcolor": "white",
            "gridwidth": 2,
            "linecolor": "white",
            "showbackground": true,
            "ticks": "",
            "zerolinecolor": "white"
           }
          },
          "shapedefaults": {
           "line": {
            "color": "#2a3f5f"
           }
          },
          "ternary": {
           "aaxis": {
            "gridcolor": "white",
            "linecolor": "white",
            "ticks": ""
           },
           "baxis": {
            "gridcolor": "white",
            "linecolor": "white",
            "ticks": ""
           },
           "bgcolor": "#E5ECF6",
           "caxis": {
            "gridcolor": "white",
            "linecolor": "white",
            "ticks": ""
           }
          },
          "title": {
           "x": 0.05
          },
          "xaxis": {
           "automargin": true,
           "gridcolor": "white",
           "linecolor": "white",
           "ticks": "",
           "title": {
            "standoff": 15
           },
           "zerolinecolor": "white",
           "zerolinewidth": 2
          },
          "yaxis": {
           "automargin": true,
           "gridcolor": "white",
           "linecolor": "white",
           "ticks": "",
           "title": {
            "standoff": 15
           },
           "zerolinecolor": "white",
           "zerolinewidth": 2
          }
         }
        },
        "title": {
         "text": "Correlation between National and Global University Rankings"
        },
        "xaxis": {
         "anchor": "y",
         "domain": [
          0,
          1
         ],
         "title": {
          "text": "National Rank"
         }
        },
        "yaxis": {
         "anchor": "x",
         "domain": [
          0,
          1
         ],
         "title": {
          "text": "World Rank"
         }
        }
       }
      }
     },
     "metadata": {},
     "output_type": "display_data"
    }
   ],
   "source": [
    "fig = px.scatter(wru_ranking.head(100), x=\"National Rank\", y=\"World Rank\", \n",
    "                 color=\"Location \", size=\"Score\", hover_name=\"University Names\",\n",
    "                 title=\"Correlation between National and Global University Rankings\")\n",
    "\n",
    "\n",
    "fig.show()"
   ]
  },
  {
   "cell_type": "markdown",
   "id": "2540aa3d",
   "metadata": {},
   "source": [
    "Then from the scatter plot above, we can see how there is a positive correlation between the world rank and the research rank. And we can see the strongest relation between the national rank and the world rank is in the USA, followed by the UK."
   ]
  },
  {
   "cell_type": "code",
   "execution_count": 88,
   "id": "b508c748",
   "metadata": {},
   "outputs": [
    {
     "data": {
      "application/vnd.plotly.v1+json": {
       "config": {
        "plotlyServerURL": "https://plot.ly"
       },
       "data": [
        {
         "alignmentgroup": "True",
         "hovertemplate": "World Rank=%{x}<br>University Names=%{y}<extra></extra>",
         "legendgroup": "",
         "marker": {
          "color": "#636efa",
          "pattern": {
           "shape": ""
          }
         },
         "name": "",
         "offsetgroup": "",
         "orientation": "h",
         "showlegend": false,
         "textposition": "auto",
         "type": "bar",
         "x": [
          1991,
          1992,
          1993,
          1994,
          1995,
          1996,
          1997,
          1998,
          1999,
          2000
         ],
         "xaxis": "x",
         "y": [
          "Hunan University of Technology",
          "Zurich University of Applied Sciences (ZHAW)",
          "Technical University of Košice",
          "Guangdong Ocean University",
          "University of Djillali Liabès, Sidi Bel-Abbès",
          "Chongqing Jiaotong University",
          "University of Arkansas at Little Rock",
          "Van Yüzüncü Yıl University",
          "Bharathidasan University",
          "Gebze Technical University"
         ],
         "yaxis": "y"
        }
       ],
       "layout": {
        "barmode": "relative",
        "legend": {
         "tracegroupgap": 0
        },
        "template": {
         "data": {
          "bar": [
           {
            "error_x": {
             "color": "#2a3f5f"
            },
            "error_y": {
             "color": "#2a3f5f"
            },
            "marker": {
             "line": {
              "color": "#E5ECF6",
              "width": 0.5
             },
             "pattern": {
              "fillmode": "overlay",
              "size": 10,
              "solidity": 0.2
             }
            },
            "type": "bar"
           }
          ],
          "barpolar": [
           {
            "marker": {
             "line": {
              "color": "#E5ECF6",
              "width": 0.5
             },
             "pattern": {
              "fillmode": "overlay",
              "size": 10,
              "solidity": 0.2
             }
            },
            "type": "barpolar"
           }
          ],
          "carpet": [
           {
            "aaxis": {
             "endlinecolor": "#2a3f5f",
             "gridcolor": "white",
             "linecolor": "white",
             "minorgridcolor": "white",
             "startlinecolor": "#2a3f5f"
            },
            "baxis": {
             "endlinecolor": "#2a3f5f",
             "gridcolor": "white",
             "linecolor": "white",
             "minorgridcolor": "white",
             "startlinecolor": "#2a3f5f"
            },
            "type": "carpet"
           }
          ],
          "choropleth": [
           {
            "colorbar": {
             "outlinewidth": 0,
             "ticks": ""
            },
            "type": "choropleth"
           }
          ],
          "contour": [
           {
            "colorbar": {
             "outlinewidth": 0,
             "ticks": ""
            },
            "colorscale": [
             [
              0,
              "#0d0887"
             ],
             [
              0.1111111111111111,
              "#46039f"
             ],
             [
              0.2222222222222222,
              "#7201a8"
             ],
             [
              0.3333333333333333,
              "#9c179e"
             ],
             [
              0.4444444444444444,
              "#bd3786"
             ],
             [
              0.5555555555555556,
              "#d8576b"
             ],
             [
              0.6666666666666666,
              "#ed7953"
             ],
             [
              0.7777777777777778,
              "#fb9f3a"
             ],
             [
              0.8888888888888888,
              "#fdca26"
             ],
             [
              1,
              "#f0f921"
             ]
            ],
            "type": "contour"
           }
          ],
          "contourcarpet": [
           {
            "colorbar": {
             "outlinewidth": 0,
             "ticks": ""
            },
            "type": "contourcarpet"
           }
          ],
          "heatmap": [
           {
            "colorbar": {
             "outlinewidth": 0,
             "ticks": ""
            },
            "colorscale": [
             [
              0,
              "#0d0887"
             ],
             [
              0.1111111111111111,
              "#46039f"
             ],
             [
              0.2222222222222222,
              "#7201a8"
             ],
             [
              0.3333333333333333,
              "#9c179e"
             ],
             [
              0.4444444444444444,
              "#bd3786"
             ],
             [
              0.5555555555555556,
              "#d8576b"
             ],
             [
              0.6666666666666666,
              "#ed7953"
             ],
             [
              0.7777777777777778,
              "#fb9f3a"
             ],
             [
              0.8888888888888888,
              "#fdca26"
             ],
             [
              1,
              "#f0f921"
             ]
            ],
            "type": "heatmap"
           }
          ],
          "heatmapgl": [
           {
            "colorbar": {
             "outlinewidth": 0,
             "ticks": ""
            },
            "colorscale": [
             [
              0,
              "#0d0887"
             ],
             [
              0.1111111111111111,
              "#46039f"
             ],
             [
              0.2222222222222222,
              "#7201a8"
             ],
             [
              0.3333333333333333,
              "#9c179e"
             ],
             [
              0.4444444444444444,
              "#bd3786"
             ],
             [
              0.5555555555555556,
              "#d8576b"
             ],
             [
              0.6666666666666666,
              "#ed7953"
             ],
             [
              0.7777777777777778,
              "#fb9f3a"
             ],
             [
              0.8888888888888888,
              "#fdca26"
             ],
             [
              1,
              "#f0f921"
             ]
            ],
            "type": "heatmapgl"
           }
          ],
          "histogram": [
           {
            "marker": {
             "pattern": {
              "fillmode": "overlay",
              "size": 10,
              "solidity": 0.2
             }
            },
            "type": "histogram"
           }
          ],
          "histogram2d": [
           {
            "colorbar": {
             "outlinewidth": 0,
             "ticks": ""
            },
            "colorscale": [
             [
              0,
              "#0d0887"
             ],
             [
              0.1111111111111111,
              "#46039f"
             ],
             [
              0.2222222222222222,
              "#7201a8"
             ],
             [
              0.3333333333333333,
              "#9c179e"
             ],
             [
              0.4444444444444444,
              "#bd3786"
             ],
             [
              0.5555555555555556,
              "#d8576b"
             ],
             [
              0.6666666666666666,
              "#ed7953"
             ],
             [
              0.7777777777777778,
              "#fb9f3a"
             ],
             [
              0.8888888888888888,
              "#fdca26"
             ],
             [
              1,
              "#f0f921"
             ]
            ],
            "type": "histogram2d"
           }
          ],
          "histogram2dcontour": [
           {
            "colorbar": {
             "outlinewidth": 0,
             "ticks": ""
            },
            "colorscale": [
             [
              0,
              "#0d0887"
             ],
             [
              0.1111111111111111,
              "#46039f"
             ],
             [
              0.2222222222222222,
              "#7201a8"
             ],
             [
              0.3333333333333333,
              "#9c179e"
             ],
             [
              0.4444444444444444,
              "#bd3786"
             ],
             [
              0.5555555555555556,
              "#d8576b"
             ],
             [
              0.6666666666666666,
              "#ed7953"
             ],
             [
              0.7777777777777778,
              "#fb9f3a"
             ],
             [
              0.8888888888888888,
              "#fdca26"
             ],
             [
              1,
              "#f0f921"
             ]
            ],
            "type": "histogram2dcontour"
           }
          ],
          "mesh3d": [
           {
            "colorbar": {
             "outlinewidth": 0,
             "ticks": ""
            },
            "type": "mesh3d"
           }
          ],
          "parcoords": [
           {
            "line": {
             "colorbar": {
              "outlinewidth": 0,
              "ticks": ""
             }
            },
            "type": "parcoords"
           }
          ],
          "pie": [
           {
            "automargin": true,
            "type": "pie"
           }
          ],
          "scatter": [
           {
            "fillpattern": {
             "fillmode": "overlay",
             "size": 10,
             "solidity": 0.2
            },
            "type": "scatter"
           }
          ],
          "scatter3d": [
           {
            "line": {
             "colorbar": {
              "outlinewidth": 0,
              "ticks": ""
             }
            },
            "marker": {
             "colorbar": {
              "outlinewidth": 0,
              "ticks": ""
             }
            },
            "type": "scatter3d"
           }
          ],
          "scattercarpet": [
           {
            "marker": {
             "colorbar": {
              "outlinewidth": 0,
              "ticks": ""
             }
            },
            "type": "scattercarpet"
           }
          ],
          "scattergeo": [
           {
            "marker": {
             "colorbar": {
              "outlinewidth": 0,
              "ticks": ""
             }
            },
            "type": "scattergeo"
           }
          ],
          "scattergl": [
           {
            "marker": {
             "colorbar": {
              "outlinewidth": 0,
              "ticks": ""
             }
            },
            "type": "scattergl"
           }
          ],
          "scattermapbox": [
           {
            "marker": {
             "colorbar": {
              "outlinewidth": 0,
              "ticks": ""
             }
            },
            "type": "scattermapbox"
           }
          ],
          "scatterpolar": [
           {
            "marker": {
             "colorbar": {
              "outlinewidth": 0,
              "ticks": ""
             }
            },
            "type": "scatterpolar"
           }
          ],
          "scatterpolargl": [
           {
            "marker": {
             "colorbar": {
              "outlinewidth": 0,
              "ticks": ""
             }
            },
            "type": "scatterpolargl"
           }
          ],
          "scatterternary": [
           {
            "marker": {
             "colorbar": {
              "outlinewidth": 0,
              "ticks": ""
             }
            },
            "type": "scatterternary"
           }
          ],
          "surface": [
           {
            "colorbar": {
             "outlinewidth": 0,
             "ticks": ""
            },
            "colorscale": [
             [
              0,
              "#0d0887"
             ],
             [
              0.1111111111111111,
              "#46039f"
             ],
             [
              0.2222222222222222,
              "#7201a8"
             ],
             [
              0.3333333333333333,
              "#9c179e"
             ],
             [
              0.4444444444444444,
              "#bd3786"
             ],
             [
              0.5555555555555556,
              "#d8576b"
             ],
             [
              0.6666666666666666,
              "#ed7953"
             ],
             [
              0.7777777777777778,
              "#fb9f3a"
             ],
             [
              0.8888888888888888,
              "#fdca26"
             ],
             [
              1,
              "#f0f921"
             ]
            ],
            "type": "surface"
           }
          ],
          "table": [
           {
            "cells": {
             "fill": {
              "color": "#EBF0F8"
             },
             "line": {
              "color": "white"
             }
            },
            "header": {
             "fill": {
              "color": "#C8D4E3"
             },
             "line": {
              "color": "white"
             }
            },
            "type": "table"
           }
          ]
         },
         "layout": {
          "annotationdefaults": {
           "arrowcolor": "#2a3f5f",
           "arrowhead": 0,
           "arrowwidth": 1
          },
          "autotypenumbers": "strict",
          "coloraxis": {
           "colorbar": {
            "outlinewidth": 0,
            "ticks": ""
           }
          },
          "colorscale": {
           "diverging": [
            [
             0,
             "#8e0152"
            ],
            [
             0.1,
             "#c51b7d"
            ],
            [
             0.2,
             "#de77ae"
            ],
            [
             0.3,
             "#f1b6da"
            ],
            [
             0.4,
             "#fde0ef"
            ],
            [
             0.5,
             "#f7f7f7"
            ],
            [
             0.6,
             "#e6f5d0"
            ],
            [
             0.7,
             "#b8e186"
            ],
            [
             0.8,
             "#7fbc41"
            ],
            [
             0.9,
             "#4d9221"
            ],
            [
             1,
             "#276419"
            ]
           ],
           "sequential": [
            [
             0,
             "#0d0887"
            ],
            [
             0.1111111111111111,
             "#46039f"
            ],
            [
             0.2222222222222222,
             "#7201a8"
            ],
            [
             0.3333333333333333,
             "#9c179e"
            ],
            [
             0.4444444444444444,
             "#bd3786"
            ],
            [
             0.5555555555555556,
             "#d8576b"
            ],
            [
             0.6666666666666666,
             "#ed7953"
            ],
            [
             0.7777777777777778,
             "#fb9f3a"
            ],
            [
             0.8888888888888888,
             "#fdca26"
            ],
            [
             1,
             "#f0f921"
            ]
           ],
           "sequentialminus": [
            [
             0,
             "#0d0887"
            ],
            [
             0.1111111111111111,
             "#46039f"
            ],
            [
             0.2222222222222222,
             "#7201a8"
            ],
            [
             0.3333333333333333,
             "#9c179e"
            ],
            [
             0.4444444444444444,
             "#bd3786"
            ],
            [
             0.5555555555555556,
             "#d8576b"
            ],
            [
             0.6666666666666666,
             "#ed7953"
            ],
            [
             0.7777777777777778,
             "#fb9f3a"
            ],
            [
             0.8888888888888888,
             "#fdca26"
            ],
            [
             1,
             "#f0f921"
            ]
           ]
          },
          "colorway": [
           "#636efa",
           "#EF553B",
           "#00cc96",
           "#ab63fa",
           "#FFA15A",
           "#19d3f3",
           "#FF6692",
           "#B6E880",
           "#FF97FF",
           "#FECB52"
          ],
          "font": {
           "color": "#2a3f5f"
          },
          "geo": {
           "bgcolor": "white",
           "lakecolor": "white",
           "landcolor": "#E5ECF6",
           "showlakes": true,
           "showland": true,
           "subunitcolor": "white"
          },
          "hoverlabel": {
           "align": "left"
          },
          "hovermode": "closest",
          "mapbox": {
           "style": "light"
          },
          "paper_bgcolor": "white",
          "plot_bgcolor": "#E5ECF6",
          "polar": {
           "angularaxis": {
            "gridcolor": "white",
            "linecolor": "white",
            "ticks": ""
           },
           "bgcolor": "#E5ECF6",
           "radialaxis": {
            "gridcolor": "white",
            "linecolor": "white",
            "ticks": ""
           }
          },
          "scene": {
           "xaxis": {
            "backgroundcolor": "#E5ECF6",
            "gridcolor": "white",
            "gridwidth": 2,
            "linecolor": "white",
            "showbackground": true,
            "ticks": "",
            "zerolinecolor": "white"
           },
           "yaxis": {
            "backgroundcolor": "#E5ECF6",
            "gridcolor": "white",
            "gridwidth": 2,
            "linecolor": "white",
            "showbackground": true,
            "ticks": "",
            "zerolinecolor": "white"
           },
           "zaxis": {
            "backgroundcolor": "#E5ECF6",
            "gridcolor": "white",
            "gridwidth": 2,
            "linecolor": "white",
            "showbackground": true,
            "ticks": "",
            "zerolinecolor": "white"
           }
          },
          "shapedefaults": {
           "line": {
            "color": "#2a3f5f"
           }
          },
          "ternary": {
           "aaxis": {
            "gridcolor": "white",
            "linecolor": "white",
            "ticks": ""
           },
           "baxis": {
            "gridcolor": "white",
            "linecolor": "white",
            "ticks": ""
           },
           "bgcolor": "#E5ECF6",
           "caxis": {
            "gridcolor": "white",
            "linecolor": "white",
            "ticks": ""
           }
          },
          "title": {
           "x": 0.05
          },
          "xaxis": {
           "automargin": true,
           "gridcolor": "white",
           "linecolor": "white",
           "ticks": "",
           "title": {
            "standoff": 15
           },
           "zerolinecolor": "white",
           "zerolinewidth": 2
          },
          "yaxis": {
           "automargin": true,
           "gridcolor": "white",
           "linecolor": "white",
           "ticks": "",
           "title": {
            "standoff": 15
           },
           "zerolinecolor": "white",
           "zerolinewidth": 2
          }
         }
        },
        "title": {
         "text": "Top 10 Universities"
        },
        "xaxis": {
         "anchor": "y",
         "domain": [
          0,
          1
         ],
         "title": {
          "text": "World Rank"
         }
        },
        "yaxis": {
         "anchor": "x",
         "domain": [
          0,
          1
         ],
         "title": {
          "text": "University Names"
         }
        }
       }
      }
     },
     "metadata": {},
     "output_type": "display_data"
    }
   ],
   "source": [
    "top_10_universities = wru_ranking.sort_values(by='World Rank', ascending=True).tail(10)\n",
    "fig = px.bar(top_10_universities, x='World Rank', y='University Names', orientation='h',\n",
    "             title='Top 10 Universities', labels={'World Rank': 'World Rank'})\n",
    "fig.show()"
   ]
  },
  {
   "cell_type": "markdown",
   "id": "5fa2d310",
   "metadata": {},
   "source": [
    "This bar plot answers an extra question on what 10 universities ranks the least in the top 2000 universities.\n"
   ]
  },
  {
   "cell_type": "code",
   "execution_count": 112,
   "id": "aa8c37ae",
   "metadata": {},
   "outputs": [
    {
     "data": {
      "application/vnd.plotly.v1+json": {
       "config": {
        "plotlyServerURL": "https://plot.ly"
       },
       "data": [
        {
         "alignmentgroup": "True",
         "hovertemplate": "World Rank=%{x}<br>University Names=%{y}<extra></extra>",
         "legendgroup": "",
         "marker": {
          "color": "#636efa",
          "pattern": {
           "shape": ""
          }
         },
         "name": "",
         "offsetgroup": "",
         "orientation": "h",
         "showlegend": false,
         "textposition": "auto",
         "type": "bar",
         "x": [
          1711,
          1586,
          1547,
          1509,
          1447,
          1311,
          657,
          352,
          279,
          245
         ],
         "xaxis": "x",
         "y": [
          "Prince Sattam Bin Abdulaziz University",
          "Taibah University",
          "Imam Abdulrahman Bin Faisal University",
          "Taif University",
          "King Khalid University",
          "King Saud bin Abdulaziz University for Health Sciences",
          "King Fahd University of Petroleum and Minerals",
          "King Saud University",
          "King Abdullah University of Science and Technology",
          "King Abdulaziz University"
         ],
         "yaxis": "y"
        }
       ],
       "layout": {
        "barmode": "relative",
        "legend": {
         "tracegroupgap": 0
        },
        "template": {
         "data": {
          "bar": [
           {
            "error_x": {
             "color": "#2a3f5f"
            },
            "error_y": {
             "color": "#2a3f5f"
            },
            "marker": {
             "line": {
              "color": "#E5ECF6",
              "width": 0.5
             },
             "pattern": {
              "fillmode": "overlay",
              "size": 10,
              "solidity": 0.2
             }
            },
            "type": "bar"
           }
          ],
          "barpolar": [
           {
            "marker": {
             "line": {
              "color": "#E5ECF6",
              "width": 0.5
             },
             "pattern": {
              "fillmode": "overlay",
              "size": 10,
              "solidity": 0.2
             }
            },
            "type": "barpolar"
           }
          ],
          "carpet": [
           {
            "aaxis": {
             "endlinecolor": "#2a3f5f",
             "gridcolor": "white",
             "linecolor": "white",
             "minorgridcolor": "white",
             "startlinecolor": "#2a3f5f"
            },
            "baxis": {
             "endlinecolor": "#2a3f5f",
             "gridcolor": "white",
             "linecolor": "white",
             "minorgridcolor": "white",
             "startlinecolor": "#2a3f5f"
            },
            "type": "carpet"
           }
          ],
          "choropleth": [
           {
            "colorbar": {
             "outlinewidth": 0,
             "ticks": ""
            },
            "type": "choropleth"
           }
          ],
          "contour": [
           {
            "colorbar": {
             "outlinewidth": 0,
             "ticks": ""
            },
            "colorscale": [
             [
              0,
              "#0d0887"
             ],
             [
              0.1111111111111111,
              "#46039f"
             ],
             [
              0.2222222222222222,
              "#7201a8"
             ],
             [
              0.3333333333333333,
              "#9c179e"
             ],
             [
              0.4444444444444444,
              "#bd3786"
             ],
             [
              0.5555555555555556,
              "#d8576b"
             ],
             [
              0.6666666666666666,
              "#ed7953"
             ],
             [
              0.7777777777777778,
              "#fb9f3a"
             ],
             [
              0.8888888888888888,
              "#fdca26"
             ],
             [
              1,
              "#f0f921"
             ]
            ],
            "type": "contour"
           }
          ],
          "contourcarpet": [
           {
            "colorbar": {
             "outlinewidth": 0,
             "ticks": ""
            },
            "type": "contourcarpet"
           }
          ],
          "heatmap": [
           {
            "colorbar": {
             "outlinewidth": 0,
             "ticks": ""
            },
            "colorscale": [
             [
              0,
              "#0d0887"
             ],
             [
              0.1111111111111111,
              "#46039f"
             ],
             [
              0.2222222222222222,
              "#7201a8"
             ],
             [
              0.3333333333333333,
              "#9c179e"
             ],
             [
              0.4444444444444444,
              "#bd3786"
             ],
             [
              0.5555555555555556,
              "#d8576b"
             ],
             [
              0.6666666666666666,
              "#ed7953"
             ],
             [
              0.7777777777777778,
              "#fb9f3a"
             ],
             [
              0.8888888888888888,
              "#fdca26"
             ],
             [
              1,
              "#f0f921"
             ]
            ],
            "type": "heatmap"
           }
          ],
          "heatmapgl": [
           {
            "colorbar": {
             "outlinewidth": 0,
             "ticks": ""
            },
            "colorscale": [
             [
              0,
              "#0d0887"
             ],
             [
              0.1111111111111111,
              "#46039f"
             ],
             [
              0.2222222222222222,
              "#7201a8"
             ],
             [
              0.3333333333333333,
              "#9c179e"
             ],
             [
              0.4444444444444444,
              "#bd3786"
             ],
             [
              0.5555555555555556,
              "#d8576b"
             ],
             [
              0.6666666666666666,
              "#ed7953"
             ],
             [
              0.7777777777777778,
              "#fb9f3a"
             ],
             [
              0.8888888888888888,
              "#fdca26"
             ],
             [
              1,
              "#f0f921"
             ]
            ],
            "type": "heatmapgl"
           }
          ],
          "histogram": [
           {
            "marker": {
             "pattern": {
              "fillmode": "overlay",
              "size": 10,
              "solidity": 0.2
             }
            },
            "type": "histogram"
           }
          ],
          "histogram2d": [
           {
            "colorbar": {
             "outlinewidth": 0,
             "ticks": ""
            },
            "colorscale": [
             [
              0,
              "#0d0887"
             ],
             [
              0.1111111111111111,
              "#46039f"
             ],
             [
              0.2222222222222222,
              "#7201a8"
             ],
             [
              0.3333333333333333,
              "#9c179e"
             ],
             [
              0.4444444444444444,
              "#bd3786"
             ],
             [
              0.5555555555555556,
              "#d8576b"
             ],
             [
              0.6666666666666666,
              "#ed7953"
             ],
             [
              0.7777777777777778,
              "#fb9f3a"
             ],
             [
              0.8888888888888888,
              "#fdca26"
             ],
             [
              1,
              "#f0f921"
             ]
            ],
            "type": "histogram2d"
           }
          ],
          "histogram2dcontour": [
           {
            "colorbar": {
             "outlinewidth": 0,
             "ticks": ""
            },
            "colorscale": [
             [
              0,
              "#0d0887"
             ],
             [
              0.1111111111111111,
              "#46039f"
             ],
             [
              0.2222222222222222,
              "#7201a8"
             ],
             [
              0.3333333333333333,
              "#9c179e"
             ],
             [
              0.4444444444444444,
              "#bd3786"
             ],
             [
              0.5555555555555556,
              "#d8576b"
             ],
             [
              0.6666666666666666,
              "#ed7953"
             ],
             [
              0.7777777777777778,
              "#fb9f3a"
             ],
             [
              0.8888888888888888,
              "#fdca26"
             ],
             [
              1,
              "#f0f921"
             ]
            ],
            "type": "histogram2dcontour"
           }
          ],
          "mesh3d": [
           {
            "colorbar": {
             "outlinewidth": 0,
             "ticks": ""
            },
            "type": "mesh3d"
           }
          ],
          "parcoords": [
           {
            "line": {
             "colorbar": {
              "outlinewidth": 0,
              "ticks": ""
             }
            },
            "type": "parcoords"
           }
          ],
          "pie": [
           {
            "automargin": true,
            "type": "pie"
           }
          ],
          "scatter": [
           {
            "fillpattern": {
             "fillmode": "overlay",
             "size": 10,
             "solidity": 0.2
            },
            "type": "scatter"
           }
          ],
          "scatter3d": [
           {
            "line": {
             "colorbar": {
              "outlinewidth": 0,
              "ticks": ""
             }
            },
            "marker": {
             "colorbar": {
              "outlinewidth": 0,
              "ticks": ""
             }
            },
            "type": "scatter3d"
           }
          ],
          "scattercarpet": [
           {
            "marker": {
             "colorbar": {
              "outlinewidth": 0,
              "ticks": ""
             }
            },
            "type": "scattercarpet"
           }
          ],
          "scattergeo": [
           {
            "marker": {
             "colorbar": {
              "outlinewidth": 0,
              "ticks": ""
             }
            },
            "type": "scattergeo"
           }
          ],
          "scattergl": [
           {
            "marker": {
             "colorbar": {
              "outlinewidth": 0,
              "ticks": ""
             }
            },
            "type": "scattergl"
           }
          ],
          "scattermapbox": [
           {
            "marker": {
             "colorbar": {
              "outlinewidth": 0,
              "ticks": ""
             }
            },
            "type": "scattermapbox"
           }
          ],
          "scatterpolar": [
           {
            "marker": {
             "colorbar": {
              "outlinewidth": 0,
              "ticks": ""
             }
            },
            "type": "scatterpolar"
           }
          ],
          "scatterpolargl": [
           {
            "marker": {
             "colorbar": {
              "outlinewidth": 0,
              "ticks": ""
             }
            },
            "type": "scatterpolargl"
           }
          ],
          "scatterternary": [
           {
            "marker": {
             "colorbar": {
              "outlinewidth": 0,
              "ticks": ""
             }
            },
            "type": "scatterternary"
           }
          ],
          "surface": [
           {
            "colorbar": {
             "outlinewidth": 0,
             "ticks": ""
            },
            "colorscale": [
             [
              0,
              "#0d0887"
             ],
             [
              0.1111111111111111,
              "#46039f"
             ],
             [
              0.2222222222222222,
              "#7201a8"
             ],
             [
              0.3333333333333333,
              "#9c179e"
             ],
             [
              0.4444444444444444,
              "#bd3786"
             ],
             [
              0.5555555555555556,
              "#d8576b"
             ],
             [
              0.6666666666666666,
              "#ed7953"
             ],
             [
              0.7777777777777778,
              "#fb9f3a"
             ],
             [
              0.8888888888888888,
              "#fdca26"
             ],
             [
              1,
              "#f0f921"
             ]
            ],
            "type": "surface"
           }
          ],
          "table": [
           {
            "cells": {
             "fill": {
              "color": "#EBF0F8"
             },
             "line": {
              "color": "white"
             }
            },
            "header": {
             "fill": {
              "color": "#C8D4E3"
             },
             "line": {
              "color": "white"
             }
            },
            "type": "table"
           }
          ]
         },
         "layout": {
          "annotationdefaults": {
           "arrowcolor": "#2a3f5f",
           "arrowhead": 0,
           "arrowwidth": 1
          },
          "autotypenumbers": "strict",
          "coloraxis": {
           "colorbar": {
            "outlinewidth": 0,
            "ticks": ""
           }
          },
          "colorscale": {
           "diverging": [
            [
             0,
             "#8e0152"
            ],
            [
             0.1,
             "#c51b7d"
            ],
            [
             0.2,
             "#de77ae"
            ],
            [
             0.3,
             "#f1b6da"
            ],
            [
             0.4,
             "#fde0ef"
            ],
            [
             0.5,
             "#f7f7f7"
            ],
            [
             0.6,
             "#e6f5d0"
            ],
            [
             0.7,
             "#b8e186"
            ],
            [
             0.8,
             "#7fbc41"
            ],
            [
             0.9,
             "#4d9221"
            ],
            [
             1,
             "#276419"
            ]
           ],
           "sequential": [
            [
             0,
             "#0d0887"
            ],
            [
             0.1111111111111111,
             "#46039f"
            ],
            [
             0.2222222222222222,
             "#7201a8"
            ],
            [
             0.3333333333333333,
             "#9c179e"
            ],
            [
             0.4444444444444444,
             "#bd3786"
            ],
            [
             0.5555555555555556,
             "#d8576b"
            ],
            [
             0.6666666666666666,
             "#ed7953"
            ],
            [
             0.7777777777777778,
             "#fb9f3a"
            ],
            [
             0.8888888888888888,
             "#fdca26"
            ],
            [
             1,
             "#f0f921"
            ]
           ],
           "sequentialminus": [
            [
             0,
             "#0d0887"
            ],
            [
             0.1111111111111111,
             "#46039f"
            ],
            [
             0.2222222222222222,
             "#7201a8"
            ],
            [
             0.3333333333333333,
             "#9c179e"
            ],
            [
             0.4444444444444444,
             "#bd3786"
            ],
            [
             0.5555555555555556,
             "#d8576b"
            ],
            [
             0.6666666666666666,
             "#ed7953"
            ],
            [
             0.7777777777777778,
             "#fb9f3a"
            ],
            [
             0.8888888888888888,
             "#fdca26"
            ],
            [
             1,
             "#f0f921"
            ]
           ]
          },
          "colorway": [
           "#636efa",
           "#EF553B",
           "#00cc96",
           "#ab63fa",
           "#FFA15A",
           "#19d3f3",
           "#FF6692",
           "#B6E880",
           "#FF97FF",
           "#FECB52"
          ],
          "font": {
           "color": "#2a3f5f"
          },
          "geo": {
           "bgcolor": "white",
           "lakecolor": "white",
           "landcolor": "#E5ECF6",
           "showlakes": true,
           "showland": true,
           "subunitcolor": "white"
          },
          "hoverlabel": {
           "align": "left"
          },
          "hovermode": "closest",
          "mapbox": {
           "style": "light"
          },
          "paper_bgcolor": "white",
          "plot_bgcolor": "#E5ECF6",
          "polar": {
           "angularaxis": {
            "gridcolor": "white",
            "linecolor": "white",
            "ticks": ""
           },
           "bgcolor": "#E5ECF6",
           "radialaxis": {
            "gridcolor": "white",
            "linecolor": "white",
            "ticks": ""
           }
          },
          "scene": {
           "xaxis": {
            "backgroundcolor": "#E5ECF6",
            "gridcolor": "white",
            "gridwidth": 2,
            "linecolor": "white",
            "showbackground": true,
            "ticks": "",
            "zerolinecolor": "white"
           },
           "yaxis": {
            "backgroundcolor": "#E5ECF6",
            "gridcolor": "white",
            "gridwidth": 2,
            "linecolor": "white",
            "showbackground": true,
            "ticks": "",
            "zerolinecolor": "white"
           },
           "zaxis": {
            "backgroundcolor": "#E5ECF6",
            "gridcolor": "white",
            "gridwidth": 2,
            "linecolor": "white",
            "showbackground": true,
            "ticks": "",
            "zerolinecolor": "white"
           }
          },
          "shapedefaults": {
           "line": {
            "color": "#2a3f5f"
           }
          },
          "ternary": {
           "aaxis": {
            "gridcolor": "white",
            "linecolor": "white",
            "ticks": ""
           },
           "baxis": {
            "gridcolor": "white",
            "linecolor": "white",
            "ticks": ""
           },
           "bgcolor": "#E5ECF6",
           "caxis": {
            "gridcolor": "white",
            "linecolor": "white",
            "ticks": ""
           }
          },
          "title": {
           "x": 0.05
          },
          "xaxis": {
           "automargin": true,
           "gridcolor": "white",
           "linecolor": "white",
           "ticks": "",
           "title": {
            "standoff": 15
           },
           "zerolinecolor": "white",
           "zerolinewidth": 2
          },
          "yaxis": {
           "automargin": true,
           "gridcolor": "white",
           "linecolor": "white",
           "ticks": "",
           "title": {
            "standoff": 15
           },
           "zerolinecolor": "white",
           "zerolinewidth": 2
          }
         }
        },
        "title": {
         "text": "Top 10 Universities in Saudi Arabia"
        },
        "xaxis": {
         "anchor": "y",
         "domain": [
          0,
          1
         ],
         "title": {
          "text": "World Rank"
         }
        },
        "yaxis": {
         "anchor": "x",
         "domain": [
          0,
          1
         ],
         "title": {
          "text": "University Names"
         }
        }
       }
      }
     },
     "metadata": {},
     "output_type": "display_data"
    }
   ],
   "source": [
    "wru_saudi = wru_ranking[wru_ranking['Location '] == 'Saudi Arabia']\n",
    "top_10_saudi = wru_saudi.sort_values(by='World Rank', ascending=False).tail(10)\n",
    "fig = px.bar(top_10_saudi, x='World Rank', y='University Names', orientation='h',\n",
    "             title='Top 10 Universities in Saudi Arabia', labels={'World Rank': 'World Rank'})\n",
    "fig.show()"
   ]
  },
  {
   "cell_type": "markdown",
   "id": "fcf3d89e",
   "metadata": {},
   "source": [
    "This barplot answers an extra question on the top 10 ranked universities in saudi arabia."
   ]
  }
 ],
 "metadata": {
  "kernelspec": {
   "display_name": "Python 3 (ipykernel)",
   "language": "python",
   "name": "python3"
  },
  "language_info": {
   "codemirror_mode": {
    "name": "ipython",
    "version": 3
   },
   "file_extension": ".py",
   "mimetype": "text/x-python",
   "name": "python",
   "nbconvert_exporter": "python",
   "pygments_lexer": "ipython3",
   "version": "3.9.13"
  }
 },
 "nbformat": 4,
 "nbformat_minor": 5
}
